{
  "nbformat": 4,
  "nbformat_minor": 0,
  "metadata": {
    "colab": {
      "provenance": []
    },
    "kernelspec": {
      "name": "python3",
      "display_name": "Python 3"
    },
    "language_info": {
      "name": "python"
    }
  },
  "cells": [
    {
      "cell_type": "code",
      "execution_count": null,
      "metadata": {
        "colab": {
          "base_uri": "https://localhost:8080/"
        },
        "id": "wkSFjDkb1AJZ",
        "outputId": "daaf37ef-b728-4ce8-ae18-7f3d2ad1f112"
      },
      "outputs": [
        {
          "output_type": "stream",
          "name": "stdout",
          "text": [
            "CPU times: user 20 ms, sys: 3.81 ms, total: 23.8 ms\n",
            "Wall time: 37.3 ms\n"
          ]
        }
      ],
      "source": [
        "3import numpy as np\n",
        "my_arr = np.arange(1000000)#含1million 陣列\n",
        "my_list = list(range(1000000))#1million 整數list\n",
        "##將兩者所有元素乘上二54\n",
        "%time for _ in range(10): my_arr2=my_arr * 2"
      ]
    },
    {
      "cell_type": "code",
      "source": [
        "%time for _ in range(10): my_list2=[x * 2 for x in my_list]\n",
        "#故numpy的計算速度更快"
      ],
      "metadata": {
        "colab": {
          "base_uri": "https://localhost:8080/"
        },
        "id": "AdJOdk5I2H5H",
        "outputId": "f2689e72-e0c2-41b4-bc5e-01ce5b946da6"
      },
      "execution_count": null,
      "outputs": [
        {
          "output_type": "stream",
          "name": "stdout",
          "text": [
            "CPU times: user 826 ms, sys: 241 ms, total: 1.07 s\n",
            "Wall time: 1.08 s\n"
          ]
        }
      ]
    },
    {
      "cell_type": "markdown",
      "source": [
        "# NumpPy ndarrary: 多維陣列物件"
      ],
      "metadata": {
        "id": "wX2eO1iE2voD"
      }
    },
    {
      "cell_type": "markdown",
      "source": [
        "## 產生隨機資料"
      ],
      "metadata": {
        "id": "xmi-9xNWRMKV"
      }
    },
    {
      "cell_type": "code",
      "source": [
        "import numpy as np\n",
        "\n",
        "#產生隨機資料\n",
        "data = np.random.randn(2,3)\n",
        "data"
      ],
      "metadata": {
        "colab": {
          "base_uri": "https://localhost:8080/"
        },
        "id": "NIrFpiB92lzz",
        "outputId": "d2228940-4b23-4979-f8b8-cd6750960ece"
      },
      "execution_count": null,
      "outputs": [
        {
          "output_type": "execute_result",
          "data": {
            "text/plain": [
              "array([[-0.16997209,  1.81450379,  0.91690724],\n",
              "       [ 0.83959737, -0.28981429, -0.30155388]])"
            ]
          },
          "metadata": {},
          "execution_count": 55
        }
      ]
    },
    {
      "cell_type": "code",
      "source": [
        "data*10#計算"
      ],
      "metadata": {
        "colab": {
          "base_uri": "https://localhost:8080/"
        },
        "id": "EIEAsN3e3F67",
        "outputId": "113afc3e-ce47-428b-935e-f370fc39b1ac"
      },
      "execution_count": null,
      "outputs": [
        {
          "output_type": "execute_result",
          "data": {
            "text/plain": [
              "array([[ 2.93791735,  3.87749867, -3.72943654],\n",
              "       [10.78282092,  2.68141259,  5.9378894 ]])"
            ]
          },
          "metadata": {},
          "execution_count": 4
        }
      ]
    },
    {
      "cell_type": "code",
      "source": [
        "data+data"
      ],
      "metadata": {
        "colab": {
          "base_uri": "https://localhost:8080/"
        },
        "id": "JEAavqr73IQE",
        "outputId": "4f8a1e6c-774d-4822-b6b8-0dcc3df7cd38"
      },
      "execution_count": null,
      "outputs": [
        {
          "output_type": "execute_result",
          "data": {
            "text/plain": [
              "array([[ 0.58758347,  0.77549973, -0.74588731],\n",
              "       [ 2.15656418,  0.53628252,  1.18757788]])"
            ]
          },
          "metadata": {},
          "execution_count": 5
        }
      ]
    },
    {
      "cell_type": "code",
      "source": [
        "data.shape#大小 維度"
      ],
      "metadata": {
        "colab": {
          "base_uri": "https://localhost:8080/"
        },
        "id": "GEm11U253Lg6",
        "outputId": "156505c0-cd1a-41e7-b931-425075e20b96"
      },
      "execution_count": null,
      "outputs": [
        {
          "output_type": "execute_result",
          "data": {
            "text/plain": [
              "(2, 3)"
            ]
          },
          "metadata": {},
          "execution_count": 6
        }
      ]
    },
    {
      "cell_type": "code",
      "source": [
        "data.dtype#資料型態"
      ],
      "metadata": {
        "colab": {
          "base_uri": "https://localhost:8080/"
        },
        "id": "lyqF6prM3Rl7",
        "outputId": "c4d0c66b-afb4-4a9e-b32d-08d336c06aab"
      },
      "execution_count": null,
      "outputs": [
        {
          "output_type": "execute_result",
          "data": {
            "text/plain": [
              "dtype('float64')"
            ]
          },
          "metadata": {},
          "execution_count": 7
        }
      ]
    },
    {
      "cell_type": "markdown",
      "source": [
        "## 建立ndarray\n",
        "| 函式  | 描述 |\n",
        "| ------------- |:-------------:|\n",
        "| array      | 輸入資料(list、tuple、array其他序列型態)轉換為一個ndarray,可使用dtype或是明確指定dtype,預設複製所有輸入資料 |\n",
        "| asarray     | 將輸入轉為ndarray,但如果輸入已經一個ndarray,則不進行資料複製 |\n",
        "| arange      | 功能類似內建range,但回傳的是ndarray,而不是list |\n",
        "| ones,ones_like  | 依指定的shape和dtype生充滿1的陣列;ones_like可依輸入的另一個陣列,產生相同shaped和dtype且充滿1的陣列|\n",
        "|zeros,zeros_like|功能同ones和ones_like差在填充的是0|\n",
        "|empty,empty_like|取得新記憶體建立新陣列,但不像ones和zeros一樣去填充值|\n",
        "|full,full_like|指定要填充的值,依指定的shape和dtype建立新陣列,full_like可輸入另外一個陣列,依該陣列產生相同shape和dtype且完成值填充的陣列|\n",
        "|eye,identity|建立一個N*N的單位矩陣(對角線填充1,其他填充0)|\n",
        "\n",
        "\n",
        "\n",
        "    "
      ],
      "metadata": {
        "id": "sdsmQDg9RQQk"
      }
    },
    {
      "cell_type": "code",
      "source": [
        "##建立ndarray\n",
        "data1 = [6,7.5,8,0,1]\n",
        "arr1= np.array(data1)#傳入資料心的numpy陣列，list很適合轉入\n",
        "arr1"
      ],
      "metadata": {
        "colab": {
          "base_uri": "https://localhost:8080/"
        },
        "id": "pmkDd7xZ3R31",
        "outputId": "82a7792f-a1c7-40f7-d334-84c93d34567d"
      },
      "execution_count": null,
      "outputs": [
        {
          "output_type": "execute_result",
          "data": {
            "text/plain": [
              "array([6. , 7.5, 8. , 0. , 1. ])"
            ]
          },
          "metadata": {},
          "execution_count": 8
        }
      ]
    },
    {
      "cell_type": "code",
      "source": [
        "#也可以用巢式list轉多維陣列\n",
        "data2 = [[1,2,3,4],[5,6,7,8]]\n",
        "arr2 = np.array(data2)\n",
        "arr2"
      ],
      "metadata": {
        "colab": {
          "base_uri": "https://localhost:8080/"
        },
        "id": "iGGw4D3Z3soY",
        "outputId": "9afb1f35-3124-4a44-96c3-1e413e8f7c57"
      },
      "execution_count": null,
      "outputs": [
        {
          "output_type": "execute_result",
          "data": {
            "text/plain": [
              "array([[1, 2, 3, 4],\n",
              "       [5, 6, 7, 8]])"
            ]
          },
          "metadata": {},
          "execution_count": 9
        }
      ]
    },
    {
      "cell_type": "code",
      "source": [
        "#data2 是list的list 是二維陣列 確認一下\n",
        "arr2.ndim"
      ],
      "metadata": {
        "colab": {
          "base_uri": "https://localhost:8080/"
        },
        "id": "83YqAuHg3tSV",
        "outputId": "5f232ac5-9996-46bd-9bb7-04fad17324ed"
      },
      "execution_count": null,
      "outputs": [
        {
          "output_type": "execute_result",
          "data": {
            "text/plain": [
              "2"
            ]
          },
          "metadata": {},
          "execution_count": 10
        }
      ]
    },
    {
      "cell_type": "code",
      "source": [
        "arr2.shape"
      ],
      "metadata": {
        "colab": {
          "base_uri": "https://localhost:8080/"
        },
        "id": "WK8crdkn4jHf",
        "outputId": "5fc862a6-2899-4679-99bb-27ac3583a133"
      },
      "execution_count": null,
      "outputs": [
        {
          "output_type": "execute_result",
          "data": {
            "text/plain": [
              "(2, 4)"
            ]
          },
          "metadata": {},
          "execution_count": 12
        }
      ]
    },
    {
      "cell_type": "code",
      "source": [
        "arr1.dtype"
      ],
      "metadata": {
        "colab": {
          "base_uri": "https://localhost:8080/"
        },
        "id": "ZWcd1i8D4laD",
        "outputId": "5af7a6e2-eb0c-4536-df7e-68dccaea5c14"
      },
      "execution_count": null,
      "outputs": [
        {
          "output_type": "execute_result",
          "data": {
            "text/plain": [
              "dtype('float64')"
            ]
          },
          "metadata": {},
          "execution_count": 13
        }
      ]
    },
    {
      "cell_type": "code",
      "source": [
        "arr2.dtype"
      ],
      "metadata": {
        "colab": {
          "base_uri": "https://localhost:8080/"
        },
        "id": "6oXbWQVb4qSc",
        "outputId": "fc4f12aa-5630-4548-f4da-190aadd3e9ab"
      },
      "execution_count": null,
      "outputs": [
        {
          "output_type": "execute_result",
          "data": {
            "text/plain": [
              "dtype('int64')"
            ]
          },
          "metadata": {},
          "execution_count": 14
        }
      ]
    },
    {
      "cell_type": "code",
      "source": [
        "np.zeros(10)"
      ],
      "metadata": {
        "colab": {
          "base_uri": "https://localhost:8080/"
        },
        "id": "EBebkDfz4ty-",
        "outputId": "5ede13ba-fe7e-472d-87d9-7e442bd23115"
      },
      "execution_count": null,
      "outputs": [
        {
          "output_type": "execute_result",
          "data": {
            "text/plain": [
              "array([0., 0., 0., 0., 0., 0., 0., 0., 0., 0.])"
            ]
          },
          "metadata": {},
          "execution_count": 16
        }
      ]
    },
    {
      "cell_type": "code",
      "source": [
        "np.zeros((3,6))"
      ],
      "metadata": {
        "colab": {
          "base_uri": "https://localhost:8080/"
        },
        "id": "iINsSpIB41Ft",
        "outputId": "798752d2-2ae0-4bb8-ee11-f5d96f0f6acf"
      },
      "execution_count": null,
      "outputs": [
        {
          "output_type": "execute_result",
          "data": {
            "text/plain": [
              "array([[0., 0., 0., 0., 0., 0.],\n",
              "       [0., 0., 0., 0., 0., 0.],\n",
              "       [0., 0., 0., 0., 0., 0.]])"
            ]
          },
          "metadata": {},
          "execution_count": 17
        }
      ]
    },
    {
      "cell_type": "code",
      "source": [
        "np.empty((2,3,2))#所有元素均為空，沒有實際意義"
      ],
      "metadata": {
        "colab": {
          "base_uri": "https://localhost:8080/"
        },
        "id": "UVwfA6qC5E5q",
        "outputId": "b235739d-d399-4bab-b088-0bb77a92f2c1"
      },
      "execution_count": null,
      "outputs": [
        {
          "output_type": "execute_result",
          "data": {
            "text/plain": [
              "array([[[4.57377359e-316, 2.47032823e-322],\n",
              "        [0.00000000e+000, 0.00000000e+000],\n",
              "        [6.94253363e-310, 1.31370903e-076]],\n",
              "\n",
              "       [[4.26897418e-090, 1.31397834e-047],\n",
              "        [3.63478855e+174, 1.00199527e+165],\n",
              "        [3.99910963e+252, 1.46030983e-319]]])"
            ]
          },
          "metadata": {},
          "execution_count": 19
        }
      ]
    },
    {
      "cell_type": "code",
      "source": [
        "np.arange(15)"
      ],
      "metadata": {
        "colab": {
          "base_uri": "https://localhost:8080/"
        },
        "id": "GFiAQ19a5kLU",
        "outputId": "a44a5bb8-ffe1-4724-d50b-03369fb16ca2"
      },
      "execution_count": null,
      "outputs": [
        {
          "output_type": "execute_result",
          "data": {
            "text/plain": [
              "array([ 0,  1,  2,  3,  4,  5,  6,  7,  8,  9, 10, 11, 12, 13, 14])"
            ]
          },
          "metadata": {},
          "execution_count": 20
        }
      ]
    },
    {
      "cell_type": "markdown",
      "source": [
        "## ndarray 的資料型態\n",
        "\n",
        "| 函式🐱 |型態碼🐱 | 描述☺ |\n",
        "| ------------- |:-------------:|:-------------:|\n",
        "|int8, uint8|i1,u1|帶號與不帶號8位元(1位元組)整數型態|\n",
        "|int16, uint16|i2,u2|帶號與不帶號16位元整數型態|\n",
        "|int32, uint32|i4,u4|帶號與不帶號32位元整數型態|\n",
        "|int64, uint64|i8,u8|帶號與不帶號64位元整數型態|\n",
        "|float16|f2|半精度浮點數|\n",
        "|float32|f4 or f|標準單精度浮點數,和C的float相容\n",
        "|float64|f8 or d|標準倍精度浮點數,和C的double以及Python的float相容|\n",
        "|float128|f16 or g|延伸精度浮點數|\n",
        "|complex64,complex128,complex256|c8,c16,c32|複數,用兩個32、64或128的浮點數表示|\n",
        "|bool|?|布林型態,儲存True或False值|\n",
        "|object|O|Python物件型態;其值可以是任意Python物件|\n",
        "|string_|S|固定長度ASCII字串型態(每個字1位元組);舉例來說用'S10'可建立一個string dtype長度為10|\n",
        "|unicode_|U|固定長度Unicode字串型態(每個字所佔元組依情況而定)用法和string_一樣(例如'U0')|"
      ],
      "metadata": {
        "id": "81Gwv-0URVDX"
      }
    },
    {
      "cell_type": "code",
      "source": [
        "##ndarray 的資料型態\n",
        "arr1 = np.array([1,2,3],dtype=np.float64)\n",
        "arr2 = np.array([1,2,3],dtype=np.int32)\n",
        "arr1.dtype"
      ],
      "metadata": {
        "colab": {
          "base_uri": "https://localhost:8080/"
        },
        "id": "htP1_2kn5scM",
        "outputId": "6600e694-9aea-4eab-fed7-70ce97eacb10"
      },
      "execution_count": null,
      "outputs": [
        {
          "output_type": "execute_result",
          "data": {
            "text/plain": [
              "dtype('float64')"
            ]
          },
          "metadata": {},
          "execution_count": 23
        }
      ]
    },
    {
      "cell_type": "code",
      "source": [
        "arr2.dtype"
      ],
      "metadata": {
        "colab": {
          "base_uri": "https://localhost:8080/"
        },
        "id": "Nv04lhr36Z8R",
        "outputId": "2d594719-bef2-4ef9-a437-a45f268afbcc"
      },
      "execution_count": null,
      "outputs": [
        {
          "output_type": "execute_result",
          "data": {
            "text/plain": [
              "dtype('int32')"
            ]
          },
          "metadata": {},
          "execution_count": 24
        }
      ]
    },
    {
      "cell_type": "code",
      "source": [
        "arr = np.array([1,2,3,4,5])\n",
        "arr.dtype"
      ],
      "metadata": {
        "colab": {
          "base_uri": "https://localhost:8080/"
        },
        "id": "l-B6aAqU6mKx",
        "outputId": "84d0d285-7a75-4c03-c301-5a9c72a74b63"
      },
      "execution_count": null,
      "outputs": [
        {
          "output_type": "execute_result",
          "data": {
            "text/plain": [
              "dtype('int64')"
            ]
          },
          "metadata": {},
          "execution_count": 26
        }
      ]
    },
    {
      "cell_type": "code",
      "source": [
        "float_arr = arr.astype(np.float64)\n",
        "float_arr.dtype"
      ],
      "metadata": {
        "colab": {
          "base_uri": "https://localhost:8080/"
        },
        "id": "T7_rI1QB6Wjg",
        "outputId": "32c4ddaa-832c-4694-d51c-cd0c54de711d"
      },
      "execution_count": null,
      "outputs": [
        {
          "output_type": "execute_result",
          "data": {
            "text/plain": [
              "dtype('float64')"
            ]
          },
          "metadata": {},
          "execution_count": 28
        }
      ]
    },
    {
      "cell_type": "code",
      "source": [
        "arr = np.array([3.7,-1.2,-2.6,0.5,12.9,10.1])\n",
        "arr"
      ],
      "metadata": {
        "colab": {
          "base_uri": "https://localhost:8080/"
        },
        "id": "1HaEiLsb7BQz",
        "outputId": "ce353835-41c6-4ef4-c791-5f8814cd7e68"
      },
      "execution_count": null,
      "outputs": [
        {
          "output_type": "execute_result",
          "data": {
            "text/plain": [
              "array([ 3.7, -1.2, -2.6,  0.5, 12.9, 10.1])"
            ]
          },
          "metadata": {},
          "execution_count": 29
        }
      ]
    },
    {
      "cell_type": "code",
      "source": [
        "arr.astype(np.int32)"
      ],
      "metadata": {
        "colab": {
          "base_uri": "https://localhost:8080/"
        },
        "id": "KgFWwpvG7BWR",
        "outputId": "52a37ee5-9685-44cc-8fa2-0394dc4c35fe"
      },
      "execution_count": null,
      "outputs": [
        {
          "output_type": "execute_result",
          "data": {
            "text/plain": [
              "array([ 3, -1, -2,  0, 12, 10], dtype=int32)"
            ]
          },
          "metadata": {},
          "execution_count": 30
        }
      ]
    },
    {
      "cell_type": "code",
      "source": [
        "arr.astype(np.int64)"
      ],
      "metadata": {
        "colab": {
          "base_uri": "https://localhost:8080/"
        },
        "id": "B6e4ZxO17SYf",
        "outputId": "18bca24c-581a-4d1d-9d19-ae1715b31379"
      },
      "execution_count": null,
      "outputs": [
        {
          "output_type": "execute_result",
          "data": {
            "text/plain": [
              "array([ 3, -1, -2,  0, 12, 10])"
            ]
          },
          "metadata": {},
          "execution_count": 31
        }
      ]
    },
    {
      "cell_type": "code",
      "source": [
        "arr.astype(np.float64)"
      ],
      "metadata": {
        "colab": {
          "base_uri": "https://localhost:8080/"
        },
        "id": "2KnCQbE67WUS",
        "outputId": "56332ca6-429b-4d6d-fb09-eb937e8081a8"
      },
      "execution_count": null,
      "outputs": [
        {
          "output_type": "execute_result",
          "data": {
            "text/plain": [
              "array([ 3.7, -1.2, -2.6,  0.5, 12.9, 10.1])"
            ]
          },
          "metadata": {},
          "execution_count": 32
        }
      ]
    },
    {
      "cell_type": "code",
      "source": [
        "arr.astype(np.float32)"
      ],
      "metadata": {
        "colab": {
          "base_uri": "https://localhost:8080/"
        },
        "id": "kV8rPizL7Y4w",
        "outputId": "390e3a36-d7ef-45f9-81f9-4c5af7a835f9"
      },
      "execution_count": null,
      "outputs": [
        {
          "output_type": "execute_result",
          "data": {
            "text/plain": [
              "array([ 3.7, -1.2, -2.6,  0.5, 12.9, 10.1], dtype=float32)"
            ]
          },
          "metadata": {},
          "execution_count": 33
        }
      ]
    },
    {
      "cell_type": "code",
      "source": [
        "numeric_strings = np.array(['1.25','-9.6','42'],dtype=np.string_)\n",
        "numeric_strings.astype(float)"
      ],
      "metadata": {
        "colab": {
          "base_uri": "https://localhost:8080/"
        },
        "id": "4DVrssrY7b17",
        "outputId": "583ceff0-e29a-48a0-d3d5-2ea32fa6574d"
      },
      "execution_count": null,
      "outputs": [
        {
          "output_type": "execute_result",
          "data": {
            "text/plain": [
              "array([ 1.25, -9.6 , 42.  ])"
            ]
          },
          "metadata": {},
          "execution_count": 35
        }
      ]
    },
    {
      "cell_type": "code",
      "source": [
        "int_array = np.arange(10)\n",
        "calibers = np.array([.22,.270,.357,.380,.44,.50],dtype=np.float64)\n",
        "int_array.astype(calibers.dtype)"
      ],
      "metadata": {
        "colab": {
          "base_uri": "https://localhost:8080/"
        },
        "id": "uOxH67Jw8R_i",
        "outputId": "b174a569-d579-4d3b-cd8b-7764e6bff8ce"
      },
      "execution_count": null,
      "outputs": [
        {
          "output_type": "execute_result",
          "data": {
            "text/plain": [
              "array([0., 1., 2., 3., 4., 5., 6., 7., 8., 9.])"
            ]
          },
          "metadata": {},
          "execution_count": 37
        }
      ]
    },
    {
      "cell_type": "code",
      "source": [
        "empty_uint32 = np.empty(8,dtype='u4')\n",
        "empty_uint32"
      ],
      "metadata": {
        "colab": {
          "base_uri": "https://localhost:8080/"
        },
        "id": "V9B3Raif82Wd",
        "outputId": "97f7a074-97a4-4a70-c3be-de9c7f189565"
      },
      "execution_count": null,
      "outputs": [
        {
          "output_type": "execute_result",
          "data": {
            "text/plain": [
              "array([         0, 1075314688,          0, 1075707904,          0,\n",
              "       1075838976,          0, 1072693248], dtype=uint32)"
            ]
          },
          "metadata": {},
          "execution_count": 38
        }
      ]
    },
    {
      "cell_type": "markdown",
      "source": [
        "## NumPy 陣列的算術運算\n",
        "\n",
        "\n"
      ],
      "metadata": {
        "id": "OV46DgI1RYik"
      }
    },
    {
      "cell_type": "code",
      "source": [
        "##NumPy 陣列的算術運算\n",
        "arr =np.array([[1.,2.,3.],[4.,5.,6.]])\n",
        "print(arr)\n",
        "print(arr*arr)\n",
        "print(arr-arr)\n",
        "print(1/arr)\n",
        "print(arr**0.5)"
      ],
      "metadata": {
        "colab": {
          "base_uri": "https://localhost:8080/"
        },
        "id": "9kozjAts9URO",
        "outputId": "7e215356-e34d-4f38-e0f4-f43a87f611ef"
      },
      "execution_count": null,
      "outputs": [
        {
          "output_type": "stream",
          "name": "stdout",
          "text": [
            "[[1. 2. 3.]\n",
            " [4. 5. 6.]]\n",
            "[[ 1.  4.  9.]\n",
            " [16. 25. 36.]]\n",
            "[[0. 0. 0.]\n",
            " [0. 0. 0.]]\n",
            "[[1.         0.5        0.33333333]\n",
            " [0.25       0.2        0.16666667]]\n",
            "[[1.         1.41421356 1.73205081]\n",
            " [2.         2.23606798 2.44948974]]\n"
          ]
        }
      ]
    },
    {
      "cell_type": "code",
      "source": [
        "arr2 = np.array([[0.,4.,1.],[7.,2.,12.]])\n",
        "arr2"
      ],
      "metadata": {
        "colab": {
          "base_uri": "https://localhost:8080/"
        },
        "id": "qx7B_OUv9zA1",
        "outputId": "fc81ca1f-8783-41f9-ee74-443cf98ba861"
      },
      "execution_count": null,
      "outputs": [
        {
          "output_type": "execute_result",
          "data": {
            "text/plain": [
              "array([[ 0.,  4.,  1.],\n",
              "       [ 7.,  2., 12.]])"
            ]
          },
          "metadata": {},
          "execution_count": 41
        }
      ]
    },
    {
      "cell_type": "code",
      "source": [
        "arr2>arr"
      ],
      "metadata": {
        "colab": {
          "base_uri": "https://localhost:8080/"
        },
        "id": "KRsZv75_-BlW",
        "outputId": "fda044be-8fb2-4cec-d828-fd9b6892ec88"
      },
      "execution_count": null,
      "outputs": [
        {
          "output_type": "execute_result",
          "data": {
            "text/plain": [
              "array([[False,  True, False],\n",
              "       [ True, False,  True]])"
            ]
          },
          "metadata": {},
          "execution_count": 42
        }
      ]
    },
    {
      "cell_type": "markdown",
      "source": [
        "## 基本的索引和切片"
      ],
      "metadata": {
        "id": "H9Xe3LS2Rcd2"
      }
    },
    {
      "cell_type": "code",
      "source": [
        "##基本的索引和切片\n",
        "arr = np.arange(10)\n",
        "arr"
      ],
      "metadata": {
        "colab": {
          "base_uri": "https://localhost:8080/"
        },
        "id": "EHyXYz-N-HQz",
        "outputId": "e52c12ca-cf44-4190-e1a0-7e9d2c7f15e0"
      },
      "execution_count": null,
      "outputs": [
        {
          "output_type": "execute_result",
          "data": {
            "text/plain": [
              "array([0, 1, 2, 3, 4, 5, 6, 7, 8, 9])"
            ]
          },
          "metadata": {},
          "execution_count": 44
        }
      ]
    },
    {
      "cell_type": "code",
      "source": [
        "print(arr[5])\n",
        "print(arr[5:8])\n",
        "print('--------------')\n",
        "arr[5:8] = 12\n",
        "print(arr)"
      ],
      "metadata": {
        "colab": {
          "base_uri": "https://localhost:8080/"
        },
        "id": "eCoZso2j-SnL",
        "outputId": "126620ef-0556-47dc-cd11-fcb604d55f2c"
      },
      "execution_count": null,
      "outputs": [
        {
          "output_type": "stream",
          "name": "stdout",
          "text": [
            "12\n",
            "[12 12 12]\n",
            "--------------\n",
            "[ 0  1  2  3  4 12 12 12  8  9]\n"
          ]
        }
      ]
    },
    {
      "cell_type": "code",
      "source": [
        "arr_slice = arr[5:8]\n",
        "arr_slice"
      ],
      "metadata": {
        "colab": {
          "base_uri": "https://localhost:8080/"
        },
        "id": "O7VkIAS2-lZN",
        "outputId": "84f75049-8e44-400e-a142-56290d8b580a"
      },
      "execution_count": null,
      "outputs": [
        {
          "output_type": "execute_result",
          "data": {
            "text/plain": [
              "array([12, 12, 12])"
            ]
          },
          "metadata": {},
          "execution_count": 47
        }
      ]
    },
    {
      "cell_type": "code",
      "source": [
        "arr_slice[1]=12345\n",
        "arr"
      ],
      "metadata": {
        "colab": {
          "base_uri": "https://localhost:8080/"
        },
        "id": "GaFfOa6t-s1C",
        "outputId": "e054e392-469c-4a6e-bfe0-a920d3a59237"
      },
      "execution_count": null,
      "outputs": [
        {
          "output_type": "execute_result",
          "data": {
            "text/plain": [
              "array([    0,     1,     2,     3,     4,    12, 12345,    12,     8,\n",
              "           9])"
            ]
          },
          "metadata": {},
          "execution_count": 48
        }
      ]
    },
    {
      "cell_type": "code",
      "source": [
        "arr_slice[:]=64\n",
        "arr"
      ],
      "metadata": {
        "colab": {
          "base_uri": "https://localhost:8080/"
        },
        "id": "asgA9tm--zWp",
        "outputId": "d1434044-4231-414d-88a4-ead3bc46bcdf"
      },
      "execution_count": null,
      "outputs": [
        {
          "output_type": "execute_result",
          "data": {
            "text/plain": [
              "array([ 0,  1,  2,  3,  4, 64, 64, 64,  8,  9])"
            ]
          },
          "metadata": {},
          "execution_count": 49
        }
      ]
    },
    {
      "cell_type": "code",
      "source": [
        "arr[5:8].copy()#要指定做複製"
      ],
      "metadata": {
        "colab": {
          "base_uri": "https://localhost:8080/"
        },
        "id": "b4pNnRM2-4y3",
        "outputId": "22b8495b-3860-4028-e529-d1e4b6128305"
      },
      "execution_count": null,
      "outputs": [
        {
          "output_type": "execute_result",
          "data": {
            "text/plain": [
              "array([64, 64, 64])"
            ]
          },
          "metadata": {},
          "execution_count": 50
        }
      ]
    },
    {
      "cell_type": "code",
      "source": [
        "arr"
      ],
      "metadata": {
        "colab": {
          "base_uri": "https://localhost:8080/"
        },
        "id": "YycMQ7C7_9qt",
        "outputId": "53a1618c-27b7-4364-f224-02d9465a9c75"
      },
      "execution_count": null,
      "outputs": [
        {
          "output_type": "execute_result",
          "data": {
            "text/plain": [
              "array([ 0,  1,  2,  3,  4, 64, 64, 64,  8,  9])"
            ]
          },
          "metadata": {},
          "execution_count": 51
        }
      ]
    },
    {
      "cell_type": "code",
      "source": [
        "arr2d = np.array([[1,2,3],[4,5,6],[7,8,9]])\n",
        "arr2d[2]"
      ],
      "metadata": {
        "colab": {
          "base_uri": "https://localhost:8080/"
        },
        "id": "sbgPcD-__-87",
        "outputId": "19a8ae17-5c44-42f3-a426-5ff7f69e9043"
      },
      "execution_count": null,
      "outputs": [
        {
          "output_type": "execute_result",
          "data": {
            "text/plain": [
              "array([7, 8, 9])"
            ]
          },
          "metadata": {},
          "execution_count": 52
        }
      ]
    },
    {
      "cell_type": "code",
      "source": [
        "arr2d[0][2]"
      ],
      "metadata": {
        "colab": {
          "base_uri": "https://localhost:8080/"
        },
        "id": "zANM-vEWAUKt",
        "outputId": "3ef2ccf0-d63f-4345-af6d-6a5fcfb729ed"
      },
      "execution_count": null,
      "outputs": [
        {
          "output_type": "execute_result",
          "data": {
            "text/plain": [
              "3"
            ]
          },
          "metadata": {},
          "execution_count": 53
        }
      ]
    },
    {
      "cell_type": "code",
      "source": [
        "arr2d[0,2]#[row列,column行]"
      ],
      "metadata": {
        "colab": {
          "base_uri": "https://localhost:8080/"
        },
        "id": "Nbku4tstAYbK",
        "outputId": "c19135a2-4000-402c-b126-29047a806bd7"
      },
      "execution_count": null,
      "outputs": [
        {
          "output_type": "execute_result",
          "data": {
            "text/plain": [
              "3"
            ]
          },
          "metadata": {},
          "execution_count": 54
        }
      ]
    },
    {
      "cell_type": "code",
      "source": [
        "arr3d = np.array([[[1,2,3],[4,5,6]],[[7,8,9],[10,11,12]]])\n",
        "arr3d"
      ],
      "metadata": {
        "colab": {
          "base_uri": "https://localhost:8080/"
        },
        "id": "9hMkzCqXNv77",
        "outputId": "d4605d56-1285-48b6-82e5-2fcc95bc6c4d"
      },
      "execution_count": null,
      "outputs": [
        {
          "output_type": "execute_result",
          "data": {
            "text/plain": [
              "array([[[ 1,  2,  3],\n",
              "        [ 4,  5,  6]],\n",
              "\n",
              "       [[ 7,  8,  9],\n",
              "        [10, 11, 12]]])"
            ]
          },
          "metadata": {},
          "execution_count": 58
        }
      ]
    },
    {
      "cell_type": "code",
      "source": [
        "arr3d[0]"
      ],
      "metadata": {
        "colab": {
          "base_uri": "https://localhost:8080/"
        },
        "id": "V8YKy65BODSF",
        "outputId": "552a401d-020c-49fb-d115-555edc730304"
      },
      "execution_count": null,
      "outputs": [
        {
          "output_type": "execute_result",
          "data": {
            "text/plain": [
              "array([[1, 2, 3],\n",
              "       [4, 5, 6]])"
            ]
          },
          "metadata": {},
          "execution_count": 59
        }
      ]
    },
    {
      "cell_type": "code",
      "source": [
        "old_values =arr3d[0].copy()\n",
        "arr3d[0]=42\n",
        "arr3d"
      ],
      "metadata": {
        "colab": {
          "base_uri": "https://localhost:8080/"
        },
        "id": "29wlF3EpOH7D",
        "outputId": "10613318-437b-4e27-f0b1-0856f346b103"
      },
      "execution_count": null,
      "outputs": [
        {
          "output_type": "execute_result",
          "data": {
            "text/plain": [
              "array([[[42, 42, 42],\n",
              "        [42, 42, 42]],\n",
              "\n",
              "       [[ 7,  8,  9],\n",
              "        [10, 11, 12]]])"
            ]
          },
          "metadata": {},
          "execution_count": 61
        }
      ]
    },
    {
      "cell_type": "code",
      "source": [
        "arr3d[0]=old_values\n",
        "arr3d"
      ],
      "metadata": {
        "colab": {
          "base_uri": "https://localhost:8080/"
        },
        "id": "3QFScte7OT59",
        "outputId": "3703cbc1-8cff-4ea6-8d6d-533a5f422882"
      },
      "execution_count": null,
      "outputs": [
        {
          "output_type": "execute_result",
          "data": {
            "text/plain": [
              "array([[[42, 42, 42],\n",
              "        [42, 42, 42]],\n",
              "\n",
              "       [[ 7,  8,  9],\n",
              "        [10, 11, 12]]])"
            ]
          },
          "metadata": {},
          "execution_count": 62
        }
      ]
    },
    {
      "cell_type": "code",
      "source": [
        "arr3d[1,0]"
      ],
      "metadata": {
        "colab": {
          "base_uri": "https://localhost:8080/"
        },
        "id": "5KgazaDZOZPp",
        "outputId": "39e90e30-9ead-46e7-940d-b0ea9b210e4f"
      },
      "execution_count": null,
      "outputs": [
        {
          "output_type": "execute_result",
          "data": {
            "text/plain": [
              "array([7, 8, 9])"
            ]
          },
          "metadata": {},
          "execution_count": 63
        }
      ]
    },
    {
      "cell_type": "code",
      "source": [
        "x=arr3d[1]\n",
        "x"
      ],
      "metadata": {
        "colab": {
          "base_uri": "https://localhost:8080/"
        },
        "id": "Yi_8vqD3OcSu",
        "outputId": "6e73aa7d-f802-4e1d-f42f-b2fd43d024f9"
      },
      "execution_count": null,
      "outputs": [
        {
          "output_type": "execute_result",
          "data": {
            "text/plain": [
              "array([[ 7,  8,  9],\n",
              "       [10, 11, 12]])"
            ]
          },
          "metadata": {},
          "execution_count": 64
        }
      ]
    },
    {
      "cell_type": "code",
      "source": [
        "x[0]"
      ],
      "metadata": {
        "colab": {
          "base_uri": "https://localhost:8080/"
        },
        "id": "G5GniUDLOf45",
        "outputId": "a83fb3ce-36da-4fd7-db15-71fb45f34f6d"
      },
      "execution_count": null,
      "outputs": [
        {
          "output_type": "execute_result",
          "data": {
            "text/plain": [
              "array([7, 8, 9])"
            ]
          },
          "metadata": {},
          "execution_count": 65
        }
      ]
    },
    {
      "cell_type": "markdown",
      "source": [
        "## 使用切片作索引"
      ],
      "metadata": {
        "id": "ix01uF25RgAz"
      }
    },
    {
      "cell_type": "code",
      "source": [
        "#使用切片作索引\n",
        "arr"
      ],
      "metadata": {
        "colab": {
          "base_uri": "https://localhost:8080/"
        },
        "id": "D0P2prsNOhkC",
        "outputId": "8b6d4ed3-6551-4682-9576-b1a2b80cc48c"
      },
      "execution_count": null,
      "outputs": [
        {
          "output_type": "execute_result",
          "data": {
            "text/plain": [
              "array([ 0,  1,  2,  3,  4, 64, 64, 64,  8,  9])"
            ]
          },
          "metadata": {},
          "execution_count": 66
        }
      ]
    },
    {
      "cell_type": "code",
      "source": [
        "arr[1:6]"
      ],
      "metadata": {
        "colab": {
          "base_uri": "https://localhost:8080/"
        },
        "id": "qaDuNz6oOm7T",
        "outputId": "43f5e68b-677a-40d2-f62a-1ab0f26f5752"
      },
      "execution_count": null,
      "outputs": [
        {
          "output_type": "execute_result",
          "data": {
            "text/plain": [
              "array([ 1,  2,  3,  4, 64])"
            ]
          },
          "metadata": {},
          "execution_count": 68
        }
      ]
    },
    {
      "cell_type": "code",
      "source": [
        "arr2d"
      ],
      "metadata": {
        "colab": {
          "base_uri": "https://localhost:8080/"
        },
        "id": "BiXZBcfuOp5k",
        "outputId": "3315072b-fc71-4c0b-ca86-6b50e22c672b"
      },
      "execution_count": null,
      "outputs": [
        {
          "output_type": "execute_result",
          "data": {
            "text/plain": [
              "array([[1, 2, 3],\n",
              "       [4, 5, 6],\n",
              "       [7, 8, 9]])"
            ]
          },
          "metadata": {},
          "execution_count": 69
        }
      ]
    },
    {
      "cell_type": "code",
      "source": [
        "arr2d[:2]"
      ],
      "metadata": {
        "colab": {
          "base_uri": "https://localhost:8080/"
        },
        "id": "kfamcR0-OtRh",
        "outputId": "2a55b91f-f1a1-4cd7-a109-4a3c93c6073e"
      },
      "execution_count": null,
      "outputs": [
        {
          "output_type": "execute_result",
          "data": {
            "text/plain": [
              "array([[1, 2, 3],\n",
              "       [4, 5, 6]])"
            ]
          },
          "metadata": {},
          "execution_count": 70
        }
      ]
    },
    {
      "cell_type": "code",
      "source": [
        "arr2d[:2,1:]"
      ],
      "metadata": {
        "colab": {
          "base_uri": "https://localhost:8080/"
        },
        "id": "_p_m6ZPMOxqr",
        "outputId": "56fc94f8-073e-4d6f-e6ac-daef5f424cbe"
      },
      "execution_count": null,
      "outputs": [
        {
          "output_type": "execute_result",
          "data": {
            "text/plain": [
              "array([[2, 3],\n",
              "       [5, 6]])"
            ]
          },
          "metadata": {},
          "execution_count": 71
        }
      ]
    },
    {
      "cell_type": "code",
      "source": [
        "arr2d[1,:2]"
      ],
      "metadata": {
        "colab": {
          "base_uri": "https://localhost:8080/"
        },
        "id": "duCFueG4O2vb",
        "outputId": "240490db-8190-4482-c5f0-3b523ea69bf0"
      },
      "execution_count": null,
      "outputs": [
        {
          "output_type": "execute_result",
          "data": {
            "text/plain": [
              "array([4, 5])"
            ]
          },
          "metadata": {},
          "execution_count": 72
        }
      ]
    },
    {
      "cell_type": "code",
      "source": [
        "arr2d[:,:1]"
      ],
      "metadata": {
        "colab": {
          "base_uri": "https://localhost:8080/"
        },
        "id": "Jn6D56zTO7Ey",
        "outputId": "527d81ca-4096-4d10-9116-30f62e27436e"
      },
      "execution_count": null,
      "outputs": [
        {
          "output_type": "execute_result",
          "data": {
            "text/plain": [
              "array([[1],\n",
              "       [4],\n",
              "       [7]])"
            ]
          },
          "metadata": {},
          "execution_count": 74
        }
      ]
    },
    {
      "cell_type": "code",
      "source": [
        "arr2d[:2,1:]=0\n",
        "arr2d"
      ],
      "metadata": {
        "colab": {
          "base_uri": "https://localhost:8080/"
        },
        "id": "m83eQXmSPIny",
        "outputId": "c68f53c7-4956-41a0-d5f7-0a24f46ffd8f"
      },
      "execution_count": null,
      "outputs": [
        {
          "output_type": "execute_result",
          "data": {
            "text/plain": [
              "array([[1, 0, 0],\n",
              "       [4, 0, 0],\n",
              "       [7, 8, 9]])"
            ]
          },
          "metadata": {},
          "execution_count": 75
        }
      ]
    },
    {
      "cell_type": "markdown",
      "source": [
        "## 布林索引"
      ],
      "metadata": {
        "id": "HpWPeAT7Rjp3"
      }
    },
    {
      "cell_type": "code",
      "source": [
        "#布林索引\n",
        "names = np.array(['Bob','Joe','Will','Bob','Will','Joe','Joe'])\n",
        "data = np.random.randn(7,4)\n",
        "names"
      ],
      "metadata": {
        "colab": {
          "base_uri": "https://localhost:8080/"
        },
        "id": "797CpnYFPSub",
        "outputId": "a8fa76b4-03e5-4e9e-fe7b-b77b4714a715"
      },
      "execution_count": null,
      "outputs": [
        {
          "output_type": "execute_result",
          "data": {
            "text/plain": [
              "array(['Bob', 'Joe', 'Will', 'Bob', 'Will', 'Joe', 'Joe'], dtype='<U4')"
            ]
          },
          "metadata": {},
          "execution_count": 76
        }
      ]
    },
    {
      "cell_type": "code",
      "source": [
        "data"
      ],
      "metadata": {
        "colab": {
          "base_uri": "https://localhost:8080/"
        },
        "id": "cttK-9SNP5HE",
        "outputId": "e82b78a9-3359-401e-c7e1-e4f293aa954d"
      },
      "execution_count": null,
      "outputs": [
        {
          "output_type": "execute_result",
          "data": {
            "text/plain": [
              "array([[-0.05322618, -0.27384057,  0.84826891,  0.62657441],\n",
              "       [-0.76799629,  0.86766835, -1.00479167,  0.89437068],\n",
              "       [ 0.05118859,  0.39012587,  1.39347441, -0.60619989],\n",
              "       [ 0.59743344,  0.91101905, -0.51044387,  1.31333326],\n",
              "       [-0.48371444, -1.91092723,  0.10639452, -1.34822586],\n",
              "       [ 2.48173957,  0.93517843,  0.07090963,  2.22670182],\n",
              "       [ 1.4596691 ,  0.33525765, -1.0372053 ,  0.27894636]])"
            ]
          },
          "metadata": {},
          "execution_count": 77
        }
      ]
    },
    {
      "cell_type": "code",
      "source": [
        "names=='Bob'"
      ],
      "metadata": {
        "colab": {
          "base_uri": "https://localhost:8080/"
        },
        "id": "muqj-8_EP6F7",
        "outputId": "5184c5f2-5022-4a4f-c49c-cb56c3996149"
      },
      "execution_count": null,
      "outputs": [
        {
          "output_type": "execute_result",
          "data": {
            "text/plain": [
              "array([ True, False, False,  True, False, False, False])"
            ]
          },
          "metadata": {},
          "execution_count": 78
        }
      ]
    },
    {
      "cell_type": "code",
      "source": [
        "data[names=='Bob']"
      ],
      "metadata": {
        "colab": {
          "base_uri": "https://localhost:8080/"
        },
        "id": "ZS3LLziCP9tJ",
        "outputId": "4ffc3b10-93d8-4d33-be24-e98368117cad"
      },
      "execution_count": null,
      "outputs": [
        {
          "output_type": "execute_result",
          "data": {
            "text/plain": [
              "array([[-0.05322618, -0.27384057,  0.84826891,  0.62657441],\n",
              "       [ 0.59743344,  0.91101905, -0.51044387,  1.31333326]])"
            ]
          },
          "metadata": {},
          "execution_count": 81
        }
      ]
    },
    {
      "cell_type": "code",
      "source": [
        "data[names=='Bob',2:]"
      ],
      "metadata": {
        "colab": {
          "base_uri": "https://localhost:8080/"
        },
        "id": "UDQkyY8NQD2_",
        "outputId": "023ebf0d-b2f9-40ce-9fbf-d91d32845a89"
      },
      "execution_count": null,
      "outputs": [
        {
          "output_type": "execute_result",
          "data": {
            "text/plain": [
              "array([[ 0.84826891,  0.62657441],\n",
              "       [-0.51044387,  1.31333326]])"
            ]
          },
          "metadata": {},
          "execution_count": 84
        }
      ]
    },
    {
      "cell_type": "code",
      "source": [
        "data[names=='Bob',3]"
      ],
      "metadata": {
        "colab": {
          "base_uri": "https://localhost:8080/"
        },
        "id": "xnee0KFfQPhs",
        "outputId": "1b1587e6-830c-4505-b94d-97d0dd586cdb"
      },
      "execution_count": null,
      "outputs": [
        {
          "output_type": "execute_result",
          "data": {
            "text/plain": [
              "array([0.62657441, 1.31333326])"
            ]
          },
          "metadata": {},
          "execution_count": 85
        }
      ]
    },
    {
      "cell_type": "code",
      "source": [
        "names!='Bob'"
      ],
      "metadata": {
        "colab": {
          "base_uri": "https://localhost:8080/"
        },
        "id": "GcbqvvvBQY5S",
        "outputId": "d420d3e5-b955-4532-cc03-56e3b5d4073b"
      },
      "execution_count": null,
      "outputs": [
        {
          "output_type": "execute_result",
          "data": {
            "text/plain": [
              "array([False,  True,  True, False,  True,  True,  True])"
            ]
          },
          "metadata": {},
          "execution_count": 87
        }
      ]
    },
    {
      "cell_type": "code",
      "source": [
        "data[~(names=='Bob')]"
      ],
      "metadata": {
        "colab": {
          "base_uri": "https://localhost:8080/"
        },
        "id": "8CYDBQOkQdNP",
        "outputId": "c5a335b2-7bce-4a9b-b8aa-9a35af0fb564"
      },
      "execution_count": null,
      "outputs": [
        {
          "output_type": "execute_result",
          "data": {
            "text/plain": [
              "array([[-0.76799629,  0.86766835, -1.00479167,  0.89437068],\n",
              "       [ 0.05118859,  0.39012587,  1.39347441, -0.60619989],\n",
              "       [-0.48371444, -1.91092723,  0.10639452, -1.34822586],\n",
              "       [ 2.48173957,  0.93517843,  0.07090963,  2.22670182],\n",
              "       [ 1.4596691 ,  0.33525765, -1.0372053 ,  0.27894636]])"
            ]
          },
          "metadata": {},
          "execution_count": 88
        }
      ]
    },
    {
      "cell_type": "code",
      "source": [
        "cond=names=='Bob'\n",
        "data[~cond]"
      ],
      "metadata": {
        "colab": {
          "base_uri": "https://localhost:8080/"
        },
        "id": "JDU7eWA9Qmrr",
        "outputId": "38d60fb8-c4e2-4e51-a5ba-625eaf9303b7"
      },
      "execution_count": null,
      "outputs": [
        {
          "output_type": "execute_result",
          "data": {
            "text/plain": [
              "array([[-0.76799629,  0.86766835, -1.00479167,  0.89437068],\n",
              "       [ 0.05118859,  0.39012587,  1.39347441, -0.60619989],\n",
              "       [-0.48371444, -1.91092723,  0.10639452, -1.34822586],\n",
              "       [ 2.48173957,  0.93517843,  0.07090963,  2.22670182],\n",
              "       [ 1.4596691 ,  0.33525765, -1.0372053 ,  0.27894636]])"
            ]
          },
          "metadata": {},
          "execution_count": 91
        }
      ]
    },
    {
      "cell_type": "code",
      "source": [
        "mask=(names=='Bob')|(names=='Will')#布林陣列無法使用and or 使用& |"
      ],
      "metadata": {
        "id": "nokaoSF4Qu4b"
      },
      "execution_count": null,
      "outputs": []
    },
    {
      "cell_type": "code",
      "source": [
        "data[mask]"
      ],
      "metadata": {
        "colab": {
          "base_uri": "https://localhost:8080/"
        },
        "id": "6-cC91ykQ-70",
        "outputId": "8d94929f-55b2-4c83-9bc1-d508e41702e0"
      },
      "execution_count": null,
      "outputs": [
        {
          "output_type": "execute_result",
          "data": {
            "text/plain": [
              "array([[-0.05322618, -0.27384057,  0.84826891,  0.62657441],\n",
              "       [ 0.05118859,  0.39012587,  1.39347441, -0.60619989],\n",
              "       [ 0.59743344,  0.91101905, -0.51044387,  1.31333326],\n",
              "       [-0.48371444, -1.91092723,  0.10639452, -1.34822586]])"
            ]
          },
          "metadata": {},
          "execution_count": 95
        }
      ]
    },
    {
      "cell_type": "code",
      "source": [
        "data[data<0]=0\n",
        "data"
      ],
      "metadata": {
        "colab": {
          "base_uri": "https://localhost:8080/"
        },
        "id": "h5P-NoWDRmMg",
        "outputId": "1bd4fc0d-babe-4e1b-888c-13400216d6e7"
      },
      "execution_count": null,
      "outputs": [
        {
          "output_type": "execute_result",
          "data": {
            "text/plain": [
              "array([[0.        , 0.        , 0.84826891, 0.62657441],\n",
              "       [0.        , 0.86766835, 0.        , 0.89437068],\n",
              "       [0.05118859, 0.39012587, 1.39347441, 0.        ],\n",
              "       [0.59743344, 0.91101905, 0.        , 1.31333326],\n",
              "       [0.        , 0.        , 0.10639452, 0.        ],\n",
              "       [2.48173957, 0.93517843, 0.07090963, 2.22670182],\n",
              "       [1.4596691 , 0.33525765, 0.        , 0.27894636]])"
            ]
          },
          "metadata": {},
          "execution_count": 96
        }
      ]
    },
    {
      "cell_type": "code",
      "source": [
        "data[names!='Joe']=7\n",
        "data"
      ],
      "metadata": {
        "colab": {
          "base_uri": "https://localhost:8080/"
        },
        "id": "SpSrbMnqR65T",
        "outputId": "ef629b06-f2d1-4b2b-e2f3-bc677af8adb6"
      },
      "execution_count": null,
      "outputs": [
        {
          "output_type": "execute_result",
          "data": {
            "text/plain": [
              "array([[7.        , 7.        , 7.        , 7.        ],\n",
              "       [0.        , 0.86766835, 0.        , 0.89437068],\n",
              "       [7.        , 7.        , 7.        , 7.        ],\n",
              "       [7.        , 7.        , 7.        , 7.        ],\n",
              "       [7.        , 7.        , 7.        , 7.        ],\n",
              "       [2.48173957, 0.93517843, 0.07090963, 2.22670182],\n",
              "       [1.4596691 , 0.33525765, 0.        , 0.27894636]])"
            ]
          },
          "metadata": {},
          "execution_count": 97
        }
      ]
    },
    {
      "cell_type": "markdown",
      "source": [
        "## 花式索引"
      ],
      "metadata": {
        "id": "24WFa5PZR_xk"
      }
    },
    {
      "cell_type": "code",
      "source": [
        "arr = np.empty((8,4))\n",
        "for i in range(8):\n",
        "  arr[i]=i\n",
        "arr"
      ],
      "metadata": {
        "colab": {
          "base_uri": "https://localhost:8080/"
        },
        "id": "EAxb0r4NSFi_",
        "outputId": "4e661c49-2dc4-439f-881c-17dfbce61d8d"
      },
      "execution_count": null,
      "outputs": [
        {
          "output_type": "execute_result",
          "data": {
            "text/plain": [
              "array([[0., 0., 0., 0.],\n",
              "       [1., 1., 1., 1.],\n",
              "       [2., 2., 2., 2.],\n",
              "       [3., 3., 3., 3.],\n",
              "       [4., 4., 4., 4.],\n",
              "       [5., 5., 5., 5.],\n",
              "       [6., 6., 6., 6.],\n",
              "       [7., 7., 7., 7.]])"
            ]
          },
          "metadata": {},
          "execution_count": 100
        }
      ]
    },
    {
      "cell_type": "code",
      "source": [
        "arr[[4,3,0,6]]"
      ],
      "metadata": {
        "colab": {
          "base_uri": "https://localhost:8080/"
        },
        "id": "E9U9YYuSSS_b",
        "outputId": "ce76aad2-b54e-443a-8dd1-d1c7af0aca7c"
      },
      "execution_count": null,
      "outputs": [
        {
          "output_type": "execute_result",
          "data": {
            "text/plain": [
              "array([[4., 4., 4., 4.],\n",
              "       [3., 3., 3., 3.],\n",
              "       [0., 0., 0., 0.],\n",
              "       [6., 6., 6., 6.]])"
            ]
          },
          "metadata": {},
          "execution_count": 101
        }
      ]
    },
    {
      "cell_type": "code",
      "source": [
        "arr[[-3,-5,-7]]"
      ],
      "metadata": {
        "colab": {
          "base_uri": "https://localhost:8080/"
        },
        "id": "a6T8BfcFSXIM",
        "outputId": "cf1c5947-7e59-4888-ac18-e78729d951d0"
      },
      "execution_count": null,
      "outputs": [
        {
          "output_type": "execute_result",
          "data": {
            "text/plain": [
              "array([[5., 5., 5., 5.],\n",
              "       [3., 3., 3., 3.],\n",
              "       [1., 1., 1., 1.]])"
            ]
          },
          "metadata": {},
          "execution_count": 102
        }
      ]
    },
    {
      "cell_type": "code",
      "source": [
        "arr=np.arange(32).reshape((8,4))\n",
        "arr"
      ],
      "metadata": {
        "colab": {
          "base_uri": "https://localhost:8080/"
        },
        "id": "_G0HepfjScj7",
        "outputId": "d7e166b8-34d2-4de9-f8ec-512758eb1a11"
      },
      "execution_count": null,
      "outputs": [
        {
          "output_type": "execute_result",
          "data": {
            "text/plain": [
              "array([[ 0,  1,  2,  3],\n",
              "       [ 4,  5,  6,  7],\n",
              "       [ 8,  9, 10, 11],\n",
              "       [12, 13, 14, 15],\n",
              "       [16, 17, 18, 19],\n",
              "       [20, 21, 22, 23],\n",
              "       [24, 25, 26, 27],\n",
              "       [28, 29, 30, 31]])"
            ]
          },
          "metadata": {},
          "execution_count": 103
        }
      ]
    },
    {
      "cell_type": "code",
      "source": [
        "arr[[1,5,7,2],[0,3,1,2]]"
      ],
      "metadata": {
        "colab": {
          "base_uri": "https://localhost:8080/"
        },
        "id": "si1lSa5pSnLU",
        "outputId": "b03354de-24f3-4efe-d0f0-98ded9c84e6b"
      },
      "execution_count": null,
      "outputs": [
        {
          "output_type": "execute_result",
          "data": {
            "text/plain": [
              "array([ 4, 23, 29, 10])"
            ]
          },
          "metadata": {},
          "execution_count": 104
        }
      ]
    },
    {
      "cell_type": "markdown",
      "source": [
        "## 轉置陣列和軸交換"
      ],
      "metadata": {
        "id": "92KbvZuRSyxk"
      }
    },
    {
      "cell_type": "code",
      "source": [
        "arr = np.arange(15).reshape((3,5))\n",
        "arr"
      ],
      "metadata": {
        "colab": {
          "base_uri": "https://localhost:8080/"
        },
        "id": "mvUkuDMWS9-g",
        "outputId": "8b40515c-a3b9-4830-fc04-5ba71ba6c852"
      },
      "execution_count": null,
      "outputs": [
        {
          "output_type": "execute_result",
          "data": {
            "text/plain": [
              "array([[ 0,  1,  2,  3,  4],\n",
              "       [ 5,  6,  7,  8,  9],\n",
              "       [10, 11, 12, 13, 14]])"
            ]
          },
          "metadata": {},
          "execution_count": 105
        }
      ]
    },
    {
      "cell_type": "code",
      "source": [
        "arr.T#r t()"
      ],
      "metadata": {
        "colab": {
          "base_uri": "https://localhost:8080/"
        },
        "id": "UoaeMAMxTFvy",
        "outputId": "7b0233eb-d6bf-40e0-d3f9-021e2b485868"
      },
      "execution_count": null,
      "outputs": [
        {
          "output_type": "execute_result",
          "data": {
            "text/plain": [
              "array([[ 0,  5, 10],\n",
              "       [ 1,  6, 11],\n",
              "       [ 2,  7, 12],\n",
              "       [ 3,  8, 13],\n",
              "       [ 4,  9, 14]])"
            ]
          },
          "metadata": {},
          "execution_count": 108
        }
      ]
    },
    {
      "cell_type": "code",
      "source": [
        "arr =np.random.randn(6,3)\n",
        "arr"
      ],
      "metadata": {
        "colab": {
          "base_uri": "https://localhost:8080/"
        },
        "id": "sjGA0UMvTIeS",
        "outputId": "38292df5-6975-4acb-fbe5-1982c48f860f"
      },
      "execution_count": null,
      "outputs": [
        {
          "output_type": "execute_result",
          "data": {
            "text/plain": [
              "array([[-0.49879774, -0.60644647,  1.09706497],\n",
              "       [-0.16645224, -0.35839458,  0.3562016 ],\n",
              "       [-1.43374484, -0.08345575,  1.03922773],\n",
              "       [-0.42872652,  0.75440708,  1.47060338],\n",
              "       [-0.42492586,  1.02511432, -1.37372259],\n",
              "       [-0.93817926, -1.12264769,  0.02763497]])"
            ]
          },
          "metadata": {},
          "execution_count": 109
        }
      ]
    },
    {
      "cell_type": "code",
      "source": [
        "np.dot(arr.T,arr)#內積"
      ],
      "metadata": {
        "colab": {
          "base_uri": "https://localhost:8080/"
        },
        "id": "p6ywA3hHTUdS",
        "outputId": "2adb09f5-6188-45e4-db85-996ad5ea926b"
      },
      "execution_count": null,
      "outputs": [
        {
          "output_type": "execute_result",
          "data": {
            "text/plain": [
              "array([[ 3.57667853,  0.77601684, -2.16917444],\n",
              "       [ 0.77601684,  3.38351612, -1.20951486],\n",
              "       [-2.16917444, -1.20951486,  6.46097713]])"
            ]
          },
          "metadata": {},
          "execution_count": 110
        }
      ]
    },
    {
      "cell_type": "code",
      "source": [
        "arr = np.arange(16).reshape((2,2,4))\n",
        "arr"
      ],
      "metadata": {
        "colab": {
          "base_uri": "https://localhost:8080/"
        },
        "id": "G1isMzFoTbqt",
        "outputId": "fedea0f6-7e3c-48f8-cf77-d32003464ed9"
      },
      "execution_count": null,
      "outputs": [
        {
          "output_type": "execute_result",
          "data": {
            "text/plain": [
              "array([[[ 0,  1,  2,  3],\n",
              "        [ 4,  5,  6,  7]],\n",
              "\n",
              "       [[ 8,  9, 10, 11],\n",
              "        [12, 13, 14, 15]]])"
            ]
          },
          "metadata": {},
          "execution_count": 111
        }
      ]
    },
    {
      "cell_type": "code",
      "source": [
        "arr.transpose((1,0,2))#互換軸"
      ],
      "metadata": {
        "colab": {
          "base_uri": "https://localhost:8080/"
        },
        "id": "VpJgVQdUTjtS",
        "outputId": "223c4fc1-1858-4d21-d66e-90d81417c7e1"
      },
      "execution_count": null,
      "outputs": [
        {
          "output_type": "execute_result",
          "data": {
            "text/plain": [
              "array([[[ 0,  1,  2,  3],\n",
              "        [ 8,  9, 10, 11]],\n",
              "\n",
              "       [[ 4,  5,  6,  7],\n",
              "        [12, 13, 14, 15]]])"
            ]
          },
          "metadata": {},
          "execution_count": 112
        }
      ]
    },
    {
      "cell_type": "code",
      "source": [
        "arr"
      ],
      "metadata": {
        "colab": {
          "base_uri": "https://localhost:8080/"
        },
        "id": "wh8QHzq0Tu9T",
        "outputId": "8fece3e3-ea7d-4620-8125-86c6f30bb5fb"
      },
      "execution_count": null,
      "outputs": [
        {
          "output_type": "execute_result",
          "data": {
            "text/plain": [
              "array([[[ 0,  1,  2,  3],\n",
              "        [ 4,  5,  6,  7]],\n",
              "\n",
              "       [[ 8,  9, 10, 11],\n",
              "        [12, 13, 14, 15]]])"
            ]
          },
          "metadata": {},
          "execution_count": 113
        }
      ]
    },
    {
      "cell_type": "code",
      "source": [
        "arr.swapaxes(1,2)#swapaxesx不進行複製 只負責回傳view"
      ],
      "metadata": {
        "colab": {
          "base_uri": "https://localhost:8080/"
        },
        "id": "dqGHBxmsTxxN",
        "outputId": "3fe110e9-be5f-44c3-e487-48006d49b720"
      },
      "execution_count": null,
      "outputs": [
        {
          "output_type": "execute_result",
          "data": {
            "text/plain": [
              "array([[[ 0,  4],\n",
              "        [ 1,  5],\n",
              "        [ 2,  6],\n",
              "        [ 3,  7]],\n",
              "\n",
              "       [[ 8, 12],\n",
              "        [ 9, 13],\n",
              "        [10, 14],\n",
              "        [11, 15]]])"
            ]
          },
          "metadata": {},
          "execution_count": 115
        }
      ]
    },
    {
      "cell_type": "markdown",
      "source": [
        "# 全域函式:快速元素級別陣列函式\n",
        "## 一元全域函式\n",
        "| 函式🐱 | 描述☺ |\n",
        "| ------------- |:-------------:|\n",
        "|abs, fabs|逐元素計算絕對值,元素可以是整數、浮點數或虛數|\n",
        "|sqrt|逐元素計算平方根(相於做arr**.5)|\n",
        "|square|逐元素做平方(相當於做arr**2)|\n",
        "|exp|逐元素做指數\\$$e^{x}$|\n",
        "|log,log10,log2,log1p|做自然對數(以e為底)或以10為底log以2為底log以及log(1+x)|\n",
        "|sign|計算每個元素的正負值:1(正)、0(零)或-1(負)|\n",
        "|ceil|逐元素計算向上取整(例:找到大於或等於一個數字的最小整數)|\n",
        "|floor|逐元素計算向下取整(例如:找到小於或等於一個數字最大整數)|\n",
        "|rint|將元素取最靠近的整數,並保留其dtype|\n",
        "|modf|將陣列的小數和整數部分分開成為不同陣列回傳|\n",
        "|isnan|回傳一個布林陣列,標示元素是否為NaN(非數字)|\n",
        "|isfinite, isinf|回傳一個布林陣列,標示元素是否為有限(non-inf、non-NaN)或無限|\n",
        "|cos, cosh, sin, sinh,tan, tanh|一般或雙曲三角函數|\n",
        "|arccos, arccosh,arcsin, arcsinh,arctan, arctanh|反向三角函數|\n",
        "|logical_not|逐元素計算not x的值(相當於做~arr)|\n",
        "\n",
        "## 二元全域函式\n",
        "| 函式🐱 | 描述☺ |\n",
        "| ------------- |:-------------:|\n",
        "|add|把陣列對應位置的元素相加|\n",
        "|subtract|第一個陣列減掉第二個陣列|\n",
        "|multiply|兩個陣列元素相乘|\n",
        "|divide, floor_divide|除或整除(捨去餘數)|\n",
        "|power|將第一個陣列中的元素做第二個陣列中所標示的次方|\n",
        "|maximum, fmax|逐元素找大值;fmax忽略Nan|\n",
        "|minimum, fmin|逐元素找小值;fmin忽略Nan|\n",
        "|mod|逐元素取餘數(除法的餘數)|\n",
        "|copysign|把第二陣列中值的正負號複製到第一個參數中寫的值|\n",
        "|greater, greater_equal,less, less_equal, equal,not_equal|執行元素級別的比較,產出布林陣列(等於中間放了>、>=、<=、==、!=運算子)|\n",
        "|logical_and,logical_or,logical_xor|計算元素級別的邏輯運算真值(等於中間放了&、｜、^運算子|\n"
      ],
      "metadata": {
        "id": "SM66JYRoVKxb"
      }
    },
    {
      "cell_type": "code",
      "source": [
        "arr =np.arange(10)\n",
        "arr"
      ],
      "metadata": {
        "colab": {
          "base_uri": "https://localhost:8080/"
        },
        "id": "_Qc142r3UEX7",
        "outputId": "abf81ab1-742b-4240-e521-3db30e8b3a1b"
      },
      "execution_count": null,
      "outputs": [
        {
          "output_type": "execute_result",
          "data": {
            "text/plain": [
              "array([0, 1, 2, 3, 4, 5, 6, 7, 8, 9])"
            ]
          },
          "metadata": {},
          "execution_count": 116
        }
      ]
    },
    {
      "cell_type": "code",
      "source": [
        "np.sqrt(arr)#開根號"
      ],
      "metadata": {
        "colab": {
          "base_uri": "https://localhost:8080/"
        },
        "id": "yuZQW3dPVcKX",
        "outputId": "c129a8ab-072c-4568-d180-a93f6ecfbfdb"
      },
      "execution_count": null,
      "outputs": [
        {
          "output_type": "execute_result",
          "data": {
            "text/plain": [
              "array([0.        , 1.        , 1.41421356, 1.73205081, 2.        ,\n",
              "       2.23606798, 2.44948974, 2.64575131, 2.82842712, 3.        ])"
            ]
          },
          "metadata": {},
          "execution_count": 117
        }
      ]
    },
    {
      "cell_type": "code",
      "source": [
        "np.exp(arr)#自然對數"
      ],
      "metadata": {
        "colab": {
          "base_uri": "https://localhost:8080/"
        },
        "id": "lGbgfFI-VhZL",
        "outputId": "75c9534c-584f-40df-f57d-ecf29080cfe0"
      },
      "execution_count": null,
      "outputs": [
        {
          "output_type": "execute_result",
          "data": {
            "text/plain": [
              "array([1.00000000e+00, 2.71828183e+00, 7.38905610e+00, 2.00855369e+01,\n",
              "       5.45981500e+01, 1.48413159e+02, 4.03428793e+02, 1.09663316e+03,\n",
              "       2.98095799e+03, 8.10308393e+03])"
            ]
          },
          "metadata": {},
          "execution_count": 118
        }
      ]
    },
    {
      "cell_type": "code",
      "source": [
        "x = np.random.randn(8)\n",
        "y = np.random.randn(8)\n",
        "x"
      ],
      "metadata": {
        "colab": {
          "base_uri": "https://localhost:8080/"
        },
        "id": "ds7czv0_VuMQ",
        "outputId": "bae2ad83-6b7c-4bd6-9638-0861e88e8db2"
      },
      "execution_count": null,
      "outputs": [
        {
          "output_type": "execute_result",
          "data": {
            "text/plain": [
              "array([ 0.38107058, -0.06489357,  0.83275436, -1.24493395, -0.36791117,\n",
              "        0.03385646, -0.35065327,  1.09257247])"
            ]
          },
          "metadata": {},
          "execution_count": 120
        }
      ]
    },
    {
      "cell_type": "code",
      "source": [
        "y"
      ],
      "metadata": {
        "colab": {
          "base_uri": "https://localhost:8080/"
        },
        "id": "xZ3TNNR3V_Gs",
        "outputId": "08594cf6-defa-4a9f-b290-0307c051134f"
      },
      "execution_count": null,
      "outputs": [
        {
          "output_type": "execute_result",
          "data": {
            "text/plain": [
              "array([-1.9852394 , -1.09838327, -0.75085669,  0.42352636, -1.36126092,\n",
              "       -0.03744353, -0.8124754 ,  1.52795787])"
            ]
          },
          "metadata": {},
          "execution_count": 121
        }
      ]
    },
    {
      "cell_type": "code",
      "source": [
        "np.maximum(x,y)"
      ],
      "metadata": {
        "colab": {
          "base_uri": "https://localhost:8080/"
        },
        "id": "j_9h28_oWAJT",
        "outputId": "d96a915b-0a39-4d31-bf70-45d563fda747"
      },
      "execution_count": null,
      "outputs": [
        {
          "output_type": "execute_result",
          "data": {
            "text/plain": [
              "array([ 0.38107058, -0.06489357,  0.83275436,  0.42352636, -0.36791117,\n",
              "        0.03385646, -0.35065327,  1.52795787])"
            ]
          },
          "metadata": {},
          "execution_count": 122
        }
      ]
    },
    {
      "cell_type": "code",
      "source": [
        "arr = np.random.randn(7)*5\n",
        "arr"
      ],
      "metadata": {
        "colab": {
          "base_uri": "https://localhost:8080/"
        },
        "id": "bOrvsXV5WGA7",
        "outputId": "9dc5af0e-96ab-4e91-c58e-bee573e3bf8b"
      },
      "execution_count": null,
      "outputs": [
        {
          "output_type": "execute_result",
          "data": {
            "text/plain": [
              "array([-0.27716536,  2.24765123,  6.43231012,  7.64911184, -5.19750118,\n",
              "       -8.34948456, -9.01913531])"
            ]
          },
          "metadata": {},
          "execution_count": 123
        }
      ]
    },
    {
      "cell_type": "code",
      "source": [
        "remainder,whole_part = np.modf(arr)#modf 內建dinmod 向量版本 將浮點數和整數分開來算"
      ],
      "metadata": {
        "id": "KaNM4cO9WSS7"
      },
      "execution_count": null,
      "outputs": []
    },
    {
      "cell_type": "code",
      "source": [
        "remainder"
      ],
      "metadata": {
        "colab": {
          "base_uri": "https://localhost:8080/"
        },
        "id": "f04b5lzkWgxn",
        "outputId": "439c6be1-ab32-4ebb-9d96-4e3d93f55fe3"
      },
      "execution_count": null,
      "outputs": [
        {
          "output_type": "execute_result",
          "data": {
            "text/plain": [
              "array([-0.27716536,  0.24765123,  0.43231012,  0.64911184, -0.19750118,\n",
              "       -0.34948456, -0.01913531])"
            ]
          },
          "metadata": {},
          "execution_count": 126
        }
      ]
    },
    {
      "cell_type": "code",
      "source": [
        "whole_part"
      ],
      "metadata": {
        "colab": {
          "base_uri": "https://localhost:8080/"
        },
        "id": "fAA6A182Win4",
        "outputId": "75790076-2fec-48af-ef2b-e0dea74cfe67"
      },
      "execution_count": null,
      "outputs": [
        {
          "output_type": "execute_result",
          "data": {
            "text/plain": [
              "array([-0.,  2.,  6.,  7., -5., -8., -9.])"
            ]
          },
          "metadata": {},
          "execution_count": 127
        }
      ]
    },
    {
      "cell_type": "code",
      "source": [
        "arr"
      ],
      "metadata": {
        "colab": {
          "base_uri": "https://localhost:8080/"
        },
        "id": "gV5G_iKpXfq9",
        "outputId": "eeaaddae-a8ee-4c91-ab4d-c2bf58846547"
      },
      "execution_count": null,
      "outputs": [
        {
          "output_type": "execute_result",
          "data": {
            "text/plain": [
              "array([-0.27716536,  2.24765123,  6.43231012,  7.64911184, -5.19750118,\n",
              "       -8.34948456, -9.01913531])"
            ]
          },
          "metadata": {},
          "execution_count": 128
        }
      ]
    },
    {
      "cell_type": "code",
      "source": [
        "np.sqrt(arr)"
      ],
      "metadata": {
        "colab": {
          "base_uri": "https://localhost:8080/"
        },
        "id": "VrPPCJi4Xk6I",
        "outputId": "468e729c-9c90-4177-a3a3-92b4bfb03c2e"
      },
      "execution_count": null,
      "outputs": [
        {
          "output_type": "stream",
          "name": "stderr",
          "text": [
            "<ipython-input-129-b58949107b3d>:1: RuntimeWarning: invalid value encountered in sqrt\n",
            "  np.sqrt(arr)\n"
          ]
        },
        {
          "output_type": "execute_result",
          "data": {
            "text/plain": [
              "array([       nan, 1.49921687, 2.53619994, 2.76570278,        nan,\n",
              "              nan,        nan])"
            ]
          },
          "metadata": {},
          "execution_count": 129
        }
      ]
    },
    {
      "cell_type": "code",
      "source": [
        "np.sqrt(arr,arr)"
      ],
      "metadata": {
        "colab": {
          "base_uri": "https://localhost:8080/"
        },
        "id": "CpwZgV9uXp-s",
        "outputId": "60d0b752-1058-4ed6-a3a5-64609ef5b2b7"
      },
      "execution_count": null,
      "outputs": [
        {
          "output_type": "stream",
          "name": "stderr",
          "text": [
            "<ipython-input-130-e3ca18b15869>:1: RuntimeWarning: invalid value encountered in sqrt\n",
            "  np.sqrt(arr,arr)\n"
          ]
        },
        {
          "output_type": "execute_result",
          "data": {
            "text/plain": [
              "array([       nan, 1.49921687, 2.53619994, 2.76570278,        nan,\n",
              "              nan,        nan])"
            ]
          },
          "metadata": {},
          "execution_count": 130
        }
      ]
    },
    {
      "cell_type": "code",
      "source": [
        "arr"
      ],
      "metadata": {
        "colab": {
          "base_uri": "https://localhost:8080/"
        },
        "id": "p4q4MFfnXvmi",
        "outputId": "b5b69f99-3cc2-4ec2-9d8f-9cd11612abd7"
      },
      "execution_count": null,
      "outputs": [
        {
          "output_type": "execute_result",
          "data": {
            "text/plain": [
              "array([       nan, 1.49921687, 2.53619994, 2.76570278,        nan,\n",
              "              nan,        nan])"
            ]
          },
          "metadata": {},
          "execution_count": 131
        }
      ]
    },
    {
      "cell_type": "markdown",
      "source": [
        "# 用陣列寫陣列導向程式"
      ],
      "metadata": {
        "id": "cUGn_uSqX4wN"
      }
    },
    {
      "cell_type": "code",
      "source": [
        "points = np.arange(-5,5,0.01)#1000個等鋸點\n",
        "xs,ys =np.meshgrid(points,points)\n",
        "ys"
      ],
      "metadata": {
        "colab": {
          "base_uri": "https://localhost:8080/"
        },
        "id": "TlCV9ILXX-Ry",
        "outputId": "ec029dbd-71c8-4c5c-c798-828074a78318"
      },
      "execution_count": null,
      "outputs": [
        {
          "output_type": "execute_result",
          "data": {
            "text/plain": [
              "array([[-5.  , -5.  , -5.  , ..., -5.  , -5.  , -5.  ],\n",
              "       [-4.99, -4.99, -4.99, ..., -4.99, -4.99, -4.99],\n",
              "       [-4.98, -4.98, -4.98, ..., -4.98, -4.98, -4.98],\n",
              "       ...,\n",
              "       [ 4.97,  4.97,  4.97, ...,  4.97,  4.97,  4.97],\n",
              "       [ 4.98,  4.98,  4.98, ...,  4.98,  4.98,  4.98],\n",
              "       [ 4.99,  4.99,  4.99, ...,  4.99,  4.99,  4.99]])"
            ]
          },
          "metadata": {},
          "execution_count": 133
        }
      ]
    },
    {
      "cell_type": "code",
      "source": [
        "z = np.sqrt(xs ** 2 +ys ** 2)\n",
        "z"
      ],
      "metadata": {
        "colab": {
          "base_uri": "https://localhost:8080/"
        },
        "id": "xpu_ncLTYVsz",
        "outputId": "73dcd1e6-b6b5-4040-889d-50a6af2f1112"
      },
      "execution_count": null,
      "outputs": [
        {
          "output_type": "execute_result",
          "data": {
            "text/plain": [
              "array([[7.07106781, 7.06400028, 7.05693985, ..., 7.04988652, 7.05693985,\n",
              "        7.06400028],\n",
              "       [7.06400028, 7.05692568, 7.04985815, ..., 7.04279774, 7.04985815,\n",
              "        7.05692568],\n",
              "       [7.05693985, 7.04985815, 7.04278354, ..., 7.03571603, 7.04278354,\n",
              "        7.04985815],\n",
              "       ...,\n",
              "       [7.04988652, 7.04279774, 7.03571603, ..., 7.0286414 , 7.03571603,\n",
              "        7.04279774],\n",
              "       [7.05693985, 7.04985815, 7.04278354, ..., 7.03571603, 7.04278354,\n",
              "        7.04985815],\n",
              "       [7.06400028, 7.05692568, 7.04985815, ..., 7.04279774, 7.04985815,\n",
              "        7.05692568]])"
            ]
          },
          "metadata": {},
          "execution_count": 135
        }
      ]
    },
    {
      "cell_type": "code",
      "source": [
        "import matplotlib.pyplot as plt\n",
        "plt.imshow(z,cmap=plt.cm.gray);plt.colorbar()\n",
        "plt.title('Image plot of $\\sqrt{x^2 + y^2}$ for a grid of values')"
      ],
      "metadata": {
        "colab": {
          "base_uri": "https://localhost:8080/",
          "height": 305
        },
        "id": "c9qM1fE6Ycxy",
        "outputId": "423a29f2-ec50-4400-8256-a0024594b712"
      },
      "execution_count": null,
      "outputs": [
        {
          "output_type": "execute_result",
          "data": {
            "text/plain": [
              "Text(0.5, 1.0, 'Image plot of $\\\\sqrt{x^2 + y^2}$ for a grid of values')"
            ]
          },
          "metadata": {},
          "execution_count": 137
        },
        {
          "output_type": "display_data",
          "data": {
            "text/plain": [
              "<Figure size 432x288 with 2 Axes>"
            ],
            "image/png": "[encoded data removed]"
          },
          "metadata": {
            "needs_background": "light"
          }
        }
      ]
    },
    {
      "cell_type": "markdown",
      "source": [
        "## 用陣列運算表達條件邏輯"
      ],
      "metadata": {
        "id": "CdDUMFRUZrMb"
      }
    },
    {
      "cell_type": "code",
      "source": [
        "xarr = np.array([1.1,1.2,1.3,1.4,1.5])\n",
        "yarr = np.array([2.1,2.2,2.3,2.4,2.5])\n",
        "cond = np.array([True,False,True,True,False])\n",
        "result =[(x if c else y) for x,y,c in zip(xarr,yarr,cond)]\n",
        "result#這樣表示不太好因為py用陣列匯作很多事情"
      ],
      "metadata": {
        "colab": {
          "base_uri": "https://localhost:8080/"
        },
        "id": "j2u8mZW3Zirm",
        "outputId": "6adf2202-2624-468a-dfe5-033f3806bc01"
      },
      "execution_count": null,
      "outputs": [
        {
          "output_type": "execute_result",
          "data": {
            "text/plain": [
              "[1.1, 2.2, 1.3, 1.4, 2.5]"
            ]
          },
          "metadata": {},
          "execution_count": 139
        }
      ]
    },
    {
      "cell_type": "code",
      "source": [
        "result = np.where(cond,xarr,yarr)\n",
        "result#用where可以精簡很多"
      ],
      "metadata": {
        "colab": {
          "base_uri": "https://localhost:8080/"
        },
        "id": "Lp6JT34sbOyl",
        "outputId": "a731ee9f-8694-444f-806c-ef3aa1933328"
      },
      "execution_count": null,
      "outputs": [
        {
          "output_type": "execute_result",
          "data": {
            "text/plain": [
              "array([1.1, 2.2, 1.3, 1.4, 2.5])"
            ]
          },
          "metadata": {},
          "execution_count": 140
        }
      ]
    },
    {
      "cell_type": "code",
      "source": [
        "arr = np.random.randn(4,4)\n",
        "arr"
      ],
      "metadata": {
        "colab": {
          "base_uri": "https://localhost:8080/"
        },
        "id": "yZ2fzkeybc5I",
        "outputId": "10106bb1-a6d8-4ec0-fd24-371c86fd80a3"
      },
      "execution_count": null,
      "outputs": [
        {
          "output_type": "execute_result",
          "data": {
            "text/plain": [
              "array([[-1.54985455, -0.15376712,  0.20380403,  0.35273723],\n",
              "       [-1.29756459, -0.65997134, -0.54736092, -0.75057452],\n",
              "       [ 0.28498175,  0.51984273,  1.93002438,  0.32905148],\n",
              "       [ 1.16118973, -0.44366115, -0.00956288,  0.18435157]])"
            ]
          },
          "metadata": {},
          "execution_count": 141
        }
      ]
    },
    {
      "cell_type": "code",
      "source": [
        "arr>0"
      ],
      "metadata": {
        "colab": {
          "base_uri": "https://localhost:8080/"
        },
        "id": "cirWVCyHbi7l",
        "outputId": "fdc2b698-8489-448f-a86d-16fe39493a16"
      },
      "execution_count": null,
      "outputs": [
        {
          "output_type": "execute_result",
          "data": {
            "text/plain": [
              "array([[False, False,  True,  True],\n",
              "       [False, False, False, False],\n",
              "       [ True,  True,  True,  True],\n",
              "       [ True, False, False,  True]])"
            ]
          },
          "metadata": {},
          "execution_count": 142
        }
      ]
    },
    {
      "cell_type": "code",
      "source": [
        "np.where(arr > 0,2,-2)"
      ],
      "metadata": {
        "colab": {
          "base_uri": "https://localhost:8080/"
        },
        "id": "x9kdbDWyblQJ",
        "outputId": "4740d17b-d946-4c15-e9fa-a78ab30ea1bd"
      },
      "execution_count": null,
      "outputs": [
        {
          "output_type": "execute_result",
          "data": {
            "text/plain": [
              "array([[-2, -2,  2,  2],\n",
              "       [-2, -2, -2, -2],\n",
              "       [ 2,  2,  2,  2],\n",
              "       [ 2, -2, -2,  2]])"
            ]
          },
          "metadata": {},
          "execution_count": 143
        }
      ]
    },
    {
      "cell_type": "code",
      "source": [
        "np.where(arr>0,2,arr)#將正數設為2"
      ],
      "metadata": {
        "colab": {
          "base_uri": "https://localhost:8080/"
        },
        "id": "99Mua7DGblUd",
        "outputId": "52781367-ec4f-4830-9b04-42938cbc1f38"
      },
      "execution_count": null,
      "outputs": [
        {
          "output_type": "execute_result",
          "data": {
            "text/plain": [
              "array([[-1.54985455, -0.15376712,  2.        ,  2.        ],\n",
              "       [-1.29756459, -0.65997134, -0.54736092, -0.75057452],\n",
              "       [ 2.        ,  2.        ,  2.        ,  2.        ],\n",
              "       [ 2.        , -0.44366115, -0.00956288,  2.        ]])"
            ]
          },
          "metadata": {},
          "execution_count": 145
        }
      ]
    },
    {
      "cell_type": "markdown",
      "source": [
        "##數學和統計方法\n",
        "| 函式🐱 | 描述☺ |\n",
        "| ------------- |:-------------:|\n",
        "|sum|沿著指定軸加總陣列中有元素;若是零長度陣列,加總結果為0|\n",
        "|mean|算術平均數;零長度陣列回傳NaN|\n",
        "|std, var|均方差和變異數,可選擇調整自由度(預設分母n)|\n",
        "|min, max|最小值與最大值|\n",
        "|argmin, argmax|最小值和最大值的索引值|\n",
        "|cumsum|從元素0開始累加元素和|\n",
        "|cumprod|從元素0開始累加元素積|"
      ],
      "metadata": {
        "id": "1HoV_j93cJ7m"
      }
    },
    {
      "cell_type": "code",
      "source": [
        "arr = np.random.randn(5,4)\n",
        "arr"
      ],
      "metadata": {
        "colab": {
          "base_uri": "https://localhost:8080/"
        },
        "id": "ifDFsd8Pb5ec",
        "outputId": "08871ae4-4168-4aa8-99f4-4d9277ed5486"
      },
      "execution_count": null,
      "outputs": [
        {
          "output_type": "execute_result",
          "data": {
            "text/plain": [
              "array([[ 0.75327363, -0.43596964, -3.0533317 ,  0.61705262],\n",
              "       [ 0.17030763, -0.99432535,  0.72958625, -0.47531791],\n",
              "       [-0.5487561 ,  0.04685603,  0.56793116, -0.89363665],\n",
              "       [ 1.36477066, -0.22189264, -0.63504176,  1.70774962],\n",
              "       [ 0.44080225, -1.66443577,  0.48263148,  0.65472037]])"
            ]
          },
          "metadata": {},
          "execution_count": 146
        }
      ]
    },
    {
      "cell_type": "code",
      "source": [
        "arr.mean()"
      ],
      "metadata": {
        "colab": {
          "base_uri": "https://localhost:8080/"
        },
        "id": "OyRX-6VJcW8A",
        "outputId": "f61c4731-271a-4daa-8498-669c3d863e8c"
      },
      "execution_count": null,
      "outputs": [
        {
          "output_type": "execute_result",
          "data": {
            "text/plain": [
              "-0.06935129177055158"
            ]
          },
          "metadata": {},
          "execution_count": 147
        }
      ]
    },
    {
      "cell_type": "code",
      "source": [
        "np.mean(arr)"
      ],
      "metadata": {
        "colab": {
          "base_uri": "https://localhost:8080/"
        },
        "id": "-yOn0eaCcbTj",
        "outputId": "9436893c-d6c5-436c-c662-30d14c3a9a07"
      },
      "execution_count": null,
      "outputs": [
        {
          "output_type": "execute_result",
          "data": {
            "text/plain": [
              "-0.06935129177055158"
            ]
          },
          "metadata": {},
          "execution_count": 148
        }
      ]
    },
    {
      "cell_type": "code",
      "source": [
        "arr.sum()"
      ],
      "metadata": {
        "colab": {
          "base_uri": "https://localhost:8080/"
        },
        "id": "2iTUXlWocgN2",
        "outputId": "ec6e75f2-3538-4bdf-a4c7-dc025e1ac743"
      },
      "execution_count": null,
      "outputs": [
        {
          "output_type": "execute_result",
          "data": {
            "text/plain": [
              "-1.3870258354110314"
            ]
          },
          "metadata": {},
          "execution_count": 149
        }
      ]
    },
    {
      "cell_type": "code",
      "source": [
        "arr.mean(axis = 1)"
      ],
      "metadata": {
        "colab": {
          "base_uri": "https://localhost:8080/"
        },
        "id": "yGiPArFVckwC",
        "outputId": "3f531466-b1ce-40bc-f1e3-ac4763953883"
      },
      "execution_count": null,
      "outputs": [
        {
          "output_type": "execute_result",
          "data": {
            "text/plain": [
              "array([-0.52974377, -0.14243735, -0.20690139,  0.55389647, -0.02157042])"
            ]
          },
          "metadata": {},
          "execution_count": 150
        }
      ]
    },
    {
      "cell_type": "code",
      "source": [
        "arr.sum(axis = 0)"
      ],
      "metadata": {
        "colab": {
          "base_uri": "https://localhost:8080/"
        },
        "id": "z_RwG01hcoY3",
        "outputId": "f23bfb93-f4d1-46fc-8079-46f8de1bf3a8"
      },
      "execution_count": null,
      "outputs": [
        {
          "output_type": "execute_result",
          "data": {
            "text/plain": [
              "array([ 2.18039806, -3.26976737, -1.90822457,  1.61056805])"
            ]
          },
          "metadata": {},
          "execution_count": 151
        }
      ]
    },
    {
      "cell_type": "code",
      "source": [
        "#cumsom和cumprod不會聚合 會傳結果\n",
        "arr = np.array([0,1,2,3,4,5,6,7])\n",
        "arr.cumsum()"
      ],
      "metadata": {
        "colab": {
          "base_uri": "https://localhost:8080/"
        },
        "id": "wJ6K9MiBcr1j",
        "outputId": "486998da-6e96-4f9a-f0d3-7a93f5c5d79b"
      },
      "execution_count": null,
      "outputs": [
        {
          "output_type": "execute_result",
          "data": {
            "text/plain": [
              "array([ 0,  1,  3,  6, 10, 15, 21, 28])"
            ]
          },
          "metadata": {},
          "execution_count": 152
        }
      ]
    },
    {
      "cell_type": "code",
      "source": [
        "arr = np.array([[0,1,2],[3,4,5],[6,7,8]])\n",
        "arr"
      ],
      "metadata": {
        "colab": {
          "base_uri": "https://localhost:8080/"
        },
        "id": "vauFYjvYdB4t",
        "outputId": "7115fe01-3a8f-4368-a50e-8872bf14981d"
      },
      "execution_count": null,
      "outputs": [
        {
          "output_type": "execute_result",
          "data": {
            "text/plain": [
              "array([[0, 1, 2],\n",
              "       [3, 4, 5],\n",
              "       [6, 7, 8]])"
            ]
          },
          "metadata": {},
          "execution_count": 153
        }
      ]
    },
    {
      "cell_type": "code",
      "source": [
        "print(arr.cumsum(axis=0))\n",
        "print(arr.cumsum(axis=1))"
      ],
      "metadata": {
        "colab": {
          "base_uri": "https://localhost:8080/"
        },
        "id": "tb4D8sxgdSVV",
        "outputId": "41ce1693-90a0-4eb4-f07b-f7f449d9e86a"
      },
      "execution_count": null,
      "outputs": [
        {
          "output_type": "stream",
          "name": "stdout",
          "text": [
            "[[ 0  1  2]\n",
            " [ 3  5  7]\n",
            " [ 9 12 15]]\n",
            "[[ 0  1  3]\n",
            " [ 3  7 12]\n",
            " [ 6 13 21]]\n"
          ]
        }
      ]
    },
    {
      "cell_type": "markdown",
      "source": [
        "## 布林陣列方法"
      ],
      "metadata": {
        "id": "EpTPP_hHdkzJ"
      }
    },
    {
      "cell_type": "code",
      "source": [
        "arr = np.random.randn(100)\n",
        "(arr>0).sum()#正數有幾個"
      ],
      "metadata": {
        "colab": {
          "base_uri": "https://localhost:8080/"
        },
        "id": "MGrwAa3edpEq",
        "outputId": "b97c44d1-46ca-449e-e271-3b64252860fa"
      },
      "execution_count": null,
      "outputs": [
        {
          "output_type": "execute_result",
          "data": {
            "text/plain": [
              "56"
            ]
          },
          "metadata": {},
          "execution_count": 157
        }
      ]
    },
    {
      "cell_type": "code",
      "source": [
        "bools = np.array([False,False,True,False])\n",
        "print(bools.any())#是否有一個為True\n",
        "print(bools.all())#是否都為True"
      ],
      "metadata": {
        "colab": {
          "base_uri": "https://localhost:8080/"
        },
        "id": "DXFQVof-d5uu",
        "outputId": "13c7e530-7e35-4907-d9ee-49447b2b0617"
      },
      "execution_count": null,
      "outputs": [
        {
          "output_type": "stream",
          "name": "stdout",
          "text": [
            "True\n",
            "False\n"
          ]
        }
      ]
    },
    {
      "cell_type": "markdown",
      "source": [
        "## 排序"
      ],
      "metadata": {
        "id": "DaCAUL1dfIHr"
      }
    },
    {
      "cell_type": "code",
      "source": [
        "arr = np.random.randn(6)\n",
        "arr"
      ],
      "metadata": {
        "colab": {
          "base_uri": "https://localhost:8080/"
        },
        "id": "_WKd6Ok7fOsD",
        "outputId": "cc603ab1-71ff-4981-b1b7-78d9c4ed2788"
      },
      "execution_count": null,
      "outputs": [
        {
          "output_type": "execute_result",
          "data": {
            "text/plain": [
              "array([ 1.23941605, -0.51217922,  1.16150985, -0.19967503, -1.00706264,\n",
              "       -0.80405844])"
            ]
          },
          "metadata": {},
          "execution_count": 160
        }
      ]
    },
    {
      "cell_type": "code",
      "source": [
        "arr.sort()\n",
        "arr"
      ],
      "metadata": {
        "colab": {
          "base_uri": "https://localhost:8080/"
        },
        "id": "PgOopVJ8eYdd",
        "outputId": "e542a08d-7533-4102-9d57-abf6dbccae7e"
      },
      "execution_count": null,
      "outputs": [
        {
          "output_type": "execute_result",
          "data": {
            "text/plain": [
              "array([-1.00706264, -0.80405844, -0.51217922, -0.19967503,  1.16150985,\n",
              "        1.23941605])"
            ]
          },
          "metadata": {},
          "execution_count": 163
        }
      ]
    },
    {
      "cell_type": "code",
      "source": [
        "arr = np.random.randn(5,3)\n",
        "arr"
      ],
      "metadata": {
        "colab": {
          "base_uri": "https://localhost:8080/"
        },
        "id": "xbz2e_hPfsaz",
        "outputId": "1dc19f32-796f-4e42-af97-129905c23474"
      },
      "execution_count": null,
      "outputs": [
        {
          "output_type": "execute_result",
          "data": {
            "text/plain": [
              "array([[ 0.01826604, -0.65869649,  0.79189931],\n",
              "       [ 1.50466221,  1.64988029, -1.98471298],\n",
              "       [ 0.74230035, -0.60196948, -0.52193201],\n",
              "       [-0.07099133, -1.53957712, -0.22811222],\n",
              "       [-0.28216141,  1.27823604,  1.01633228]])"
            ]
          },
          "metadata": {},
          "execution_count": 164
        }
      ]
    },
    {
      "cell_type": "code",
      "source": [
        "arr.sort(1)\n",
        "arr"
      ],
      "metadata": {
        "colab": {
          "base_uri": "https://localhost:8080/"
        },
        "id": "SfGkf0Dvf4lf",
        "outputId": "89b6058f-ce5c-4d2e-fe34-114ab0f6bc9c"
      },
      "execution_count": null,
      "outputs": [
        {
          "output_type": "execute_result",
          "data": {
            "text/plain": [
              "array([[-0.65869649,  0.01826604,  0.79189931],\n",
              "       [-1.98471298,  1.50466221,  1.64988029],\n",
              "       [-0.60196948, -0.52193201,  0.74230035],\n",
              "       [-1.53957712, -0.22811222, -0.07099133],\n",
              "       [-0.28216141,  1.01633228,  1.27823604]])"
            ]
          },
          "metadata": {},
          "execution_count": 166
        }
      ]
    },
    {
      "cell_type": "code",
      "source": [
        "large_arr = np.random.randn(1000)\n",
        "large_arr.sort()\n",
        "large_arr[int(0.05*len(large_arr))]#5%百分位數"
      ],
      "metadata": {
        "colab": {
          "base_uri": "https://localhost:8080/"
        },
        "id": "2DdCFSLugKVs",
        "outputId": "7f73019f-cce1-4e22-f976-50e004a374fe"
      },
      "execution_count": null,
      "outputs": [
        {
          "output_type": "execute_result",
          "data": {
            "text/plain": [
              "-1.6603276631162824"
            ]
          },
          "metadata": {},
          "execution_count": 167
        }
      ]
    },
    {
      "cell_type": "markdown",
      "source": [
        "## Unique和其他集合操作\n",
        "| 方法🐱 | 描述☺ |\n",
        "| ------------- |:-------------:|\n",
        "|unique(x)|取得x和y中排序好不重複值|\n",
        "|intersect1d(x,y)|取得x和y排序好的共有值|\n",
        "|union1d(x,y)|取得x和y排序好的聯集值|\n",
        "|in1d(x,y)|x中的值是否存在y中,回傳一個布林陣列|\n",
        "|setdiff1d(x,y)|x中的值是否存在y中,但在y中不存在的元素|\n",
        "|setxor1d(x,y)|對稱差集,取得要就在x不然就在y的元素,但不能同時存在x與y|"
      ],
      "metadata": {
        "id": "5X22Rii8gjFD"
      }
    },
    {
      "cell_type": "code",
      "source": [
        "names = np.array(['Bob','Joe','Will','Bob','Will','Joe','Joe'])\n",
        "np.unique(names)"
      ],
      "metadata": {
        "colab": {
          "base_uri": "https://localhost:8080/"
        },
        "id": "Lb0FuNDmgiv2",
        "outputId": "8bf2054a-ab4c-4481-c8a3-5c798c755f48"
      },
      "execution_count": null,
      "outputs": [
        {
          "output_type": "execute_result",
          "data": {
            "text/plain": [
              "array(['Bob', 'Joe', 'Will'], dtype='<U4')"
            ]
          },
          "metadata": {},
          "execution_count": 168
        }
      ]
    },
    {
      "cell_type": "code",
      "source": [
        "ints=np.array([3,3,3,2,2,1,1,4,4])\n",
        "np.unique(ints)"
      ],
      "metadata": {
        "colab": {
          "base_uri": "https://localhost:8080/"
        },
        "id": "Cem0TgkFg730",
        "outputId": "351b16ad-62b8-4cd5-9879-38590da83bdb"
      },
      "execution_count": null,
      "outputs": [
        {
          "output_type": "execute_result",
          "data": {
            "text/plain": [
              "array([1, 2, 3, 4])"
            ]
          },
          "metadata": {},
          "execution_count": 169
        }
      ]
    },
    {
      "cell_type": "code",
      "source": [
        "sorted(set(names))"
      ],
      "metadata": {
        "colab": {
          "base_uri": "https://localhost:8080/"
        },
        "id": "KHVo0NLnlNE_",
        "outputId": "707de07c-07d0-4f38-a372-c7946f3a8a17"
      },
      "execution_count": null,
      "outputs": [
        {
          "output_type": "execute_result",
          "data": {
            "text/plain": [
              "['Bob', 'Joe', 'Will']"
            ]
          },
          "metadata": {},
          "execution_count": 170
        }
      ]
    },
    {
      "cell_type": "code",
      "source": [
        "values = np.array([6,0,0,3,2,5,6])\n",
        "np.in1d(values,[2,3,6])#是否有"
      ],
      "metadata": {
        "colab": {
          "base_uri": "https://localhost:8080/"
        },
        "id": "chLGjsfzlSnA",
        "outputId": "438e7ff7-6998-4373-91d1-618b51114a1e"
      },
      "execution_count": null,
      "outputs": [
        {
          "output_type": "execute_result",
          "data": {
            "text/plain": [
              "array([ True, False, False,  True,  True, False,  True])"
            ]
          },
          "metadata": {},
          "execution_count": 172
        }
      ]
    },
    {
      "cell_type": "markdown",
      "source": [
        "# 從檔案輸入或輸出值到陣列"
      ],
      "metadata": {
        "id": "ipwM8A4wllDc"
      }
    },
    {
      "cell_type": "code",
      "source": [
        "arr = np.arange(10)"
      ],
      "metadata": {
        "id": "KkxAQm0Llt3A"
      },
      "execution_count": null,
      "outputs": []
    },
    {
      "cell_type": "code",
      "source": [
        "#np.save和np.load是有效率弟從磁碟載入陣列資料的基礎式\n",
        "#陣列預設是以未壓縮原始二進位格式，儲存在副檔名為.npy的檔案中\n",
        "np.save('some_array',arr)#自動存為.npy檔案"
      ],
      "metadata": {
        "id": "k9ojOLrCl3AD"
      },
      "execution_count": null,
      "outputs": []
    },
    {
      "cell_type": "code",
      "source": [
        "np.load('some_array.npy')"
      ],
      "metadata": {
        "colab": {
          "base_uri": "https://localhost:8080/"
        },
        "id": "QOwUro58l-NE",
        "outputId": "fa90deb2-5262-4282-f109-da3bdc244316"
      },
      "execution_count": null,
      "outputs": [
        {
          "output_type": "execute_result",
          "data": {
            "text/plain": [
              "array([0, 1, 2, 3, 4, 5, 6, 7, 8, 9])"
            ]
          },
          "metadata": {},
          "execution_count": 176
        }
      ]
    },
    {
      "cell_type": "code",
      "source": [
        "np.savez('array_archieve.npz',a=arr,b=arr)#若要以未壓縮"
      ],
      "metadata": {
        "id": "cOfS2r7um2ou"
      },
      "execution_count": null,
      "outputs": []
    },
    {
      "cell_type": "code",
      "source": [
        "arch = np.load('array_archieve.npz')\n",
        "arch['b']"
      ],
      "metadata": {
        "colab": {
          "base_uri": "https://localhost:8080/"
        },
        "id": "dzop6XZZnTxM",
        "outputId": "54b847fa-8098-4e65-9f48-e992cdb65e3b"
      },
      "execution_count": null,
      "outputs": [
        {
          "output_type": "execute_result",
          "data": {
            "text/plain": [
              "array([0, 1, 2, 3, 4, 5, 6, 7, 8, 9])"
            ]
          },
          "metadata": {},
          "execution_count": 180
        }
      ]
    },
    {
      "cell_type": "code",
      "source": [
        "np.savez_compressed('array_compressed.npz',a=arr,b=arr)#已壓縮過的"
      ],
      "metadata": {
        "id": "1PuQeUTunowT"
      },
      "execution_count": null,
      "outputs": []
    },
    {
      "cell_type": "markdown",
      "source": [
        "# 線性代數\n",
        "| 函式🐱 | 描述☺ |\n",
        "| ------------- |:-------------:|\n",
        "|diag|以一維陣列回傳方形矩陣對角線(或非對角線)元素,轉換一個一維陣列值放到矩陣對角線上,其他非對角線元素填零|\n",
        "|dot|矩陣乘法|\n",
        "|trace|計算對角線元素的和|\n",
        "|det|計算矩陣行列式|\n",
        "|eig|計算方形矩陣的特徵值和特徵向量|\n",
        "|inv|計算方形矩陣的反矩陣|\n",
        "|pinv|計算矩陣的Moore-Penrose擬反矩陣|\n",
        "|qr|計算QR分解|\n",
        "|svd|計算奇異值分解(SVD)|\n",
        "|solve|A為一個方形矩陣,計算線性方程Ax=b|\n",
        "|lstsq|計算Ax=b的最小平方解|"
      ],
      "metadata": {
        "id": "EUB_oY4Qn8_T"
      }
    },
    {
      "cell_type": "code",
      "source": [
        "x=np.array([[1.,2.,3.],[4.,5.,6.]])\n",
        "y=np.array([[6.,23.],[-1,7],[8,9]])\n",
        "x"
      ],
      "metadata": {
        "colab": {
          "base_uri": "https://localhost:8080/"
        },
        "id": "yJlX2INQn_0h",
        "outputId": "1b301fb6-ec60-4b06-9770-7650d8d26c73"
      },
      "execution_count": null,
      "outputs": [
        {
          "output_type": "execute_result",
          "data": {
            "text/plain": [
              "array([[1., 2., 3.],\n",
              "       [4., 5., 6.]])"
            ]
          },
          "metadata": {},
          "execution_count": 184
        }
      ]
    },
    {
      "cell_type": "code",
      "source": [
        "y"
      ],
      "metadata": {
        "colab": {
          "base_uri": "https://localhost:8080/"
        },
        "id": "232r8pXTppMm",
        "outputId": "70cf53af-2d03-4d68-ebb3-f4122e57e68b"
      },
      "execution_count": null,
      "outputs": [
        {
          "output_type": "execute_result",
          "data": {
            "text/plain": [
              "array([[ 6., 23.],\n",
              "       [-1.,  7.],\n",
              "       [ 8.,  9.]])"
            ]
          },
          "metadata": {},
          "execution_count": 185
        }
      ]
    },
    {
      "cell_type": "code",
      "source": [
        "x.dot(y)"
      ],
      "metadata": {
        "colab": {
          "base_uri": "https://localhost:8080/"
        },
        "id": "j9YrBWkOpqOI",
        "outputId": "aecce293-1a82-451e-f2d0-6d7d89be689f"
      },
      "execution_count": null,
      "outputs": [
        {
          "output_type": "execute_result",
          "data": {
            "text/plain": [
              "array([[ 28.,  64.],\n",
              "       [ 67., 181.]])"
            ]
          },
          "metadata": {},
          "execution_count": 186
        }
      ]
    },
    {
      "cell_type": "code",
      "source": [
        "np.dot(x,y)"
      ],
      "metadata": {
        "colab": {
          "base_uri": "https://localhost:8080/"
        },
        "id": "AK7c4IhAps4Y",
        "outputId": "5dc0c4b7-6f60-4872-a29f-0ae332f55d8b"
      },
      "execution_count": null,
      "outputs": [
        {
          "output_type": "execute_result",
          "data": {
            "text/plain": [
              "array([[ 28.,  64.],\n",
              "       [ 67., 181.]])"
            ]
          },
          "metadata": {},
          "execution_count": 187
        }
      ]
    },
    {
      "cell_type": "code",
      "source": [
        "np.ones(3)"
      ],
      "metadata": {
        "colab": {
          "base_uri": "https://localhost:8080/"
        },
        "id": "t1HCY0crqKCp",
        "outputId": "0b7ce4ef-a1cd-44fb-989f-27ee14ef3e18"
      },
      "execution_count": null,
      "outputs": [
        {
          "output_type": "execute_result",
          "data": {
            "text/plain": [
              "array([1., 1., 1.])"
            ]
          },
          "metadata": {},
          "execution_count": 192
        }
      ]
    },
    {
      "cell_type": "code",
      "source": [
        "np.dot(x,np.ones(3))"
      ],
      "metadata": {
        "colab": {
          "base_uri": "https://localhost:8080/"
        },
        "id": "nYp3Z0U6qC-h",
        "outputId": "f84d2806-06d5-4253-9410-8d3dc8d7538e"
      },
      "execution_count": null,
      "outputs": [
        {
          "output_type": "execute_result",
          "data": {
            "text/plain": [
              "array([ 6., 15.])"
            ]
          },
          "metadata": {},
          "execution_count": 189
        }
      ]
    },
    {
      "cell_type": "code",
      "source": [
        "x @ np.ones(3)"
      ],
      "metadata": {
        "colab": {
          "base_uri": "https://localhost:8080/"
        },
        "id": "NJ9i9lcFp2y1",
        "outputId": "15aa601c-2aab-4882-ca2b-2cef5d38bfb1"
      },
      "execution_count": null,
      "outputs": [
        {
          "output_type": "execute_result",
          "data": {
            "text/plain": [
              "array([ 6., 15.])"
            ]
          },
          "metadata": {},
          "execution_count": 193
        }
      ]
    },
    {
      "cell_type": "code",
      "source": [
        "from numpy.linalg import inv,qr"
      ],
      "metadata": {
        "id": "f0zRZXJeqfXg"
      },
      "execution_count": null,
      "outputs": []
    },
    {
      "cell_type": "code",
      "source": [
        "X=np.random.randn(5,5)\n",
        "mat=X.T.dot(X)#轉置內積\n",
        "inv(mat)"
      ],
      "metadata": {
        "colab": {
          "base_uri": "https://localhost:8080/"
        },
        "id": "rwPV920qqpbS",
        "outputId": "fbe9a68f-af9e-4cb5-b8b2-ef4e60a7859d"
      },
      "execution_count": null,
      "outputs": [
        {
          "output_type": "execute_result",
          "data": {
            "text/plain": [
              "array([[ 5.1917249 ,  1.34666009, -1.97497733, -5.9929363 ,  0.07689747],\n",
              "       [ 1.34666009,  0.67676372, -0.6634984 , -1.6688407 ,  0.06128848],\n",
              "       [-1.97497733, -0.6634984 ,  0.97406885,  2.17499067, -0.09357538],\n",
              "       [-5.9929363 , -1.6688407 ,  2.17499067,  7.80194787, -0.04843438],\n",
              "       [ 0.07689747,  0.06128848, -0.09357538, -0.04843438,  0.0997876 ]])"
            ]
          },
          "metadata": {},
          "execution_count": 201
        }
      ]
    },
    {
      "cell_type": "code",
      "source": [
        "mat.dot(inv(mat))"
      ],
      "metadata": {
        "colab": {
          "base_uri": "https://localhost:8080/"
        },
        "id": "gvgXNdj6rMQB",
        "outputId": "ca85865c-d1ba-4a85-f4d5-8e1c623a93a6"
      },
      "execution_count": null,
      "outputs": [
        {
          "output_type": "execute_result",
          "data": {
            "text/plain": [
              "array([[ 1.00000000e+00, -1.05991991e-16,  6.33252633e-17,\n",
              "         2.39041699e-15, -7.69510349e-17],\n",
              "       [ 9.56142637e-17,  1.00000000e+00,  5.15015872e-17,\n",
              "         5.96918320e-16,  6.21546586e-17],\n",
              "       [-5.19879390e-16, -1.01907788e-16,  1.00000000e+00,\n",
              "        -2.48020321e-15,  3.45716284e-16],\n",
              "       [-1.19891977e-16,  1.29449846e-16,  3.49130861e-17,\n",
              "         1.00000000e+00, -1.00331726e-16],\n",
              "       [-7.17821802e-16,  1.75408250e-16,  2.56328855e-17,\n",
              "        -1.16856584e-15,  1.00000000e+00]])"
            ]
          },
          "metadata": {},
          "execution_count": 198
        }
      ]
    },
    {
      "cell_type": "code",
      "source": [
        "q,r =qr(mat)\n",
        "r"
      ],
      "metadata": {
        "colab": {
          "base_uri": "https://localhost:8080/"
        },
        "id": "svNPQhK1r95N",
        "outputId": "efe26f1f-16e3-4bcb-b48a-5ae35929991f"
      },
      "execution_count": null,
      "outputs": [
        {
          "output_type": "execute_result",
          "data": {
            "text/plain": [
              "array([[-7.68786918,  0.30910453,  4.23403094,  2.26205967,  4.76512144],\n",
              "       [ 0.        , -3.23670642, -1.42101304,  0.11464409, -1.64510485],\n",
              "       [ 0.        ,  0.        , -2.32630398, -0.0232268 , -0.82106569],\n",
              "       [ 0.        ,  0.        ,  0.        , -0.16202335, -0.8977438 ],\n",
              "       [ 0.        ,  0.        ,  0.        ,  0.        ,  0.59703451]])"
            ]
          },
          "metadata": {},
          "execution_count": 200
        }
      ]
    },
    {
      "cell_type": "markdown",
      "source": [
        "# 生成偽隨機\n",
        "* **numpy.random中部分函式**\n",
        "\n",
        "| 函式🐱 | 描述☺ |\n",
        "| ------------- |:-------------:|\n",
        "|seed|設定亂數產生器種子|\n",
        "|permutation|回傳一個打亂過的序列,或是打亂過的陣列|\n",
        "|shuffle|以in-place的方式打亂一個序列|\n",
        "|rand|從均勻分布中抽取樣本|\n",
        "|randint|指定低到高區間,從中抽取整數樣本|\n",
        "|randn|從平均數為0,標準差為1的常態分布上抽取樣本(MATLAB式介面)|\n",
        "|binomial|從二項分布中抽取樣本|\n",
        "|normal|從常態(高斯)分布中抽取樣本|\n",
        "|beta|從beta分布中抽取樣本|\n",
        "|chisquare|從卡方分布中抽取樣本|\n",
        "|gamma|從gamma分布中抽取樣本|\n",
        "|uniform|從均勻分布[0,1)中抽樣本|"
      ],
      "metadata": {
        "id": "4oNC5Afss0z1"
      }
    },
    {
      "cell_type": "code",
      "source": [
        "samples = np.random.normal(size=(4,4))\n",
        "samples"
      ],
      "metadata": {
        "colab": {
          "base_uri": "https://localhost:8080/"
        },
        "id": "fK7bfeCqsziu",
        "outputId": "7e1c861e-9c59-4f99-b50b-22514a149c7a"
      },
      "execution_count": null,
      "outputs": [
        {
          "output_type": "execute_result",
          "data": {
            "text/plain": [
              "array([[ 0.15220732,  1.76076141, -1.58163878,  1.01278289],\n",
              "       [ 1.49776485, -0.47875623, -0.32478447, -0.32156061],\n",
              "       [-0.91824848, -2.14834402, -0.02413086,  0.07868241],\n",
              "       [ 0.80486951, -1.01396526, -0.79473142, -0.1867084 ]])"
            ]
          },
          "metadata": {},
          "execution_count": 202
        }
      ]
    },
    {
      "cell_type": "code",
      "source": [
        "from random import normalvariate\n",
        "\n",
        "N =1000\n",
        "%timeit samples = [normalvariate(0,1) for _ in range(N)]"
      ],
      "metadata": {
        "colab": {
          "base_uri": "https://localhost:8080/"
        },
        "id": "fQdVecfFtPcq",
        "outputId": "a8c538e5-f014-4c30-968f-e43b794267d9"
      },
      "execution_count": null,
      "outputs": [
        {
          "output_type": "stream",
          "name": "stdout",
          "text": [
            "823 µs ± 11.6 µs per loop (mean ± std. dev. of 7 runs, 1000 loops each)\n"
          ]
        }
      ]
    },
    {
      "cell_type": "code",
      "source": [
        "%timeit np.random.normal(size=N)"
      ],
      "metadata": {
        "colab": {
          "base_uri": "https://localhost:8080/"
        },
        "id": "nuXWGD4Vuc2X",
        "outputId": "e434c4d1-af91-445b-cba9-1b144fd45491"
      },
      "execution_count": null,
      "outputs": [
        {
          "output_type": "stream",
          "name": "stdout",
          "text": [
            "53.4 µs ± 6.65 µs per loop (mean ± std. dev. of 7 runs, 10000 loops each)\n"
          ]
        }
      ]
    },
    {
      "cell_type": "code",
      "source": [
        "np.random.seed(1234)#種子碼 r set.seed(1234)\n",
        "#全域的種子碼"
      ],
      "metadata": {
        "id": "oCKnKwQ-umaQ"
      },
      "execution_count": null,
      "outputs": []
    },
    {
      "cell_type": "code",
      "source": [
        "rng = np.random.RandomState(1234)#建立獨立的亂數產生器\n",
        "rng.randn(10)"
      ],
      "metadata": {
        "colab": {
          "base_uri": "https://localhost:8080/"
        },
        "id": "Xuw0DQ3Su1Qz",
        "outputId": "dc161998-3f63-4d6f-b5e9-50e857be2cfa"
      },
      "execution_count": null,
      "outputs": [
        {
          "output_type": "execute_result",
          "data": {
            "text/plain": [
              "array([ 0.47143516, -1.19097569,  1.43270697, -0.3126519 , -0.72058873,\n",
              "        0.88716294,  0.85958841, -0.6365235 ,  0.01569637, -2.24268495])"
            ]
          },
          "metadata": {},
          "execution_count": 211
        }
      ]
    },
    {
      "cell_type": "markdown",
      "source": [
        "# 範例:隨機漫步"
      ],
      "metadata": {
        "id": "lgrZrzx0vWFF"
      }
    },
    {
      "cell_type": "code",
      "source": [
        "import random\n",
        "position = 0\n",
        "walk = [position]\n",
        "steps = 1000\n",
        "for i in range(steps):\n",
        "  step = 1 if random.randint(0,1) else -1\n",
        "  position += step\n",
        "  walk.append(position)"
      ],
      "metadata": {
        "id": "adOmNxVkvf_g"
      },
      "execution_count": null,
      "outputs": []
    },
    {
      "cell_type": "code",
      "source": [
        "plt.plot(walk[:100])"
      ],
      "metadata": {
        "colab": {
          "base_uri": "https://localhost:8080/",
          "height": 282
        },
        "id": "_6FYPS8nvS-U",
        "outputId": "cac5dd32-7ca4-450c-e901-20090dda85c7"
      },
      "execution_count": null,
      "outputs": [
        {
          "output_type": "execute_result",
          "data": {
            "text/plain": [
              "[<matplotlib.lines.Line2D at 0x7fcdeb897d30>]"
            ]
          },
          "metadata": {},
          "execution_count": 215
        },
        {
          "output_type": "display_data",
          "data": {
            "text/plain": [
              "<Figure size 432x288 with 1 Axes>"
            ],
            "image/png": "[encoded data removed]"
          },
          "metadata": {
            "needs_background": "light"
          }
        }
      ]
    },
    {
      "cell_type": "code",
      "source": [
        "nsteps = 1000\n",
        "draws = np.random.randint(0,2,size=nsteps)\n",
        "steps = np.where(draws>0,1,-1)\n",
        "walk = steps.cumsum()"
      ],
      "metadata": {
        "id": "i3BI289lweiD"
      },
      "execution_count": null,
      "outputs": []
    },
    {
      "cell_type": "code",
      "source": [
        "walk.min()"
      ],
      "metadata": {
        "colab": {
          "base_uri": "https://localhost:8080/"
        },
        "id": "CenYlwOHw5DB",
        "outputId": "af15ff7c-efb7-4f64-a43d-b45c578217f3"
      },
      "execution_count": null,
      "outputs": [
        {
          "output_type": "execute_result",
          "data": {
            "text/plain": [
              "-9"
            ]
          },
          "metadata": {},
          "execution_count": 217
        }
      ]
    },
    {
      "cell_type": "code",
      "source": [
        "walk.max()"
      ],
      "metadata": {
        "colab": {
          "base_uri": "https://localhost:8080/"
        },
        "id": "fcg8zdt_w7JH",
        "outputId": "2c4a9da8-3329-4a52-b833-e7ca146cb43c"
      },
      "execution_count": null,
      "outputs": [
        {
          "output_type": "execute_result",
          "data": {
            "text/plain": [
              "60"
            ]
          },
          "metadata": {},
          "execution_count": 218
        }
      ]
    },
    {
      "cell_type": "code",
      "source": [
        "(np.abs(walk)>=10).argmax()"
      ],
      "metadata": {
        "colab": {
          "base_uri": "https://localhost:8080/"
        },
        "id": "GIYnYF5XxInw",
        "outputId": "27dcfedd-b0b6-4e47-9a42-6297d9501ce6"
      },
      "execution_count": null,
      "outputs": [
        {
          "output_type": "execute_result",
          "data": {
            "text/plain": [
              "297"
            ]
          },
          "metadata": {},
          "execution_count": 219
        }
      ]
    },
    {
      "cell_type": "markdown",
      "source": [
        "## 一次模擬許多隨機漫步"
      ],
      "metadata": {
        "id": "nVbn5icUxo-1"
      }
    },
    {
      "cell_type": "code",
      "source": [
        "nwalks=5000\n",
        "nsteps=1000\n",
        "draws=np.random.randint(0,2,size=(nwalks,nsteps))#0或1\n",
        "steps=np.where(draws>0,1,-1)\n",
        "walks = steps.cumsum(1)\n",
        "walks"
      ],
      "metadata": {
        "colab": {
          "base_uri": "https://localhost:8080/"
        },
        "id": "G2A293-Yxn1i",
        "outputId": "c1e272b3-9559-44db-bf01-d808e7f72ad3"
      },
      "execution_count": null,
      "outputs": [
        {
          "output_type": "execute_result",
          "data": {
            "text/plain": [
              "array([[ -1,   0,   1, ...,  -6,  -5,  -4],\n",
              "       [ -1,  -2,  -1, ..., -18, -19, -18],\n",
              "       [  1,   0,  -1, ...,  24,  23,  22],\n",
              "       ...,\n",
              "       [ -1,   0,  -1, ...,  -2,  -3,  -4],\n",
              "       [ -1,   0,  -1, ...,  30,  29,  30],\n",
              "       [  1,   0,  -1, ...,  18,  19,  20]])"
            ]
          },
          "metadata": {},
          "execution_count": 222
        }
      ]
    },
    {
      "cell_type": "code",
      "source": [
        "walks.max()"
      ],
      "metadata": {
        "colab": {
          "base_uri": "https://localhost:8080/"
        },
        "id": "UwEy5RkIyXoX",
        "outputId": "7fb4de56-39c6-47ad-ac55-a0be6c9263b2"
      },
      "execution_count": null,
      "outputs": [
        {
          "output_type": "execute_result",
          "data": {
            "text/plain": [
              "137"
            ]
          },
          "metadata": {},
          "execution_count": 223
        }
      ]
    },
    {
      "cell_type": "code",
      "source": [
        "walk.min()"
      ],
      "metadata": {
        "colab": {
          "base_uri": "https://localhost:8080/"
        },
        "id": "vV7hQFkYypGt",
        "outputId": "8ce71d49-22cb-43a0-a26e-abd0f19a8244"
      },
      "execution_count": null,
      "outputs": [
        {
          "output_type": "execute_result",
          "data": {
            "text/plain": [
              "-9"
            ]
          },
          "metadata": {},
          "execution_count": 224
        }
      ]
    },
    {
      "cell_type": "code",
      "source": [
        "hits30 =(np.abs(walks)>30).any(1)\n",
        "hits30"
      ],
      "metadata": {
        "colab": {
          "base_uri": "https://localhost:8080/"
        },
        "id": "reX6jfiUys-u",
        "outputId": "0c0ff928-5360-4f6d-8410-a3fdd4879d83"
      },
      "execution_count": null,
      "outputs": [
        {
          "output_type": "execute_result",
          "data": {
            "text/plain": [
              "array([False, False, False, ..., False,  True,  True])"
            ]
          },
          "metadata": {},
          "execution_count": 226
        }
      ]
    },
    {
      "cell_type": "code",
      "source": [
        "hits30.sum()"
      ],
      "metadata": {
        "colab": {
          "base_uri": "https://localhost:8080/"
        },
        "id": "gXAcGkyvzEcG",
        "outputId": "debbc5f8-380c-400f-b16b-3e28ba65188c"
      },
      "execution_count": null,
      "outputs": [
        {
          "output_type": "execute_result",
          "data": {
            "text/plain": [
              "3278"
            ]
          },
          "metadata": {},
          "execution_count": 227
        }
      ]
    },
    {
      "cell_type": "code",
      "source": [
        "crossing_times=(np.abs(walks[hits30]>=30)).argmax(1)\n",
        "crossing_times.mean()"
      ],
      "metadata": {
        "colab": {
          "base_uri": "https://localhost:8080/"
        },
        "id": "hFCr8ixVzKW2",
        "outputId": "5c49ddf9-a988-4f4b-da91-669529fcf708"
      },
      "execution_count": null,
      "outputs": [
        {
          "output_type": "execute_result",
          "data": {
            "text/plain": [
              "264.5179987797437"
            ]
          },
          "metadata": {},
          "execution_count": 231
        }
      ]
    },
    {
      "cell_type": "code",
      "source": [
        "steps = np.random.normal(loc=0,scale=0.25,size=(nwalks,nsteps))"
      ],
      "metadata": {
        "id": "TWBacsBEzd2W"
      },
      "execution_count": null,
      "outputs": []
    }
  ]
}