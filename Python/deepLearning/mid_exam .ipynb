{
 "cells": [
  {
   "cell_type": "markdown",
   "id": "b1a99621",
   "metadata": {},
   "source": [
    "* 期中作業\n",
    "    * 找出最佳解"
   ]
  },
  {
   "cell_type": "markdown",
   "id": "6a3af9cc",
   "metadata": {},
   "source": [
    "## 匯入資料"
   ]
  },
  {
   "cell_type": "code",
   "execution_count": 34,
   "id": "0314f743",
   "metadata": {},
   "outputs": [],
   "source": [
    "from keras.datasets import mnist\n",
    "(train_images, train_labels), (test_images, test_labels) = mnist.load_data()"
   ]
  },
  {
   "cell_type": "code",
   "execution_count": 35,
   "id": "6dd33c05",
   "metadata": {},
   "outputs": [
    {
     "name": "stdout",
     "output_type": "stream",
     "text": [
      "資料樣態: (60000, 28, 28)\n",
      "資料樣態: (10000, 28, 28)\n"
     ]
    }
   ],
   "source": [
    "print(\"資料樣態:\",train_images.shape)\n",
    "print(\"資料樣態:\",test_images.shape)"
   ]
  },
  {
   "cell_type": "code",
   "execution_count": 36,
   "id": "aff6d18a",
   "metadata": {},
   "outputs": [
    {
     "name": "stdout",
     "output_type": "stream",
     "text": [
      "資料樣態: (70000,)\n"
     ]
    }
   ],
   "source": [
    "import numpy as np\n",
    "type(test_labels)\n",
    "data_labels = np.concatenate((train_labels, test_labels))\n",
    "print(\"資料樣態:\",data_labels.shape)"
   ]
  },
  {
   "cell_type": "code",
   "execution_count": 37,
   "id": "a5a38f65",
   "metadata": {},
   "outputs": [
    {
     "name": "stdout",
     "output_type": "stream",
     "text": [
      "資料樣態: (70000, 28, 28)\n"
     ]
    }
   ],
   "source": [
    "data_images = np.concatenate((train_images, test_images))\n",
    "print(\"資料樣態:\",data_images.shape)"
   ]
  },
  {
   "cell_type": "code",
   "execution_count": 38,
   "id": "9668deb4",
   "metadata": {},
   "outputs": [
    {
     "name": "stdout",
     "output_type": "stream",
     "text": [
      "訓練集資料樣態(image): (60000, 28, 28)\n",
      "測試集資料樣態(label): (10000,)\n"
     ]
    }
   ],
   "source": [
    "import random\n",
    "random.seed(10)\n",
    "train_num=random.sample(range(0, 69999), 60000)\n",
    "test_num=np.setdiff1d(list(range(0, 70000)), train_num, assume_unique=False)\n",
    "data_train_images=data_images[train_num,]\n",
    "data_train_labels=data_labels[train_num,]\n",
    "data_test_images=data_images[test_num,]\n",
    "data_test_labels=data_labels[test_num,]\n",
    "print(\"訓練集資料樣態(image):\",data_train_images.shape)\n",
    "print(\"測試集資料樣態(label):\",data_test_labels.shape)"
   ]
  },
  {
   "cell_type": "code",
   "execution_count": 39,
   "id": "9ffb479b",
   "metadata": {},
   "outputs": [
    {
     "name": "stdout",
     "output_type": "stream",
     "text": [
      "Empty\n"
     ]
    }
   ],
   "source": [
    "##驗證是否交集小工具\n",
    "def inter(a,b):\n",
    "    return list(set(a)&set(b))\n",
    " \n",
    "lst3=inter(train_num,test_num)\n",
    "if lst3:\n",
    "    print(lst3)\n",
    "else:\n",
    "    print(\"Empty\")"
   ]
  },
  {
   "cell_type": "markdown",
   "id": "23b619d1",
   "metadata": {},
   "source": [
    "## 進入資料處理"
   ]
  },
  {
   "cell_type": "code",
   "execution_count": 40,
   "id": "a2a7e408",
   "metadata": {},
   "outputs": [],
   "source": [
    "data_train_images=data_train_images.reshape((60000,28*28))\n",
    "data_train_images=data_train_images.astype('float32')/255\n",
    "\n",
    "data_test_images=data_test_images.reshape((10000,28*28))\n",
    "data_test_images=data_test_images.astype('float32')/255"
   ]
  },
  {
   "cell_type": "markdown",
   "id": "5bfc19cd",
   "metadata": {},
   "source": [
    "## 原始模型"
   ]
  },
  {
   "cell_type": "code",
   "execution_count": 41,
   "id": "74f4be4a",
   "metadata": {},
   "outputs": [],
   "source": [
    "from keras import models\n",
    "from keras import layers"
   ]
  },
  {
   "cell_type": "code",
   "execution_count": 42,
   "id": "a6eb2547",
   "metadata": {},
   "outputs": [],
   "source": [
    "network = models.Sequential()\n",
    "network.add(layers.Dense(64, activation='relu', input_shape=(28 * 28,)))\n",
    "network.add(layers.Dense(64, activation='relu'))\n",
    "network.add(layers.Dense(10, activation='softmax'))"
   ]
  },
  {
   "cell_type": "code",
   "execution_count": 43,
   "id": "73b82f25",
   "metadata": {},
   "outputs": [],
   "source": [
    "network.compile(optimizer='rmsprop',\n",
    "                loss='categorical_crossentropy',\n",
    "                metrics=['accuracy'])"
   ]
  },
  {
   "cell_type": "code",
   "execution_count": 44,
   "id": "276fd921",
   "metadata": {},
   "outputs": [],
   "source": [
    "from keras.utils import to_categorical\n",
    "\n",
    "data_train_labels = to_categorical(data_train_labels)#標籤類別化\n",
    "data_test_labels = to_categorical(data_test_labels)"
   ]
  },
  {
   "cell_type": "code",
   "execution_count": 45,
   "id": "dd6f711e",
   "metadata": {},
   "outputs": [],
   "source": [
    "x_val = data_train_images[:10000]\n",
    "partial_x_train = data_train_images[10000:]\n",
    "y_val = data_train_labels[:10000]\n",
    "partial_y_train = data_train_labels[10000:]"
   ]
  },
  {
   "cell_type": "code",
   "execution_count": 46,
   "id": "2ab51778",
   "metadata": {},
   "outputs": [
    {
     "name": "stdout",
     "output_type": "stream",
     "text": [
      "Epoch 1/20\n",
      "391/391 [==============================] - 3s 5ms/step - loss: 0.4061 - accuracy: 0.8866 - val_loss: 0.2291 - val_accuracy: 0.9334\n",
      "Epoch 2/20\n",
      "391/391 [==============================] - 2s 4ms/step - loss: 0.1890 - accuracy: 0.9444 - val_loss: 0.1721 - val_accuracy: 0.9509\n",
      "Epoch 3/20\n",
      "391/391 [==============================] - 2s 4ms/step - loss: 0.1370 - accuracy: 0.9592 - val_loss: 0.1418 - val_accuracy: 0.9583\n",
      "Epoch 4/20\n",
      "391/391 [==============================] - 2s 4ms/step - loss: 0.1108 - accuracy: 0.9667 - val_loss: 0.1192 - val_accuracy: 0.9630\n",
      "Epoch 5/20\n",
      "391/391 [==============================] - 2s 4ms/step - loss: 0.0919 - accuracy: 0.9719 - val_loss: 0.1101 - val_accuracy: 0.9673\n",
      "Epoch 6/20\n",
      "391/391 [==============================] - 2s 4ms/step - loss: 0.0792 - accuracy: 0.9765 - val_loss: 0.1111 - val_accuracy: 0.9680\n",
      "Epoch 7/20\n",
      "391/391 [==============================] - 2s 4ms/step - loss: 0.0686 - accuracy: 0.9791 - val_loss: 0.1208 - val_accuracy: 0.9636\n",
      "Epoch 8/20\n",
      "391/391 [==============================] - 2s 4ms/step - loss: 0.0588 - accuracy: 0.9816 - val_loss: 0.1084 - val_accuracy: 0.9694\n",
      "Epoch 9/20\n",
      "391/391 [==============================] - 2s 4ms/step - loss: 0.0519 - accuracy: 0.9834 - val_loss: 0.1105 - val_accuracy: 0.9696\n",
      "Epoch 10/20\n",
      "391/391 [==============================] - 1s 4ms/step - loss: 0.0456 - accuracy: 0.9861 - val_loss: 0.1113 - val_accuracy: 0.9685\n",
      "Epoch 11/20\n",
      "391/391 [==============================] - 1s 4ms/step - loss: 0.0401 - accuracy: 0.9882 - val_loss: 0.1094 - val_accuracy: 0.9707\n",
      "Epoch 12/20\n",
      "391/391 [==============================] - 1s 4ms/step - loss: 0.0352 - accuracy: 0.9892 - val_loss: 0.0955 - val_accuracy: 0.9743\n",
      "Epoch 13/20\n",
      "391/391 [==============================] - 2s 4ms/step - loss: 0.0307 - accuracy: 0.9906 - val_loss: 0.1000 - val_accuracy: 0.9722\n",
      "Epoch 14/20\n",
      "391/391 [==============================] - 1s 4ms/step - loss: 0.0281 - accuracy: 0.9912 - val_loss: 0.1063 - val_accuracy: 0.9721\n",
      "Epoch 15/20\n",
      "391/391 [==============================] - 2s 4ms/step - loss: 0.0243 - accuracy: 0.9925 - val_loss: 0.0977 - val_accuracy: 0.9751\n",
      "Epoch 16/20\n",
      "391/391 [==============================] - 1s 4ms/step - loss: 0.0214 - accuracy: 0.9933 - val_loss: 0.1029 - val_accuracy: 0.9740\n",
      "Epoch 17/20\n",
      "391/391 [==============================] - 2s 4ms/step - loss: 0.0191 - accuracy: 0.9939 - val_loss: 0.1083 - val_accuracy: 0.9749\n",
      "Epoch 18/20\n",
      "391/391 [==============================] - 2s 4ms/step - loss: 0.0161 - accuracy: 0.9951 - val_loss: 0.1234 - val_accuracy: 0.9727\n",
      "Epoch 19/20\n",
      "391/391 [==============================] - 2s 4ms/step - loss: 0.0151 - accuracy: 0.9953 - val_loss: 0.1122 - val_accuracy: 0.9751\n",
      "Epoch 20/20\n",
      "391/391 [==============================] - 2s 4ms/step - loss: 0.0130 - accuracy: 0.9963 - val_loss: 0.1180 - val_accuracy: 0.9753\n"
     ]
    }
   ],
   "source": [
    "history = network.fit(partial_x_train, partial_y_train, epochs=20, batch_size=128,\n",
    "                    validation_data=(x_val, y_val))"
   ]
  },
  {
   "cell_type": "code",
   "execution_count": 47,
   "id": "b0f05950",
   "metadata": {},
   "outputs": [
    {
     "data": {
      "text/plain": [
       "dict_keys(['loss', 'accuracy', 'val_loss', 'val_accuracy'])"
      ]
     },
     "execution_count": 47,
     "metadata": {},
     "output_type": "execute_result"
    }
   ],
   "source": [
    "#訓練的過程會把相關資訊存放在 history，透過事後分析訓練過程的資訊可以幫助我們優化參數。\n",
    "history_dict = history.history\n",
    "history_dict.keys()"
   ]
  },
  {
   "cell_type": "code",
   "execution_count": 48,
   "id": "b1ddadfb",
   "metadata": {
    "scrolled": true
   },
   "outputs": [
    {
     "data": {
      "image/png": "[encoded data removed]",
      "text/plain": [
       "<Figure size 432x288 with 1 Axes>"
      ]
     },
     "metadata": {
      "needs_background": "light"
     },
     "output_type": "display_data"
    }
   ],
   "source": [
    "#透過上面的方法可以取得訓練 History 包含的資訊，然後我們將資訊繪製成為圖表，如下：\n",
    "import matplotlib.pyplot as plt\n",
    "\n",
    "history_dict = history.history\n",
    "loss_values = history_dict['loss']\n",
    "val_loss_values = history_dict['val_loss']\n",
    "\n",
    "epochs = range(1, len(loss_values) + 1)\n",
    "\n",
    "plt.plot(epochs, loss_values, 'bo', label='Training loss')\n",
    "plt.plot(epochs, val_loss_values, 'b', label='Validation loss')\n",
    "plt.title('Training and validation loss')\n",
    "plt.xlabel('Epochs')\n",
    "plt.ylabel('Loss')\n",
    "plt.legend()\n",
    "\n",
    "plt.show()"
   ]
  },
  {
   "cell_type": "code",
   "execution_count": 49,
   "id": "b0f55585",
   "metadata": {},
   "outputs": [
    {
     "data": {
      "text/plain": [
       "dict_keys(['loss', 'accuracy', 'val_loss', 'val_accuracy'])"
      ]
     },
     "execution_count": 49,
     "metadata": {},
     "output_type": "execute_result"
    }
   ],
   "source": [
    "history_dict.keys()"
   ]
  },
  {
   "cell_type": "code",
   "execution_count": 50,
   "id": "c7b45e21",
   "metadata": {
    "scrolled": true
   },
   "outputs": [
    {
     "data": {
      "image/png": "[encoded data removed]",
      "text/plain": [
       "<Figure size 432x288 with 1 Axes>"
      ]
     },
     "metadata": {
      "needs_background": "light"
     },
     "output_type": "display_data"
    }
   ],
   "source": [
    "plt.clf()\n",
    "acc_values = history_dict['accuracy']\n",
    "val_acc_values = history_dict['val_accuracy']\n",
    "\n",
    "plt.plot(epochs, acc_values, 'bo', label='Training acc')\n",
    "plt.plot(epochs, val_acc_values, 'b', label='Validation acc')\n",
    "plt.title('Training and validation accuracy')\n",
    "plt.xlabel('Epochs')\n",
    "plt.ylabel('Accuracy')\n",
    "plt.legend()\n",
    "\n",
    "plt.show()"
   ]
  },
  {
   "cell_type": "code",
   "execution_count": 51,
   "id": "8804d894",
   "metadata": {},
   "outputs": [
    {
     "name": "stdout",
     "output_type": "stream",
     "text": [
      "Epoch 1/8\n",
      "118/118 [==============================] - 2s 8ms/step - loss: 0.1786 - accuracy: 0.7309\n",
      "Epoch 2/8\n",
      "118/118 [==============================] - 1s 8ms/step - loss: 0.0714 - accuracy: 0.9008\n",
      "Epoch 3/8\n",
      "118/118 [==============================] - 1s 7ms/step - loss: 0.0549 - accuracy: 0.9192\n",
      "Epoch 4/8\n",
      "118/118 [==============================] - 1s 7ms/step - loss: 0.0460 - accuracy: 0.9316\n",
      "Epoch 5/8\n",
      "118/118 [==============================] - 1s 7ms/step - loss: 0.0401 - accuracy: 0.9402\n",
      "Epoch 6/8\n",
      "118/118 [==============================] - 1s 7ms/step - loss: 0.0358 - accuracy: 0.9465\n",
      "Epoch 7/8\n",
      "118/118 [==============================] - 1s 6ms/step - loss: 0.0324 - accuracy: 0.9512\n",
      "Epoch 8/8\n",
      "118/118 [==============================] - 1s 7ms/step - loss: 0.0297 - accuracy: 0.9560\n",
      "313/313 [==============================] - 1s 2ms/step - loss: 0.0323 - accuracy: 0.9505\n"
     ]
    }
   ],
   "source": [
    "network = models.Sequential()\n",
    "network.add(layers.Dense(64, activation='relu', input_shape=(28 * 28,)))\n",
    "network.add(layers.Dense(64, activation='relu', input_shape=(28 * 28,)))\n",
    "network.add(layers.Dense(10, activation='softmax'))\n",
    "\n",
    "network.compile(optimizer='rmsprop',\n",
    "              loss='binary_crossentropy',\n",
    "              metrics=['accuracy'])\n",
    "\n",
    "network.fit(data_train_images, data_train_labels, epochs=8, batch_size=512)\n",
    "results = network.evaluate(data_test_images, data_test_labels)"
   ]
  },
  {
   "cell_type": "markdown",
   "id": "ee8a92cd",
   "metadata": {},
   "source": [
    "## 減少network\n",
    "* 為什麼只做到16，不繼續減少至8或4的神經元，這是因為layer units少於你要估計的10個機率，會不太OK。"
   ]
  },
  {
   "cell_type": "markdown",
   "id": "ba2afca3",
   "metadata": {},
   "source": [
    "### 減少至32layer units"
   ]
  },
  {
   "cell_type": "code",
   "execution_count": 52,
   "id": "78477891",
   "metadata": {},
   "outputs": [],
   "source": [
    "network = models.Sequential()\n",
    "network.add(layers.Dense(32, activation='relu', input_shape=(28 * 28,)))\n",
    "network.add(layers.Dense(32, activation='relu'))\n",
    "network.add(layers.Dense(10, activation='softmax'))"
   ]
  },
  {
   "cell_type": "code",
   "execution_count": 53,
   "id": "eae4428a",
   "metadata": {},
   "outputs": [],
   "source": [
    "network.compile(optimizer='rmsprop',\n",
    "                loss='categorical_crossentropy',\n",
    "                metrics=['accuracy'])"
   ]
  },
  {
   "cell_type": "code",
   "execution_count": 54,
   "id": "d9940995",
   "metadata": {},
   "outputs": [
    {
     "name": "stdout",
     "output_type": "stream",
     "text": [
      "Epoch 1/20\n",
      "391/391 [==============================] - 3s 5ms/step - loss: 0.5015 - accuracy: 0.8593 - val_loss: 0.2988 - val_accuracy: 0.9160\n",
      "Epoch 2/20\n",
      "391/391 [==============================] - 1s 3ms/step - loss: 0.2374 - accuracy: 0.9306 - val_loss: 0.2214 - val_accuracy: 0.9368\n",
      "Epoch 3/20\n",
      "391/391 [==============================] - 1s 3ms/step - loss: 0.1898 - accuracy: 0.9441 - val_loss: 0.1942 - val_accuracy: 0.9439\n",
      "Epoch 4/20\n",
      "391/391 [==============================] - 1s 3ms/step - loss: 0.1605 - accuracy: 0.9524 - val_loss: 0.1708 - val_accuracy: 0.9502\n",
      "Epoch 5/20\n",
      "391/391 [==============================] - 1s 3ms/step - loss: 0.1401 - accuracy: 0.9590 - val_loss: 0.1590 - val_accuracy: 0.9530\n",
      "Epoch 6/20\n",
      "391/391 [==============================] - 1s 3ms/step - loss: 0.1256 - accuracy: 0.9625 - val_loss: 0.1452 - val_accuracy: 0.9569\n",
      "Epoch 7/20\n",
      "391/391 [==============================] - 1s 3ms/step - loss: 0.1143 - accuracy: 0.9661 - val_loss: 0.1404 - val_accuracy: 0.9577\n",
      "Epoch 8/20\n",
      "391/391 [==============================] - 1s 3ms/step - loss: 0.1045 - accuracy: 0.9683 - val_loss: 0.1327 - val_accuracy: 0.9612\n",
      "Epoch 9/20\n",
      "391/391 [==============================] - 1s 3ms/step - loss: 0.0970 - accuracy: 0.9704 - val_loss: 0.1341 - val_accuracy: 0.9599\n",
      "Epoch 10/20\n",
      "391/391 [==============================] - 1s 3ms/step - loss: 0.0901 - accuracy: 0.9728 - val_loss: 0.1300 - val_accuracy: 0.9604\n",
      "Epoch 11/20\n",
      "391/391 [==============================] - 1s 3ms/step - loss: 0.0845 - accuracy: 0.9746 - val_loss: 0.1248 - val_accuracy: 0.9638\n",
      "Epoch 12/20\n",
      "391/391 [==============================] - 1s 3ms/step - loss: 0.0798 - accuracy: 0.9758 - val_loss: 0.1276 - val_accuracy: 0.9627\n",
      "Epoch 13/20\n",
      "391/391 [==============================] - 1s 3ms/step - loss: 0.0741 - accuracy: 0.9773 - val_loss: 0.1320 - val_accuracy: 0.9611\n",
      "Epoch 14/20\n",
      "391/391 [==============================] - 1s 3ms/step - loss: 0.0699 - accuracy: 0.9790 - val_loss: 0.1350 - val_accuracy: 0.9611\n",
      "Epoch 15/20\n",
      "391/391 [==============================] - 1s 3ms/step - loss: 0.0656 - accuracy: 0.9798 - val_loss: 0.1384 - val_accuracy: 0.9600\n",
      "Epoch 16/20\n",
      "391/391 [==============================] - 1s 3ms/step - loss: 0.0618 - accuracy: 0.9807 - val_loss: 0.1311 - val_accuracy: 0.9633\n",
      "Epoch 17/20\n",
      "391/391 [==============================] - 1s 3ms/step - loss: 0.0594 - accuracy: 0.9818 - val_loss: 0.1261 - val_accuracy: 0.9634\n",
      "Epoch 18/20\n",
      "391/391 [==============================] - 1s 4ms/step - loss: 0.0552 - accuracy: 0.9833 - val_loss: 0.1261 - val_accuracy: 0.9645\n",
      "Epoch 19/20\n",
      "391/391 [==============================] - 1s 4ms/step - loss: 0.0533 - accuracy: 0.9836 - val_loss: 0.1265 - val_accuracy: 0.9655\n",
      "Epoch 20/20\n",
      "391/391 [==============================] - 1s 3ms/step - loss: 0.0503 - accuracy: 0.9844 - val_loss: 0.1283 - val_accuracy: 0.9647\n"
     ]
    }
   ],
   "source": [
    "history = network.fit(partial_x_train, partial_y_train, epochs=20, batch_size=128,\n",
    "                    validation_data=(x_val, y_val))"
   ]
  },
  {
   "cell_type": "code",
   "execution_count": 55,
   "id": "72abe57a",
   "metadata": {},
   "outputs": [
    {
     "data": {
      "image/png": "[encoded data removed]",
      "text/plain": [
       "<Figure size 432x288 with 1 Axes>"
      ]
     },
     "metadata": {
      "needs_background": "light"
     },
     "output_type": "display_data"
    }
   ],
   "source": [
    "#透過上面的方法可以取得訓練 History 包含的資訊，然後我們將資訊繪製成為圖表，如下：\n",
    "import matplotlib.pyplot as plt\n",
    "\n",
    "history_dict = history.history\n",
    "loss_values = history_dict['loss']\n",
    "val_loss_values = history_dict['val_loss']\n",
    "\n",
    "epochs = range(1, len(loss_values) + 1)\n",
    "\n",
    "plt.plot(epochs, loss_values, 'bo', label='Training loss')\n",
    "plt.plot(epochs, val_loss_values, 'b', label='Validation loss')\n",
    "plt.title('Training and validation loss')\n",
    "plt.xlabel('Epochs')\n",
    "plt.ylabel('Loss')\n",
    "plt.legend()\n",
    "\n",
    "plt.show()"
   ]
  },
  {
   "cell_type": "code",
   "execution_count": 56,
   "id": "dd74f2df",
   "metadata": {},
   "outputs": [
    {
     "data": {
      "image/png": "[encoded data removed]",
      "text/plain": [
       "<Figure size 432x288 with 1 Axes>"
      ]
     },
     "metadata": {
      "needs_background": "light"
     },
     "output_type": "display_data"
    }
   ],
   "source": [
    "plt.clf()\n",
    "acc_values = history_dict['accuracy']\n",
    "val_acc_values = history_dict['val_accuracy']\n",
    "\n",
    "plt.plot(epochs, acc_values, 'bo', label='Training acc')\n",
    "plt.plot(epochs, val_acc_values, 'b', label='Validation acc')\n",
    "plt.title('Training and validation accuracy')\n",
    "plt.xlabel('Epochs')\n",
    "plt.ylabel('Accuracy')\n",
    "plt.legend()\n",
    "\n",
    "plt.show()"
   ]
  },
  {
   "cell_type": "code",
   "execution_count": 57,
   "id": "137bbba8",
   "metadata": {},
   "outputs": [
    {
     "name": "stdout",
     "output_type": "stream",
     "text": [
      "Epoch 1/8\n",
      "118/118 [==============================] - 2s 8ms/step - loss: 0.2203 - accuracy: 0.6663\n",
      "Epoch 2/8\n",
      "118/118 [==============================] - 1s 6ms/step - loss: 0.0867 - accuracy: 0.8876\n",
      "Epoch 3/8\n",
      "118/118 [==============================] - 1s 6ms/step - loss: 0.0655 - accuracy: 0.9088\n",
      "Epoch 4/8\n",
      "118/118 [==============================] - 1s 5ms/step - loss: 0.0556 - accuracy: 0.9210\n",
      "Epoch 5/8\n",
      "118/118 [==============================] - 1s 5ms/step - loss: 0.0492 - accuracy: 0.9297\n",
      "Epoch 6/8\n",
      "118/118 [==============================] - 1s 6ms/step - loss: 0.0446 - accuracy: 0.9362\n",
      "Epoch 7/8\n",
      "118/118 [==============================] - 1s 5ms/step - loss: 0.0408 - accuracy: 0.9416\n",
      "Epoch 8/8\n",
      "118/118 [==============================] - 1s 5ms/step - loss: 0.0379 - accuracy: 0.9465\n",
      "313/313 [==============================] - 1s 2ms/step - loss: 0.0381 - accuracy: 0.9446\n"
     ]
    }
   ],
   "source": [
    "network = models.Sequential()\n",
    "network.add(layers.Dense(32, activation='relu', input_shape=(28 * 28,)))\n",
    "network.add(layers.Dense(32, activation='relu', input_shape=(28 * 28,)))\n",
    "network.add(layers.Dense(10, activation='softmax'))\n",
    "\n",
    "network.compile(optimizer='rmsprop',\n",
    "              loss='binary_crossentropy',\n",
    "              metrics=['accuracy'])\n",
    "\n",
    "network.fit(data_train_images, data_train_labels, epochs=8, batch_size=512)\n",
    "results = network.evaluate(data_test_images, data_test_labels)"
   ]
  },
  {
   "cell_type": "markdown",
   "id": "2052a293",
   "metadata": {},
   "source": [
    "### 減少至16layer units"
   ]
  },
  {
   "cell_type": "code",
   "execution_count": 58,
   "id": "b6b0c597",
   "metadata": {},
   "outputs": [],
   "source": [
    "network = models.Sequential()\n",
    "network.add(layers.Dense(16, activation='relu', input_shape=(28 * 28,)))\n",
    "network.add(layers.Dense(16, activation='relu'))\n",
    "network.add(layers.Dense(10, activation='softmax'))"
   ]
  },
  {
   "cell_type": "code",
   "execution_count": 59,
   "id": "b22f35fe",
   "metadata": {},
   "outputs": [],
   "source": [
    "network.compile(optimizer='rmsprop',\n",
    "                loss='categorical_crossentropy',\n",
    "                metrics=['accuracy'])"
   ]
  },
  {
   "cell_type": "code",
   "execution_count": 60,
   "id": "41e565d9",
   "metadata": {},
   "outputs": [
    {
     "name": "stdout",
     "output_type": "stream",
     "text": [
      "Epoch 1/20\n",
      "391/391 [==============================] - 3s 5ms/step - loss: 0.6616 - accuracy: 0.8222 - val_loss: 0.3397 - val_accuracy: 0.9025\n",
      "Epoch 2/20\n",
      "391/391 [==============================] - 1s 3ms/step - loss: 0.2999 - accuracy: 0.9140 - val_loss: 0.2900 - val_accuracy: 0.9159\n",
      "Epoch 3/20\n",
      "391/391 [==============================] - 1s 3ms/step - loss: 0.2598 - accuracy: 0.9238 - val_loss: 0.2782 - val_accuracy: 0.9209\n",
      "Epoch 4/20\n",
      "391/391 [==============================] - 1s 3ms/step - loss: 0.2354 - accuracy: 0.9303 - val_loss: 0.2511 - val_accuracy: 0.9274\n",
      "Epoch 5/20\n",
      "391/391 [==============================] - 1s 3ms/step - loss: 0.2167 - accuracy: 0.9353 - val_loss: 0.2332 - val_accuracy: 0.9337\n",
      "Epoch 6/20\n",
      "391/391 [==============================] - 1s 4ms/step - loss: 0.2021 - accuracy: 0.9400 - val_loss: 0.2230 - val_accuracy: 0.9368\n",
      "Epoch 7/20\n",
      "391/391 [==============================] - 1s 3ms/step - loss: 0.1897 - accuracy: 0.9441 - val_loss: 0.2124 - val_accuracy: 0.9402\n",
      "Epoch 8/20\n",
      "391/391 [==============================] - 1s 3ms/step - loss: 0.1804 - accuracy: 0.9465 - val_loss: 0.2099 - val_accuracy: 0.9381\n",
      "Epoch 9/20\n",
      "391/391 [==============================] - 1s 3ms/step - loss: 0.1720 - accuracy: 0.9486 - val_loss: 0.1981 - val_accuracy: 0.9441\n",
      "Epoch 10/20\n",
      "391/391 [==============================] - 1s 3ms/step - loss: 0.1641 - accuracy: 0.9519 - val_loss: 0.1987 - val_accuracy: 0.9429\n",
      "Epoch 11/20\n",
      "391/391 [==============================] - 1s 3ms/step - loss: 0.1579 - accuracy: 0.9533 - val_loss: 0.1908 - val_accuracy: 0.9459\n",
      "Epoch 12/20\n",
      "391/391 [==============================] - 1s 3ms/step - loss: 0.1517 - accuracy: 0.9550 - val_loss: 0.1912 - val_accuracy: 0.9482\n",
      "Epoch 13/20\n",
      "391/391 [==============================] - 1s 3ms/step - loss: 0.1475 - accuracy: 0.9566 - val_loss: 0.1922 - val_accuracy: 0.9471\n",
      "Epoch 14/20\n",
      "391/391 [==============================] - 1s 3ms/step - loss: 0.1433 - accuracy: 0.9575 - val_loss: 0.1860 - val_accuracy: 0.9481\n",
      "Epoch 15/20\n",
      "391/391 [==============================] - 1s 3ms/step - loss: 0.1392 - accuracy: 0.9590 - val_loss: 0.1883 - val_accuracy: 0.9486\n",
      "Epoch 16/20\n",
      "391/391 [==============================] - 1s 3ms/step - loss: 0.1360 - accuracy: 0.9603 - val_loss: 0.1811 - val_accuracy: 0.9497\n",
      "Epoch 17/20\n",
      "391/391 [==============================] - 1s 3ms/step - loss: 0.1321 - accuracy: 0.9607 - val_loss: 0.1804 - val_accuracy: 0.9495\n",
      "Epoch 18/20\n",
      "391/391 [==============================] - 1s 3ms/step - loss: 0.1292 - accuracy: 0.9620 - val_loss: 0.1876 - val_accuracy: 0.9510\n",
      "Epoch 19/20\n",
      "391/391 [==============================] - 1s 3ms/step - loss: 0.1267 - accuracy: 0.9623 - val_loss: 0.1826 - val_accuracy: 0.9493\n",
      "Epoch 20/20\n",
      "391/391 [==============================] - 1s 3ms/step - loss: 0.1239 - accuracy: 0.9632 - val_loss: 0.1805 - val_accuracy: 0.9490\n"
     ]
    }
   ],
   "source": [
    "history = network.fit(partial_x_train, partial_y_train, epochs=20, batch_size=128,\n",
    "                    validation_data=(x_val, y_val))"
   ]
  },
  {
   "cell_type": "code",
   "execution_count": 61,
   "id": "edd1b0a0",
   "metadata": {},
   "outputs": [
    {
     "data": {
      "image/png": "[encoded data removed]",
      "text/plain": [
       "<Figure size 432x288 with 1 Axes>"
      ]
     },
     "metadata": {
      "needs_background": "light"
     },
     "output_type": "display_data"
    }
   ],
   "source": [
    "#透過上面的方法可以取得訓練 History 包含的資訊，然後我們將資訊繪製成為圖表，如下：\n",
    "import matplotlib.pyplot as plt\n",
    "\n",
    "history_dict = history.history\n",
    "loss_values = history_dict['loss']\n",
    "val_loss_values = history_dict['val_loss']\n",
    "\n",
    "epochs = range(1, len(loss_values) + 1)\n",
    "\n",
    "plt.plot(epochs, loss_values, 'bo', label='Training loss')\n",
    "plt.plot(epochs, val_loss_values, 'b', label='Validation loss')\n",
    "plt.title('Training and validation loss')\n",
    "plt.xlabel('Epochs')\n",
    "plt.ylabel('Loss')\n",
    "plt.legend()\n",
    "\n",
    "plt.show()"
   ]
  },
  {
   "cell_type": "code",
   "execution_count": 62,
   "id": "b1997d22",
   "metadata": {},
   "outputs": [
    {
     "data": {
      "image/png": "[encoded data removed]",
      "text/plain": [
       "<Figure size 432x288 with 1 Axes>"
      ]
     },
     "metadata": {
      "needs_background": "light"
     },
     "output_type": "display_data"
    }
   ],
   "source": [
    "plt.clf()\n",
    "acc_values = history_dict['accuracy']\n",
    "val_acc_values = history_dict['val_accuracy']\n",
    "\n",
    "plt.plot(epochs, acc_values, 'bo', label='Training acc')\n",
    "plt.plot(epochs, val_acc_values, 'b', label='Validation acc')\n",
    "plt.title('Training and validation accuracy')\n",
    "plt.xlabel('Epochs')\n",
    "plt.ylabel('Accuracy')\n",
    "plt.legend()\n",
    "\n",
    "plt.show()"
   ]
  },
  {
   "cell_type": "code",
   "execution_count": 63,
   "id": "0d184b00",
   "metadata": {},
   "outputs": [
    {
     "name": "stdout",
     "output_type": "stream",
     "text": [
      "Epoch 1/7\n",
      "118/118 [==============================] - 2s 7ms/step - loss: 0.2833 - accuracy: 0.5074\n",
      "Epoch 2/7\n",
      "118/118 [==============================] - 1s 6ms/step - loss: 0.1561 - accuracy: 0.7419\n",
      "Epoch 3/7\n",
      "118/118 [==============================] - 1s 5ms/step - loss: 0.1194 - accuracy: 0.8066\n",
      "Epoch 4/7\n",
      "118/118 [==============================] - 1s 5ms/step - loss: 0.1014 - accuracy: 0.8436\n",
      "Epoch 5/7\n",
      "118/118 [==============================] - 1s 5ms/step - loss: 0.0891 - accuracy: 0.8680\n",
      "Epoch 6/7\n",
      "118/118 [==============================] - 1s 5ms/step - loss: 0.0803 - accuracy: 0.8818\n",
      "Epoch 7/7\n",
      "118/118 [==============================] - 1s 5ms/step - loss: 0.0742 - accuracy: 0.8925\n",
      "313/313 [==============================] - 1s 2ms/step - loss: 0.0718 - accuracy: 0.8944\n"
     ]
    }
   ],
   "source": [
    "network = models.Sequential()\n",
    "network.add(layers.Dense(16, activation='relu', input_shape=(28 * 28,)))\n",
    "network.add(layers.Dense(16, activation='relu', input_shape=(28 * 28,)))\n",
    "network.add(layers.Dense(10, activation='softmax'))\n",
    "\n",
    "network.compile(optimizer='rmsprop',\n",
    "              loss='binary_crossentropy',\n",
    "              metrics=['accuracy'])\n",
    "\n",
    "network.fit(data_train_images, data_train_labels, epochs=7, batch_size=512)\n",
    "results = network.evaluate(data_test_images, data_test_labels)"
   ]
  },
  {
   "cell_type": "markdown",
   "id": "5880be6f",
   "metadata": {},
   "source": [
    "## 加入懲法項(L1 or L2)"
   ]
  },
  {
   "cell_type": "markdown",
   "id": "d272f7d1",
   "metadata": {},
   "source": [
    "### L1 alpha=0.001"
   ]
  },
  {
   "cell_type": "code",
   "execution_count": 66,
   "id": "ce263591",
   "metadata": {},
   "outputs": [
    {
     "name": "stdout",
     "output_type": "stream",
     "text": [
      "Epoch 1/20\n",
      "391/391 [==============================] - 3s 5ms/step - loss: 1.3763 - accuracy: 0.8666 - val_loss: 0.9154 - val_accuracy: 0.8975\n",
      "Epoch 2/20\n",
      "391/391 [==============================] - 1s 4ms/step - loss: 0.8111 - accuracy: 0.9071 - val_loss: 0.7378 - val_accuracy: 0.9123\n",
      "Epoch 3/20\n",
      "391/391 [==============================] - 2s 5ms/step - loss: 0.6751 - accuracy: 0.9192 - val_loss: 0.6469 - val_accuracy: 0.9165\n",
      "Epoch 4/20\n",
      "391/391 [==============================] - 2s 4ms/step - loss: 0.5913 - accuracy: 0.9276 - val_loss: 0.5538 - val_accuracy: 0.9329\n",
      "Epoch 5/20\n",
      "391/391 [==============================] - 2s 4ms/step - loss: 0.5413 - accuracy: 0.9323 - val_loss: 0.5151 - val_accuracy: 0.9366\n",
      "Epoch 6/20\n",
      "391/391 [==============================] - 2s 4ms/step - loss: 0.5051 - accuracy: 0.9365 - val_loss: 0.4901 - val_accuracy: 0.9397\n",
      "Epoch 7/20\n",
      "391/391 [==============================] - 1s 4ms/step - loss: 0.4772 - accuracy: 0.9394 - val_loss: 0.5002 - val_accuracy: 0.9327\n",
      "Epoch 8/20\n",
      "391/391 [==============================] - 2s 4ms/step - loss: 0.4591 - accuracy: 0.9410 - val_loss: 0.4556 - val_accuracy: 0.9414\n",
      "Epoch 9/20\n",
      "391/391 [==============================] - 2s 4ms/step - loss: 0.4406 - accuracy: 0.9427 - val_loss: 0.4682 - val_accuracy: 0.9304\n",
      "Epoch 10/20\n",
      "391/391 [==============================] - 2s 4ms/step - loss: 0.4253 - accuracy: 0.9448 - val_loss: 0.4414 - val_accuracy: 0.9353\n",
      "Epoch 11/20\n",
      "391/391 [==============================] - 1s 4ms/step - loss: 0.4144 - accuracy: 0.9468 - val_loss: 0.4177 - val_accuracy: 0.9456\n",
      "Epoch 12/20\n",
      "391/391 [==============================] - 2s 4ms/step - loss: 0.4066 - accuracy: 0.9480 - val_loss: 0.4067 - val_accuracy: 0.9461\n",
      "Epoch 13/20\n",
      "391/391 [==============================] - 2s 4ms/step - loss: 0.4012 - accuracy: 0.9480 - val_loss: 0.4175 - val_accuracy: 0.9417\n",
      "Epoch 14/20\n",
      "391/391 [==============================] - 2s 4ms/step - loss: 0.3945 - accuracy: 0.9491 - val_loss: 0.4165 - val_accuracy: 0.9411\n",
      "Epoch 15/20\n",
      "391/391 [==============================] - 1s 4ms/step - loss: 0.3894 - accuracy: 0.9500 - val_loss: 0.3947 - val_accuracy: 0.9486\n",
      "Epoch 16/20\n",
      "391/391 [==============================] - 2s 4ms/step - loss: 0.3846 - accuracy: 0.9502 - val_loss: 0.3933 - val_accuracy: 0.9465\n",
      "Epoch 17/20\n",
      "391/391 [==============================] - 1s 4ms/step - loss: 0.3798 - accuracy: 0.9518 - val_loss: 0.3830 - val_accuracy: 0.9498\n",
      "Epoch 18/20\n",
      "391/391 [==============================] - 2s 4ms/step - loss: 0.3759 - accuracy: 0.9512 - val_loss: 0.3962 - val_accuracy: 0.9477\n",
      "Epoch 19/20\n",
      "391/391 [==============================] - 2s 4ms/step - loss: 0.3711 - accuracy: 0.9527 - val_loss: 0.3710 - val_accuracy: 0.9518\n",
      "Epoch 20/20\n",
      "391/391 [==============================] - 2s 4ms/step - loss: 0.3678 - accuracy: 0.9520 - val_loss: 0.4046 - val_accuracy: 0.9397\n"
     ]
    }
   ],
   "source": [
    "from keras import regularizers\n",
    "network = models.Sequential()\n",
    "network.add(layers.Dense(64, kernel_regularizer=regularizers.l1(0.001), activation='relu', input_shape=(28 * 28,)))\n",
    "network.add(layers.Dense(64, kernel_regularizer=regularizers.l1(0.001), activation='relu'))\n",
    "network.add(layers.Dense(10, activation='softmax'))\n",
    "\n",
    "network.compile(optimizer='rmsprop',\n",
    "                loss='categorical_crossentropy',\n",
    "                metrics=['accuracy'])\n",
    "\n",
    "history = network.fit(partial_x_train, partial_y_train, epochs=20, batch_size=128,\n",
    "                    validation_data=(x_val, y_val))"
   ]
  },
  {
   "cell_type": "code",
   "execution_count": 67,
   "id": "f5be6152",
   "metadata": {},
   "outputs": [
    {
     "data": {
      "image/png": "[encoded data removed]",
      "text/plain": [
       "<Figure size 432x288 with 1 Axes>"
      ]
     },
     "metadata": {
      "needs_background": "light"
     },
     "output_type": "display_data"
    }
   ],
   "source": [
    "#透過上面的方法可以取得訓練 History 包含的資訊，然後我們將資訊繪製成為圖表，如下：\n",
    "import matplotlib.pyplot as plt\n",
    "\n",
    "history_dict = history.history\n",
    "loss_values = history_dict['loss']\n",
    "val_loss_values = history_dict['val_loss']\n",
    "\n",
    "epochs = range(1, len(loss_values) + 1)\n",
    "\n",
    "plt.plot(epochs, loss_values, 'bo', label='Training loss')\n",
    "plt.plot(epochs, val_loss_values, 'b', label='Validation loss')\n",
    "plt.title('Training and validation loss')\n",
    "plt.xlabel('Epochs')\n",
    "plt.ylabel('Loss')\n",
    "plt.legend()\n",
    "\n",
    "plt.show()"
   ]
  },
  {
   "cell_type": "code",
   "execution_count": 68,
   "id": "b5011be5",
   "metadata": {},
   "outputs": [
    {
     "data": {
      "image/png": "[encoded data removed]",
      "text/plain": [
       "<Figure size 432x288 with 1 Axes>"
      ]
     },
     "metadata": {
      "needs_background": "light"
     },
     "output_type": "display_data"
    }
   ],
   "source": [
    "plt.clf()\n",
    "acc_values = history_dict['accuracy']\n",
    "val_acc_values = history_dict['val_accuracy']\n",
    "\n",
    "plt.plot(epochs, acc_values, 'bo', label='Training acc')\n",
    "plt.plot(epochs, val_acc_values, 'b', label='Validation acc')\n",
    "plt.title('Training and validation accuracy')\n",
    "plt.xlabel('Epochs')\n",
    "plt.ylabel('Accuracy')\n",
    "plt.legend()\n",
    "\n",
    "plt.show()"
   ]
  },
  {
   "cell_type": "code",
   "execution_count": 69,
   "id": "200a05c7",
   "metadata": {},
   "outputs": [
    {
     "name": "stdout",
     "output_type": "stream",
     "text": [
      "Epoch 1/6\n",
      "118/118 [==============================] - 2s 8ms/step - loss: 1.9538 - accuracy: 0.8322\n",
      "Epoch 2/6\n",
      "118/118 [==============================] - 1s 7ms/step - loss: 1.0618 - accuracy: 0.8994\n",
      "Epoch 3/6\n",
      "118/118 [==============================] - 1s 7ms/step - loss: 0.9086 - accuracy: 0.9057\n",
      "Epoch 4/6\n",
      "118/118 [==============================] - 1s 6ms/step - loss: 0.8143 - accuracy: 0.9110\n",
      "Epoch 5/6\n",
      "118/118 [==============================] - 1s 7ms/step - loss: 0.7463 - accuracy: 0.9143\n",
      "Epoch 6/6\n",
      "118/118 [==============================] - 1s 7ms/step - loss: 0.6952 - accuracy: 0.9187\n",
      "313/313 [==============================] - 1s 2ms/step - loss: 0.7715 - accuracy: 0.8810\n"
     ]
    }
   ],
   "source": [
    "network = models.Sequential()\n",
    "network.add(layers.Dense(64, kernel_regularizer=regularizers.l1(0.001), activation='relu', input_shape=(28 * 28,)))\n",
    "network.add(layers.Dense(64, kernel_regularizer=regularizers.l1(0.001), activation='relu'))\n",
    "network.add(layers.Dense(10, activation='softmax'))\n",
    "\n",
    "network.compile(optimizer='rmsprop',\n",
    "                loss='categorical_crossentropy',\n",
    "                metrics=['accuracy'])\n",
    "\n",
    "network.fit(data_train_images, data_train_labels, epochs=6, batch_size=512)\n",
    "results = network.evaluate(data_test_images, data_test_labels)"
   ]
  },
  {
   "cell_type": "markdown",
   "id": "1d262d01",
   "metadata": {},
   "source": [
    "### L2 alpha=0.001"
   ]
  },
  {
   "cell_type": "code",
   "execution_count": 70,
   "id": "27ed3516",
   "metadata": {},
   "outputs": [
    {
     "name": "stdout",
     "output_type": "stream",
     "text": [
      "Epoch 1/20\n",
      "391/391 [==============================] - 3s 5ms/step - loss: 0.5549 - accuracy: 0.8867 - val_loss: 0.3594 - val_accuracy: 0.9347\n",
      "Epoch 2/20\n",
      "391/391 [==============================] - 2s 4ms/step - loss: 0.3230 - accuracy: 0.9416 - val_loss: 0.3315 - val_accuracy: 0.9360\n",
      "Epoch 3/20\n",
      "391/391 [==============================] - 1s 4ms/step - loss: 0.2722 - accuracy: 0.9528 - val_loss: 0.2769 - val_accuracy: 0.9510\n",
      "Epoch 4/20\n",
      "391/391 [==============================] - 2s 4ms/step - loss: 0.2400 - accuracy: 0.9595 - val_loss: 0.2430 - val_accuracy: 0.9588\n",
      "Epoch 5/20\n",
      "391/391 [==============================] - 1s 4ms/step - loss: 0.2185 - accuracy: 0.9647 - val_loss: 0.2304 - val_accuracy: 0.9609\n",
      "Epoch 6/20\n",
      "391/391 [==============================] - 2s 4ms/step - loss: 0.2025 - accuracy: 0.9676 - val_loss: 0.2430 - val_accuracy: 0.9538\n",
      "Epoch 7/20\n",
      "391/391 [==============================] - 2s 4ms/step - loss: 0.1905 - accuracy: 0.9703 - val_loss: 0.2043 - val_accuracy: 0.9646\n",
      "Epoch 8/20\n",
      "391/391 [==============================] - 2s 4ms/step - loss: 0.1798 - accuracy: 0.9724 - val_loss: 0.1960 - val_accuracy: 0.9664\n",
      "Epoch 9/20\n",
      "391/391 [==============================] - 2s 4ms/step - loss: 0.1718 - accuracy: 0.9737 - val_loss: 0.2115 - val_accuracy: 0.9600\n",
      "Epoch 10/20\n",
      "391/391 [==============================] - 2s 4ms/step - loss: 0.1641 - accuracy: 0.9742 - val_loss: 0.1886 - val_accuracy: 0.9673\n",
      "Epoch 11/20\n",
      "391/391 [==============================] - 2s 4ms/step - loss: 0.1581 - accuracy: 0.9753 - val_loss: 0.1795 - val_accuracy: 0.9695\n",
      "Epoch 12/20\n",
      "391/391 [==============================] - 2s 4ms/step - loss: 0.1521 - accuracy: 0.9768 - val_loss: 0.1785 - val_accuracy: 0.9695\n",
      "Epoch 13/20\n",
      "391/391 [==============================] - 1s 4ms/step - loss: 0.1478 - accuracy: 0.9773 - val_loss: 0.1920 - val_accuracy: 0.9626\n",
      "Epoch 14/20\n",
      "391/391 [==============================] - 2s 4ms/step - loss: 0.1439 - accuracy: 0.9779 - val_loss: 0.1668 - val_accuracy: 0.9699\n",
      "Epoch 15/20\n",
      "391/391 [==============================] - 1s 4ms/step - loss: 0.1403 - accuracy: 0.9783 - val_loss: 0.1673 - val_accuracy: 0.9696\n",
      "Epoch 16/20\n",
      "391/391 [==============================] - 2s 4ms/step - loss: 0.1372 - accuracy: 0.9793 - val_loss: 0.1641 - val_accuracy: 0.9705\n",
      "Epoch 17/20\n",
      "391/391 [==============================] - 1s 4ms/step - loss: 0.1328 - accuracy: 0.9796 - val_loss: 0.1675 - val_accuracy: 0.9695\n",
      "Epoch 18/20\n",
      "391/391 [==============================] - 1s 4ms/step - loss: 0.1329 - accuracy: 0.9797 - val_loss: 0.1566 - val_accuracy: 0.9716\n",
      "Epoch 19/20\n",
      "391/391 [==============================] - 2s 4ms/step - loss: 0.1298 - accuracy: 0.9802 - val_loss: 0.1512 - val_accuracy: 0.9730\n",
      "Epoch 20/20\n",
      "391/391 [==============================] - 2s 4ms/step - loss: 0.1259 - accuracy: 0.9809 - val_loss: 0.1619 - val_accuracy: 0.9690\n"
     ]
    }
   ],
   "source": [
    "from keras import regularizers\n",
    "network = models.Sequential()\n",
    "network.add(layers.Dense(64, kernel_regularizer=regularizers.l2(0.001), activation='relu', input_shape=(28 * 28,)))\n",
    "network.add(layers.Dense(64, kernel_regularizer=regularizers.l2(0.001), activation='relu'))\n",
    "network.add(layers.Dense(10, activation='softmax'))\n",
    "\n",
    "network.compile(optimizer='rmsprop',\n",
    "                loss='categorical_crossentropy',\n",
    "                metrics=['accuracy'])\n",
    "\n",
    "history = network.fit(partial_x_train, partial_y_train, epochs=20, batch_size=128,\n",
    "                    validation_data=(x_val, y_val))"
   ]
  },
  {
   "cell_type": "code",
   "execution_count": 71,
   "id": "c7d54079",
   "metadata": {},
   "outputs": [
    {
     "data": {
      "image/png": "[encoded data removed]",
      "text/plain": [
       "<Figure size 432x288 with 1 Axes>"
      ]
     },
     "metadata": {
      "needs_background": "light"
     },
     "output_type": "display_data"
    }
   ],
   "source": [
    "#透過上面的方法可以取得訓練 History 包含的資訊，然後我們將資訊繪製成為圖表，如下：\n",
    "import matplotlib.pyplot as plt\n",
    "\n",
    "history_dict = history.history\n",
    "loss_values = history_dict['loss']\n",
    "val_loss_values = history_dict['val_loss']\n",
    "\n",
    "epochs = range(1, len(loss_values) + 1)\n",
    "\n",
    "plt.plot(epochs, loss_values, 'bo', label='Training loss')\n",
    "plt.plot(epochs, val_loss_values, 'b', label='Validation loss')\n",
    "plt.title('Training and validation loss')\n",
    "plt.xlabel('Epochs')\n",
    "plt.ylabel('Loss')\n",
    "plt.legend()\n",
    "\n",
    "plt.show()"
   ]
  },
  {
   "cell_type": "code",
   "execution_count": 72,
   "id": "96f556d3",
   "metadata": {},
   "outputs": [
    {
     "data": {
      "image/png": "[encoded data removed]",
      "text/plain": [
       "<Figure size 432x288 with 1 Axes>"
      ]
     },
     "metadata": {
      "needs_background": "light"
     },
     "output_type": "display_data"
    }
   ],
   "source": [
    "plt.clf()\n",
    "acc_values = history_dict['accuracy']\n",
    "val_acc_values = history_dict['val_accuracy']\n",
    "\n",
    "plt.plot(epochs, acc_values, 'bo', label='Training acc')\n",
    "plt.plot(epochs, val_acc_values, 'b', label='Validation acc')\n",
    "plt.title('Training and validation accuracy')\n",
    "plt.xlabel('Epochs')\n",
    "plt.ylabel('Accuracy')\n",
    "plt.legend()\n",
    "\n",
    "plt.show()"
   ]
  },
  {
   "cell_type": "code",
   "execution_count": 73,
   "id": "31aa3d9d",
   "metadata": {},
   "outputs": [
    {
     "name": "stdout",
     "output_type": "stream",
     "text": [
      "Epoch 1/10\n",
      "118/118 [==============================] - 2s 8ms/step - loss: 0.7314 - accuracy: 0.8530\n",
      "Epoch 2/10\n",
      "118/118 [==============================] - 1s 8ms/step - loss: 0.4033 - accuracy: 0.9247\n",
      "Epoch 3/10\n",
      "118/118 [==============================] - 1s 7ms/step - loss: 0.3401 - accuracy: 0.9398\n",
      "Epoch 4/10\n",
      "118/118 [==============================] - 1s 7ms/step - loss: 0.3024 - accuracy: 0.9470\n",
      "Epoch 5/10\n",
      "118/118 [==============================] - 1s 7ms/step - loss: 0.2770 - accuracy: 0.9528\n",
      "Epoch 6/10\n",
      "118/118 [==============================] - 1s 8ms/step - loss: 0.2569 - accuracy: 0.9578\n",
      "Epoch 7/10\n",
      "118/118 [==============================] - 1s 7ms/step - loss: 0.2412 - accuracy: 0.9606\n",
      "Epoch 8/10\n",
      "118/118 [==============================] - 1s 7ms/step - loss: 0.2287 - accuracy: 0.9631\n",
      "Epoch 9/10\n",
      "118/118 [==============================] - 1s 8ms/step - loss: 0.2165 - accuracy: 0.9651\n",
      "Epoch 10/10\n",
      "118/118 [==============================] - 1s 7ms/step - loss: 0.2072 - accuracy: 0.9678\n",
      "313/313 [==============================] - 1s 3ms/step - loss: 0.2442 - accuracy: 0.9563\n"
     ]
    }
   ],
   "source": [
    "network = models.Sequential()\n",
    "network.add(layers.Dense(64, kernel_regularizer=regularizers.l2(0.001), activation='relu', input_shape=(28 * 28,)))\n",
    "network.add(layers.Dense(64, kernel_regularizer=regularizers.l2(0.001), activation='relu'))\n",
    "network.add(layers.Dense(10, activation='softmax'))\n",
    "\n",
    "network.compile(optimizer='rmsprop',\n",
    "                loss='categorical_crossentropy',\n",
    "                metrics=['accuracy'])\n",
    "\n",
    "network.fit(data_train_images, data_train_labels, epochs=10, batch_size=512)\n",
    "results = network.evaluate(data_test_images, data_test_labels)"
   ]
  },
  {
   "cell_type": "markdown",
   "id": "950fc72e",
   "metadata": {},
   "source": [
    "### L1和L2 alpha=0.001"
   ]
  },
  {
   "cell_type": "code",
   "execution_count": 75,
   "id": "440343d2",
   "metadata": {},
   "outputs": [
    {
     "name": "stdout",
     "output_type": "stream",
     "text": [
      "Epoch 1/20\n",
      "391/391 [==============================] - 3s 5ms/step - loss: 1.7191 - accuracy: 0.8558 - val_loss: 1.0140 - val_accuracy: 0.8860\n",
      "Epoch 2/20\n",
      "391/391 [==============================] - 2s 4ms/step - loss: 0.9000 - accuracy: 0.8896 - val_loss: 0.8443 - val_accuracy: 0.8929\n",
      "Epoch 3/20\n",
      "391/391 [==============================] - 2s 4ms/step - loss: 0.7765 - accuracy: 0.8965 - val_loss: 0.7433 - val_accuracy: 0.9018\n",
      "Epoch 4/20\n",
      "391/391 [==============================] - 2s 4ms/step - loss: 0.7084 - accuracy: 0.9023 - val_loss: 0.6823 - val_accuracy: 0.9065\n",
      "Epoch 5/20\n",
      "391/391 [==============================] - 1s 4ms/step - loss: 0.6586 - accuracy: 0.9065 - val_loss: 0.6533 - val_accuracy: 0.9027\n",
      "Epoch 6/20\n",
      "391/391 [==============================] - 2s 4ms/step - loss: 0.6240 - accuracy: 0.9116 - val_loss: 0.6172 - val_accuracy: 0.9092\n",
      "Epoch 7/20\n",
      "391/391 [==============================] - 2s 4ms/step - loss: 0.5989 - accuracy: 0.9157 - val_loss: 0.6015 - val_accuracy: 0.9128\n",
      "Epoch 8/20\n",
      "391/391 [==============================] - 2s 4ms/step - loss: 0.5781 - accuracy: 0.9170 - val_loss: 0.5713 - val_accuracy: 0.9195\n",
      "Epoch 9/20\n",
      "391/391 [==============================] - 1s 4ms/step - loss: 0.5605 - accuracy: 0.9200 - val_loss: 0.5615 - val_accuracy: 0.9194\n",
      "Epoch 10/20\n",
      "391/391 [==============================] - 2s 4ms/step - loss: 0.5437 - accuracy: 0.9219 - val_loss: 0.5428 - val_accuracy: 0.9199\n",
      "Epoch 11/20\n",
      "391/391 [==============================] - 2s 4ms/step - loss: 0.5321 - accuracy: 0.9234 - val_loss: 0.5300 - val_accuracy: 0.9246\n",
      "Epoch 12/20\n",
      "391/391 [==============================] - 2s 4ms/step - loss: 0.5227 - accuracy: 0.9245 - val_loss: 0.5273 - val_accuracy: 0.9235\n",
      "Epoch 13/20\n",
      "391/391 [==============================] - 2s 4ms/step - loss: 0.5141 - accuracy: 0.9252 - val_loss: 0.5167 - val_accuracy: 0.9272\n",
      "Epoch 14/20\n",
      "391/391 [==============================] - 2s 4ms/step - loss: 0.5056 - accuracy: 0.9261 - val_loss: 0.5018 - val_accuracy: 0.9298\n",
      "Epoch 15/20\n",
      "391/391 [==============================] - 2s 4ms/step - loss: 0.5000 - accuracy: 0.9266 - val_loss: 0.4923 - val_accuracy: 0.9310\n",
      "Epoch 16/20\n",
      "391/391 [==============================] - 2s 4ms/step - loss: 0.4939 - accuracy: 0.9277 - val_loss: 0.4995 - val_accuracy: 0.9241\n",
      "Epoch 17/20\n",
      "391/391 [==============================] - 2s 4ms/step - loss: 0.4883 - accuracy: 0.9285 - val_loss: 0.5190 - val_accuracy: 0.9169\n",
      "Epoch 18/20\n",
      "391/391 [==============================] - 2s 4ms/step - loss: 0.4827 - accuracy: 0.9294 - val_loss: 0.5043 - val_accuracy: 0.9239\n",
      "Epoch 19/20\n",
      "391/391 [==============================] - 2s 4ms/step - loss: 0.4778 - accuracy: 0.9292 - val_loss: 0.4815 - val_accuracy: 0.9299\n",
      "Epoch 20/20\n",
      "391/391 [==============================] - 2s 4ms/step - loss: 0.4730 - accuracy: 0.9291 - val_loss: 0.4736 - val_accuracy: 0.9324\n"
     ]
    }
   ],
   "source": [
    "from keras import regularizers\n",
    "network = models.Sequential()\n",
    "network.add(layers.Dense(64, kernel_regularizer=regularizers.l1_l2(0.001), activation='relu', input_shape=(28 * 28,)))\n",
    "network.add(layers.Dense(64, kernel_regularizer=regularizers.l1_l2(0.001), activation='relu'))\n",
    "network.add(layers.Dense(10, activation='softmax'))\n",
    "\n",
    "network.compile(optimizer='rmsprop',\n",
    "                loss='categorical_crossentropy',\n",
    "                metrics=['accuracy'])\n",
    "\n",
    "history = network.fit(partial_x_train, partial_y_train, epochs=20, batch_size=128,\n",
    "                    validation_data=(x_val, y_val))"
   ]
  },
  {
   "cell_type": "code",
   "execution_count": 76,
   "id": "8c1d2b6d",
   "metadata": {},
   "outputs": [
    {
     "data": {
      "image/png": "[encoded data removed]",
      "text/plain": [
       "<Figure size 432x288 with 1 Axes>"
      ]
     },
     "metadata": {
      "needs_background": "light"
     },
     "output_type": "display_data"
    }
   ],
   "source": [
    "#透過上面的方法可以取得訓練 History 包含的資訊，然後我們將資訊繪製成為圖表，如下：\n",
    "import matplotlib.pyplot as plt\n",
    "\n",
    "history_dict = history.history\n",
    "loss_values = history_dict['loss']\n",
    "val_loss_values = history_dict['val_loss']\n",
    "\n",
    "epochs = range(1, len(loss_values) + 1)\n",
    "\n",
    "plt.plot(epochs, loss_values, 'bo', label='Training loss')\n",
    "plt.plot(epochs, val_loss_values, 'b', label='Validation loss')\n",
    "plt.title('Training and validation loss')\n",
    "plt.xlabel('Epochs')\n",
    "plt.ylabel('Loss')\n",
    "plt.legend()\n",
    "\n",
    "plt.show()"
   ]
  },
  {
   "cell_type": "code",
   "execution_count": 77,
   "id": "0ee175c8",
   "metadata": {},
   "outputs": [
    {
     "data": {
      "image/png": "[encoded data removed]",
      "text/plain": [
       "<Figure size 432x288 with 1 Axes>"
      ]
     },
     "metadata": {
      "needs_background": "light"
     },
     "output_type": "display_data"
    }
   ],
   "source": [
    "plt.clf()\n",
    "acc_values = history_dict['accuracy']\n",
    "val_acc_values = history_dict['val_accuracy']\n",
    "\n",
    "plt.plot(epochs, acc_values, 'bo', label='Training acc')\n",
    "plt.plot(epochs, val_acc_values, 'b', label='Validation acc')\n",
    "plt.title('Training and validation accuracy')\n",
    "plt.xlabel('Epochs')\n",
    "plt.ylabel('Accuracy')\n",
    "plt.legend()\n",
    "\n",
    "plt.show()"
   ]
  },
  {
   "cell_type": "code",
   "execution_count": 78,
   "id": "5e58b9e2",
   "metadata": {},
   "outputs": [
    {
     "name": "stdout",
     "output_type": "stream",
     "text": [
      "Epoch 1/11\n",
      "118/118 [==============================] - 2s 8ms/step - loss: 0.7556 - accuracy: 0.8446\n",
      "Epoch 2/11\n",
      "118/118 [==============================] - 1s 7ms/step - loss: 0.4177 - accuracy: 0.9211\n",
      "Epoch 3/11\n",
      "118/118 [==============================] - 1s 6ms/step - loss: 0.3534 - accuracy: 0.9352\n",
      "Epoch 4/11\n",
      "118/118 [==============================] - 1s 6ms/step - loss: 0.3126 - accuracy: 0.9449\n",
      "Epoch 5/11\n",
      "118/118 [==============================] - 1s 7ms/step - loss: 0.2846 - accuracy: 0.9503\n",
      "Epoch 6/11\n",
      "118/118 [==============================] - 1s 7ms/step - loss: 0.2631 - accuracy: 0.9560\n",
      "Epoch 7/11\n",
      "118/118 [==============================] - 1s 6ms/step - loss: 0.2458 - accuracy: 0.9601\n",
      "Epoch 8/11\n",
      "118/118 [==============================] - 1s 7ms/step - loss: 0.2336 - accuracy: 0.9625\n",
      "Epoch 9/11\n",
      "118/118 [==============================] - 1s 7ms/step - loss: 0.2212 - accuracy: 0.9650\n",
      "Epoch 10/11\n",
      "118/118 [==============================] - 1s 7ms/step - loss: 0.2107 - accuracy: 0.9676\n",
      "Epoch 11/11\n",
      "118/118 [==============================] - 1s 7ms/step - loss: 0.2019 - accuracy: 0.9690\n",
      "313/313 [==============================] - 1s 2ms/step - loss: 0.2390 - accuracy: 0.9562\n"
     ]
    }
   ],
   "source": [
    "network = models.Sequential()\n",
    "network.add(layers.Dense(64, kernel_regularizer=regularizers.l2(0.001), activation='relu', input_shape=(28 * 28,)))\n",
    "network.add(layers.Dense(64, kernel_regularizer=regularizers.l2(0.001), activation='relu'))\n",
    "network.add(layers.Dense(10, activation='softmax'))\n",
    "\n",
    "network.compile(optimizer='rmsprop',\n",
    "                loss='categorical_crossentropy',\n",
    "                metrics=['accuracy'])\n",
    "\n",
    "network.fit(data_train_images, data_train_labels, epochs=11, batch_size=512)\n",
    "results = network.evaluate(data_test_images, data_test_labels)"
   ]
  },
  {
   "cell_type": "markdown",
   "id": "2862cad4",
   "metadata": {},
   "source": [
    "## 加入類似噪音的方式(dropout)"
   ]
  },
  {
   "cell_type": "code",
   "execution_count": 83,
   "id": "a0dcd8e8",
   "metadata": {},
   "outputs": [
    {
     "name": "stdout",
     "output_type": "stream",
     "text": [
      "Epoch 1/20\n",
      "391/391 [==============================] - 3s 6ms/step - loss: 0.9057 - accuracy: 0.7071 - val_loss: 0.3043 - val_accuracy: 0.9134\n",
      "Epoch 2/20\n",
      "391/391 [==============================] - 2s 4ms/step - loss: 0.4935 - accuracy: 0.8550 - val_loss: 0.2504 - val_accuracy: 0.9288\n",
      "Epoch 3/20\n",
      "391/391 [==============================] - 2s 4ms/step - loss: 0.4288 - accuracy: 0.8800 - val_loss: 0.2219 - val_accuracy: 0.9365\n",
      "Epoch 4/20\n",
      "391/391 [==============================] - 2s 4ms/step - loss: 0.3842 - accuracy: 0.8923 - val_loss: 0.2116 - val_accuracy: 0.9405\n",
      "Epoch 5/20\n",
      "391/391 [==============================] - 2s 4ms/step - loss: 0.3641 - accuracy: 0.8996 - val_loss: 0.1936 - val_accuracy: 0.9463\n",
      "Epoch 6/20\n",
      "391/391 [==============================] - 2s 4ms/step - loss: 0.3441 - accuracy: 0.9041 - val_loss: 0.1875 - val_accuracy: 0.9486\n",
      "Epoch 7/20\n",
      "391/391 [==============================] - 2s 4ms/step - loss: 0.3337 - accuracy: 0.9069 - val_loss: 0.1783 - val_accuracy: 0.9506\n",
      "Epoch 8/20\n",
      "391/391 [==============================] - 2s 4ms/step - loss: 0.3164 - accuracy: 0.9119 - val_loss: 0.1822 - val_accuracy: 0.9525\n",
      "Epoch 9/20\n",
      "391/391 [==============================] - 2s 5ms/step - loss: 0.3198 - accuracy: 0.9129 - val_loss: 0.1773 - val_accuracy: 0.9532\n",
      "Epoch 10/20\n",
      "391/391 [==============================] - 2s 5ms/step - loss: 0.3083 - accuracy: 0.9156 - val_loss: 0.1716 - val_accuracy: 0.9542\n",
      "Epoch 11/20\n",
      "391/391 [==============================] - 2s 5ms/step - loss: 0.3080 - accuracy: 0.9165 - val_loss: 0.1698 - val_accuracy: 0.9558\n",
      "Epoch 12/20\n",
      "391/391 [==============================] - 2s 5ms/step - loss: 0.3032 - accuracy: 0.9179 - val_loss: 0.1813 - val_accuracy: 0.9552\n",
      "Epoch 13/20\n",
      "391/391 [==============================] - 2s 5ms/step - loss: 0.2921 - accuracy: 0.9202 - val_loss: 0.1701 - val_accuracy: 0.9560\n",
      "Epoch 14/20\n",
      "391/391 [==============================] - 2s 5ms/step - loss: 0.2922 - accuracy: 0.9197 - val_loss: 0.1744 - val_accuracy: 0.9560\n",
      "Epoch 15/20\n",
      "391/391 [==============================] - 2s 5ms/step - loss: 0.2854 - accuracy: 0.9215 - val_loss: 0.1722 - val_accuracy: 0.9566\n",
      "Epoch 16/20\n",
      "391/391 [==============================] - 2s 4ms/step - loss: 0.2848 - accuracy: 0.9227 - val_loss: 0.1778 - val_accuracy: 0.9558\n",
      "Epoch 17/20\n",
      "391/391 [==============================] - 2s 4ms/step - loss: 0.2806 - accuracy: 0.9229 - val_loss: 0.1720 - val_accuracy: 0.9588\n",
      "Epoch 18/20\n",
      "391/391 [==============================] - 2s 4ms/step - loss: 0.2780 - accuracy: 0.9231 - val_loss: 0.1718 - val_accuracy: 0.9587\n",
      "Epoch 19/20\n",
      "391/391 [==============================] - 2s 4ms/step - loss: 0.2851 - accuracy: 0.9237 - val_loss: 0.1687 - val_accuracy: 0.9578\n",
      "Epoch 20/20\n",
      "391/391 [==============================] - 2s 4ms/step - loss: 0.2789 - accuracy: 0.9249 - val_loss: 0.1750 - val_accuracy: 0.9588\n"
     ]
    }
   ],
   "source": [
    "network = models.Sequential()\n",
    "network.add(layers.Dense(64, activation='relu', input_shape=(28 * 28,)))\n",
    "network.add(layers.Dropout(0.5))\n",
    "network.add(layers.Dense(64, activation='relu'))\n",
    "network.add(layers.Dropout(0.5))\n",
    "network.add(layers.Dense(10, activation='softmax'))\n",
    "\n",
    "network.compile(optimizer='rmsprop',\n",
    "                loss='categorical_crossentropy',\n",
    "                metrics=['accuracy'])\n",
    "\n",
    "history = network.fit(partial_x_train, partial_y_train, epochs=20, batch_size=128,\n",
    "                    validation_data=(x_val, y_val))"
   ]
  },
  {
   "cell_type": "code",
   "execution_count": 84,
   "id": "dcd2ea6f",
   "metadata": {},
   "outputs": [
    {
     "data": {
      "image/png": "[encoded data removed]",
      "text/plain": [
       "<Figure size 432x288 with 1 Axes>"
      ]
     },
     "metadata": {
      "needs_background": "light"
     },
     "output_type": "display_data"
    }
   ],
   "source": [
    "#透過上面的方法可以取得訓練 History 包含的資訊，然後我們將資訊繪製成為圖表，如下：\n",
    "import matplotlib.pyplot as plt\n",
    "\n",
    "history_dict = history.history\n",
    "loss_values = history_dict['loss']\n",
    "val_loss_values = history_dict['val_loss']\n",
    "\n",
    "epochs = range(1, len(loss_values) + 1)\n",
    "\n",
    "plt.plot(epochs, loss_values, 'bo', label='Training loss')\n",
    "plt.plot(epochs, val_loss_values, 'b', label='Validation loss')\n",
    "plt.title('Training and validation loss')\n",
    "plt.xlabel('Epochs')\n",
    "plt.ylabel('Loss')\n",
    "plt.legend()\n",
    "\n",
    "plt.show()"
   ]
  },
  {
   "cell_type": "code",
   "execution_count": 85,
   "id": "596ae651",
   "metadata": {},
   "outputs": [
    {
     "data": {
      "image/png": "[encoded data removed]",
      "text/plain": [
       "<Figure size 432x288 with 1 Axes>"
      ]
     },
     "metadata": {
      "needs_background": "light"
     },
     "output_type": "display_data"
    }
   ],
   "source": [
    "plt.clf()\n",
    "acc_values = history_dict['accuracy']\n",
    "val_acc_values = history_dict['val_accuracy']\n",
    "\n",
    "plt.plot(epochs, acc_values, 'bo', label='Training acc')\n",
    "plt.plot(epochs, val_acc_values, 'b', label='Validation acc')\n",
    "plt.title('Training and validation accuracy')\n",
    "plt.xlabel('Epochs')\n",
    "plt.ylabel('Accuracy')\n",
    "plt.legend()\n",
    "\n",
    "plt.show()"
   ]
  },
  {
   "cell_type": "code",
   "execution_count": 89,
   "id": "578e158d",
   "metadata": {},
   "outputs": [
    {
     "name": "stdout",
     "output_type": "stream",
     "text": [
      "Epoch 1/6\n",
      "118/118 [==============================] - 2s 9ms/step - loss: 1.2535 - accuracy: 0.5747\n",
      "Epoch 2/6\n",
      "118/118 [==============================] - 1s 8ms/step - loss: 0.6596 - accuracy: 0.7947\n",
      "Epoch 3/6\n",
      "118/118 [==============================] - 1s 9ms/step - loss: 0.5261 - accuracy: 0.8422\n",
      "Epoch 4/6\n",
      "118/118 [==============================] - 1s 8ms/step - loss: 0.4590 - accuracy: 0.8659\n",
      "Epoch 5/6\n",
      "118/118 [==============================] - 1s 8ms/step - loss: 0.4226 - accuracy: 0.8767\n",
      "Epoch 6/6\n",
      "118/118 [==============================] - 1s 8ms/step - loss: 0.3935 - accuracy: 0.8880\n",
      "313/313 [==============================] - 1s 2ms/step - loss: 0.2043 - accuracy: 0.9435\n"
     ]
    }
   ],
   "source": [
    "network = models.Sequential()\n",
    "network.add(layers.Dense(64, activation='relu', input_shape=(28 * 28,)))\n",
    "network.add(layers.Dropout(0.5))\n",
    "network.add(layers.Dense(64, activation='relu'))\n",
    "network.add(layers.Dropout(0.5))\n",
    "network.add(layers.Dense(10, activation='softmax'))\n",
    "\n",
    "network.compile(optimizer='rmsprop',\n",
    "                loss='categorical_crossentropy',\n",
    "                metrics=['accuracy'])\n",
    "\n",
    "network.fit(data_train_images, data_train_labels, epochs=6, batch_size=512)\n",
    "results = network.evaluate(data_test_images, data_test_labels)"
   ]
  },
  {
   "cell_type": "markdown",
   "id": "36404ace",
   "metadata": {},
   "source": [
    "## 結論"
   ]
  },
  {
   "cell_type": "markdown",
   "id": "58ad91e2",
   "metadata": {},
   "source": [
    "* 都是一個隱藏層hidden layers  \n",
    "\n",
    "> 原始模型 64units 8 epochs - loss: 0.0323 - accuracy: 0.9505\n",
    "----\n",
    "\n",
    "| 改變的方式 | epochs | 損失 | 準確率 |  \n",
    "| ------- |:-------:|:-------:|:-------:|  \n",
    "| 減少至32的units | 8 | 0.0381 | 0.9446 |  \n",
    "| 減少至16的units | 7 | 0.0718 | 0.8944 |  \n",
    "| 加入L1 |6 | 0.7715|0.8810 | \n",
    "| 加入L2 | 10 | 0.2442|0.9563 |  \n",
    "| 加入L1和L2 | 11 | 0.2390 | 0.9562 |  \n",
    "| dropout | 6 | 0.2043 | 0.9435|  \n",
    " \n"
   ]
  }
 ],
 "metadata": {
  "kernelspec": {
   "display_name": "Python 3 (ipykernel)",
   "language": "python",
   "name": "python3"
  },
  "language_info": {
   "codemirror_mode": {
    "name": "ipython",
    "version": 3
   },
   "file_extension": ".py",
   "mimetype": "text/x-python",
   "name": "python",
   "nbconvert_exporter": "python",
   "pygments_lexer": "ipython3",
   "version": "3.9.12"
  },
  "toc": {
   "base_numbering": 1,
   "nav_menu": {},
   "number_sections": true,
   "sideBar": true,
   "skip_h1_title": false,
   "title_cell": "Table of Contents",
   "title_sidebar": "Contents",
   "toc_cell": false,
   "toc_position": {
    "height": "477px",
    "left": "279px",
    "top": "369px",
    "width": "218.594px"
   },
   "toc_section_display": true,
   "toc_window_display": true
  },
  "varInspector": {
   "cols": {
    "lenName": 16,
    "lenType": 16,
    "lenVar": 40
   },
   "kernels_config": {
    "python": {
     "delete_cmd_postfix": "",
     "delete_cmd_prefix": "del ",
     "library": "var_list.py",
     "varRefreshCmd": "print(var_dic_list())"
    },
    "r": {
     "delete_cmd_postfix": ") ",
     "delete_cmd_prefix": "rm(",
     "library": "var_list.r",
     "varRefreshCmd": "cat(var_dic_list()) "
    }
   },
   "types_to_exclude": [
    "module",
    "function",
    "builtin_function_or_method",
    "instance",
    "_Feature"
   ],
   "window_display": false
  }
 },
 "nbformat": 4,
 "nbformat_minor": 5
}
