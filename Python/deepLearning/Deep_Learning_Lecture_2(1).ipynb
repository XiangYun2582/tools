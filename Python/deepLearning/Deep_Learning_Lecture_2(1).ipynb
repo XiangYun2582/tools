{
  "nbformat": 4,
  "nbformat_minor": 0,
  "metadata": {
    "colab": {
      "provenance": []
    },
    "kernelspec": {
      "name": "python3",
      "display_name": "Python 3"
    },
    "language_info": {
      "name": "python"
    }
  },
  "cells": [
    {
      "cell_type": "markdown",
      "source": [
        "[參考](https://ithelp.ithome.com.tw/articles/10247304)"
      ],
      "metadata": {
        "id": "DMRtaK3llvEJ"
      }
    },
    {
      "cell_type": "code",
      "source": [
        "# TensorFlow and tf.keras\n",
        "import tensorflow as tf\n",
        "from tensorflow import keras\n",
        "\n",
        "# Helper libraries\n",
        "import numpy as np\n",
        "import matplotlib.pyplot as plt\n",
        "\n",
        "print(tf.__version__) # 印出當前tensorflow的版本，目前是2.11"
      ],
      "metadata": {
        "colab": {
          "base_uri": "https://localhost:8080/"
        },
        "id": "YY0A9t0DUW-1",
        "outputId": "df212cc9-040e-4fe1-a8c7-03add3f0bda3"
      },
      "execution_count": null,
      "outputs": [
        {
          "output_type": "stream",
          "name": "stdout",
          "text": [
            "2.11.0\n"
          ]
        }
      ]
    },
    {
      "cell_type": "code",
      "execution_count": null,
      "metadata": {
        "id": "l7lu1fs1sc3b",
        "colab": {
          "base_uri": "https://localhost:8080/"
        },
        "outputId": "4948cc93-eacb-49e0-ac08-44d79c8ae20d"
      },
      "outputs": [
        {
          "output_type": "stream",
          "name": "stdout",
          "text": [
            "Downloading data from https://storage.googleapis.com/tensorflow/tf-keras-datasets/mnist.npz\n",
            "11490434/11490434 [==============================] - 0s 0us/step\n"
          ]
        }
      ],
      "source": [
        "from keras.datasets import mnist\n",
        "(train_images, train_labels), (test_images, test_labels) = mnist.load_data()#匯入資料"
      ]
    },
    {
      "cell_type": "code",
      "source": [
        "print(train_images.shape)#函數是numpy.core.fromnumeric中的函數，它的功能是查看矩陣或者數組的維數\n",
        "print(\n",
        "\"\"\"\n",
        "----------(不要在意這個下面是重點)\n",
        "\\n 所以(60000, 28, 28) -> 60000張，每張像素是28x28\n",
        "\"\"\"\n",
        ")"
      ],
      "metadata": {
        "colab": {
          "base_uri": "https://localhost:8080/"
        },
        "id": "Ze4SMu_csqVz",
        "outputId": "50790abd-f008-4b6d-c172-066322352f28"
      },
      "execution_count": null,
      "outputs": [
        {
          "output_type": "stream",
          "name": "stdout",
          "text": [
            "(60000, 28, 28)\n",
            "\n",
            "----------(不要在意這個下面是重點)\n",
            "\n",
            " 所以(60000, 28, 28) -> 60000張，每張像素是28x28\n",
            "\n"
          ]
        }
      ]
    },
    {
      "cell_type": "code",
      "source": [
        "train_images"
      ],
      "metadata": {
        "id": "Nb9HpVvZuDlb"
      },
      "execution_count": null,
      "outputs": []
    },
    {
      "cell_type": "code",
      "source": [
        "train_labels"
      ],
      "metadata": {
        "colab": {
          "base_uri": "https://localhost:8080/"
        },
        "id": "JgMKWrluuLMC",
        "outputId": "640cba8a-a9d2-43c4-d627-2841b6bb1c3c"
      },
      "execution_count": null,
      "outputs": [
        {
          "output_type": "execute_result",
          "data": {
            "text/plain": [
              "array([5, 0, 4, ..., 5, 6, 8], dtype=uint8)"
            ]
          },
          "metadata": {},
          "execution_count": 5
        }
      ]
    },
    {
      "cell_type": "code",
      "source": [
        "test_images"
      ],
      "metadata": {
        "id": "nT2Bd0AjuOSy"
      },
      "execution_count": null,
      "outputs": []
    },
    {
      "cell_type": "code",
      "source": [
        "test_labels"
      ],
      "metadata": {
        "id": "gfMa5-eYuRTj",
        "outputId": "b57ab660-911c-4bbf-9b25-d2d449dc1af2",
        "colab": {
          "base_uri": "https://localhost:8080/"
        }
      },
      "execution_count": null,
      "outputs": [
        {
          "output_type": "execute_result",
          "data": {
            "text/plain": [
              "array([7, 2, 1, ..., 4, 5, 6], dtype=uint8)"
            ]
          },
          "metadata": {},
          "execution_count": 7
        }
      ]
    },
    {
      "cell_type": "code",
      "source": [
        "len(train_labels)#x只是28*28"
      ],
      "metadata": {
        "colab": {
          "base_uri": "https://localhost:8080/"
        },
        "id": "Q-qtZErIssoa",
        "outputId": "5a3864b7-4b63-446e-c14b-0efd53dfd54b"
      },
      "execution_count": null,
      "outputs": [
        {
          "output_type": "execute_result",
          "data": {
            "text/plain": [
              "60000"
            ]
          },
          "metadata": {},
          "execution_count": 8
        }
      ]
    },
    {
      "cell_type": "code",
      "source": [
        "train_labels"
      ],
      "metadata": {
        "colab": {
          "base_uri": "https://localhost:8080/"
        },
        "id": "1xnrhjXSs7Ya",
        "outputId": "e69bdf41-3522-4579-c7be-d47035cb42f7"
      },
      "execution_count": null,
      "outputs": [
        {
          "output_type": "execute_result",
          "data": {
            "text/plain": [
              "array([5, 0, 4, ..., 5, 6, 8], dtype=uint8)"
            ]
          },
          "metadata": {},
          "execution_count": 9
        }
      ]
    },
    {
      "cell_type": "code",
      "source": [
        "test_images.shape#結構 測試集\n",
        "print(\n",
        "\"\"\"\n",
        "--------------------(不要在意這個下面是重點)\n",
        "\\n 所以(10000, 28, 28) -> 10000張，每張像素是28x28\n",
        "\"\"\"\n",
        ")"
      ],
      "metadata": {
        "colab": {
          "base_uri": "https://localhost:8080/"
        },
        "id": "ecjZ9S0ls86K",
        "outputId": "7fc414fa-560b-463f-bd6e-605e7721e2ae"
      },
      "execution_count": null,
      "outputs": [
        {
          "output_type": "stream",
          "name": "stdout",
          "text": [
            "\n",
            "--------------------(不要在意這個下面是重點)\n",
            "\n",
            " 所以(10000, 28, 28) -> 10000張，每張像素是28x28\n",
            "\n"
          ]
        }
      ]
    },
    {
      "cell_type": "code",
      "source": [
        "len(test_labels)"
      ],
      "metadata": {
        "colab": {
          "base_uri": "https://localhost:8080/"
        },
        "id": "6JX_YSBltBWD",
        "outputId": "e80ad49d-372b-4dfb-f397-1eecc2a6b0b0"
      },
      "execution_count": null,
      "outputs": [
        {
          "output_type": "execute_result",
          "data": {
            "text/plain": [
              "10000"
            ]
          },
          "metadata": {},
          "execution_count": 11
        }
      ]
    },
    {
      "cell_type": "code",
      "source": [
        "test_labels"
      ],
      "metadata": {
        "colab": {
          "base_uri": "https://localhost:8080/"
        },
        "id": "C40Mir06tD2K",
        "outputId": "965e3f20-0690-425e-a48b-f0815e8f53f1"
      },
      "execution_count": null,
      "outputs": [
        {
          "output_type": "execute_result",
          "data": {
            "text/plain": [
              "array([7, 2, 1, ..., 4, 5, 6], dtype=uint8)"
            ]
          },
          "metadata": {},
          "execution_count": 12
        }
      ]
    },
    {
      "cell_type": "markdown",
      "source": [
        "* 通常我們要處理資料時，我們要將其標準化到0~1的範圍，這樣子才不會因為不同的資料的尺度(scale)不同，\n",
        "影響到模型的訓練或它們對於結果影響的比例。\n",
        "* 由於灰階影像的值是0~255，所以我們可以選擇全數除以255.0來等比例縮小,接著再取前25張圖來檢查處理過的資料是否正常仍可顯示："
      ],
      "metadata": {
        "id": "sBHW7YiQU8dm"
      }
    },
    {
      "cell_type": "code",
      "source": [
        "plt.figure()\n",
        "plt.imshow(train_images[0])\n",
        "plt.colorbar() # 用來顯示灰階影像(0-255)\n",
        "plt.grid(False)\n",
        "plt.show()"
      ],
      "metadata": {
        "colab": {
          "base_uri": "https://localhost:8080/",
          "height": 265
        },
        "id": "QJtWwrofUrYm",
        "outputId": "5792dd74-1b63-4e6f-a712-9218c59c50eb"
      },
      "execution_count": null,
      "outputs": [
        {
          "output_type": "display_data",
          "data": {
            "text/plain": [
              "<Figure size 432x288 with 2 Axes>"
            ],
            "image/png": "[encoded data removed]"
          },
          "metadata": {
            "needs_background": "light"
          }
        }
      ]
    },
    {
      "cell_type": "code",
      "source": [
        "plt.imshow(train_images[1])"
      ],
      "metadata": {
        "colab": {
          "base_uri": "https://localhost:8080/",
          "height": 282
        },
        "id": "cJiSTqgeVLpd",
        "outputId": "47235e80-4201-4dcd-d1b1-ea0b0a5ad1c3"
      },
      "execution_count": null,
      "outputs": [
        {
          "output_type": "execute_result",
          "data": {
            "text/plain": [
              "<matplotlib.image.AxesImage at 0x7f1773eb1eb0>"
            ]
          },
          "metadata": {},
          "execution_count": 14
        },
        {
          "output_type": "display_data",
          "data": {
            "text/plain": [
              "<Figure size 432x288 with 1 Axes>"
            ],
            "image/png": "[encoded data removed]"
          },
          "metadata": {
            "needs_background": "light"
          }
        }
      ]
    },
    {
      "cell_type": "markdown",
      "source": [
        "* 要訓練模型之前，首先我們要先將模型的神經網路建構起來，通常狀態下神經網路是以層(layer)為單位，層與層彼此之間進行連接，多個層最終構成一個神經網路。\n",
        "\n",
        "|⚡func|😕用途|\n",
        "|:---:|:----:|\n",
        "|Sequential|代表前面的往後面的承接|\n",
        "|Flatten|代表將輸入的東西攤平成一維(28*28=784)\n",
        "Dense: Dense layer又稱全連接層，也就是像握手一樣，\n",
        "上一層的每個神經元和這層的神經元的每一個組合都有連接到|\n",
        "|activation|激勵函式(activation function)，簡單來說，就是一個讓整個神經連接呈現不是線性的狀態。|\n",
        "\n",
        "* 因為若是一個模型可以用很簡單的公式或者線性可表達的函數算出來，這樣子的狀態不是深度學習所要的，因為如果一般的方式可以算的話，深度學習並沒有比較具備優勢。\n",
        "> (其它目的還有避免過擬合或節省部分計算的考量，我們暫且不深入探討)\n",
        "> * 問題:  \n",
        "> 1.[為什麼Dense要設成128 512?](https://ithelp.ithome.com.tw/articles/10234059)  \n",
        "  **理論上，越多神經元表示迴歸線的特徵數越多，預測應該越準確。分別將神經元個數設為 32/128/512 ：有趣的事發生了，神經元個數越多，準確率並沒有越高**  \n",
        "> 2.[activation](https://keras.io/api/layers/activations/)\n"
      ],
      "metadata": {
        "id": "M8fxlBI8YEBP"
      }
    },
    {
      "cell_type": "code",
      "source": [
        "from keras import models\n",
        "from keras import layers\n",
        "network = models.Sequential()\n",
        "network.add(layers.Dense(512, activation='relu', input_shape=(28 * 28,)))\n",
        "print(\n",
        "    \"\"\"\n",
        "    -----------------(下面才是重點)\n",
        "    \\t\n",
        "    relu 執行第一次類神經\n",
        "    \"\"\"\n",
        ")\n",
        "network.add(layers.Dense(10, activation='softmax'))\n",
        "print(\n",
        "    \"\"\"\n",
        "    ------------------(下面才是重點)\n",
        "    \\t\n",
        "    softmax 執行最後類神經 10是0-9 跟機率有關\n",
        "    \"\"\"\n",
        ")"
      ],
      "metadata": {
        "id": "AkYl_awutHnS",
        "colab": {
          "base_uri": "https://localhost:8080/"
        },
        "outputId": "a6c50184-8b91-4e6c-d541-9f1f9af94b07"
      },
      "execution_count": null,
      "outputs": [
        {
          "output_type": "stream",
          "name": "stdout",
          "text": [
            "\n",
            "    -----------------(下面才是重點)\n",
            "    \t\n",
            "    relu 執行第一次類神經\n",
            "    \n",
            "\n",
            "    ------------------(下面才是重點)\n",
            "    \t\n",
            "    softmax 執行最後類神經 10是0-9 跟機率有關\n",
            "    \n"
          ]
        }
      ]
    },
    {
      "cell_type": "markdown",
      "source": [
        "|⚡func|😕用途|\n",
        "|:---:|:----:|\n",
        "|Loss function(損失函數)|用來評估說模型現在給出的答案和正確答案的差距的函式，這個可以有很多種類，這裡用的是用來衡量分類的SparseCategoricalentropy。|\n",
        "|Optimizer(優化器)|我們在修正時，不會直接將Loss給出來的差直接處理掉，而是會有一個評估要往哪個方向修正多少的方法做為基準。(因為這個點完全相等並不能代表另一個會表現好)除了adam以外，sgd, adagrad等都是常見的優化器。|\n",
        "|Metrics(指標)|在訓練的過程中我們會想看的中途狀況|\n",
        "|accuracy|計算每次有正確被分類的圖片的比例|\n",
        "\n",
        "* 問題:  \n",
        "[優化器選擇1](https://medium.com/%E9%9B%9E%E9%9B%9E%E8%88%87%E5%85%94%E5%85%94%E7%9A%84%E5%B7%A5%E7%A8%8B%E4%B8%96%E7%95%8C/%E6%A9%9F%E5%99%A8%E5%AD%B8%E7%BF%92ml-note-sgd-momentum-adagrad-adam-optimizer-f20568c968db)  \n",
        "[優化器選擇2](https://medium.com/chung-yi/ml%E5%85%A5%E9%96%80-%E5%8D%81%E4%BA%8C-sgd-adagrad-momentum-rmsprop-adam-optimizer-e331ef3cf5cf)\n",
        "\n",
        "* 它會影響深度學習計算效率?  \n",
        "float64佔用的內存是float32的兩倍，是float16的4倍；比如對於CIFAR10數據集，如果採用float64來表示，需要60000*32*32*3*8/1024**3=1.4G，光把數據集調入內存就需要1.4G；如果採用float32，只需要0.7G，如果採用float16，只需要0.35G左右；佔用內存的多少，會對系統運行效率有嚴重影響；（因此數據集文件都是採用uint8來存在數據，保持文件最小）  \n",
        "![image.png](data:image/png;base64,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)\n"
      ],
      "metadata": {
        "id": "qQzDjcgPasgK"
      }
    },
    {
      "cell_type": "code",
      "source": [
        "network.compile(optimizer='rmsprop',\n",
        "                loss='categorical_crossentropy',\n",
        "                metrics=['accuracy'])\n",
        "#complie編譯"
      ],
      "metadata": {
        "id": "4IGzDo1otbLK"
      },
      "execution_count": null,
      "outputs": []
    },
    {
      "cell_type": "code",
      "source": [
        "train_images = train_images.reshape((60000, 28 * 28))\n",
        "train_images = train_images.astype('float32') / 255\n",
        "print(\n",
        "\"\"\"\n",
        "通常我們要處理資料時，\n",
        "我們要將其標準化到0~1的範圍，\n",
        "這樣子才不會因為不同的資料的尺度(scale)不同，\n",
        "影響到模型的訓練或它們對於結果影響的比例。\n",
        "由於灰階影像的值是0~255，所以我們可以選擇全數除以255.0來等比例縮小\n",
        "\"\"\"\n",
        ")\n",
        "test_images = test_images.reshape((10000, 28 * 28))\n",
        "test_images = test_images.astype('float32') / 255\n"
      ],
      "metadata": {
        "id": "5wESuNo0tbPy",
        "colab": {
          "base_uri": "https://localhost:8080/"
        },
        "outputId": "354499e9-31c6-49a0-bc93-9342f344abc0"
      },
      "execution_count": null,
      "outputs": [
        {
          "output_type": "stream",
          "name": "stdout",
          "text": [
            "\n",
            "通常我們要處理資料時，\n",
            "我們要將其標準化到0~1的範圍，\n",
            "這樣子才不會因為不同的資料的尺度(scale)不同，\n",
            "影響到模型的訓練或它們對於結果影響的比例。\n",
            "由於灰階影像的值是0~255，所以我們可以選擇全數除以255.0來等比例縮小\n",
            "\n"
          ]
        }
      ]
    },
    {
      "cell_type": "code",
      "source": [
        "from keras.utils import to_categorical\n",
        "\n",
        "train_labels = to_categorical(train_labels)#標籤類別化\n",
        "test_labels = to_categorical(test_labels)\n"
      ],
      "metadata": {
        "id": "wpXrK0Q2tex7"
      },
      "execution_count": null,
      "outputs": []
    },
    {
      "cell_type": "code",
      "source": [
        "network.fit(train_images, train_labels, epochs=5, batch_size=128)"
      ],
      "metadata": {
        "colab": {
          "base_uri": "https://localhost:8080/"
        },
        "id": "OfSGB12ltiPK",
        "outputId": "c1da96fd-ad09-4d90-bcbb-150d64a26daa"
      },
      "execution_count": null,
      "outputs": [
        {
          "output_type": "stream",
          "name": "stdout",
          "text": [
            "Epoch 1/5\n",
            "469/469 [==============================] - 7s 11ms/step - loss: 0.2655 - accuracy: 0.9233\n",
            "Epoch 2/5\n",
            "469/469 [==============================] - 5s 11ms/step - loss: 0.1053 - accuracy: 0.9689\n",
            "Epoch 3/5\n",
            "469/469 [==============================] - 5s 11ms/step - loss: 0.0696 - accuracy: 0.9790\n",
            "Epoch 4/5\n",
            "469/469 [==============================] - 4s 8ms/step - loss: 0.0500 - accuracy: 0.9848\n",
            "Epoch 5/5\n",
            "469/469 [==============================] - 4s 9ms/step - loss: 0.0384 - accuracy: 0.9888\n"
          ]
        },
        {
          "output_type": "execute_result",
          "data": {
            "text/plain": [
              "<keras.callbacks.History at 0x7f1769211e20>"
            ]
          },
          "metadata": {},
          "execution_count": 19
        }
      ]
    },
    {
      "cell_type": "markdown",
      "source": [
        "\n",
        "\n",
        "Check documentation for model.fit here.\n",
        "\n",
        "By setting verbose 0, 1 or 2 you just say how do you want to 'see' the training progress for each epoch.\n",
        "\n",
        "verbose=0 will show you nothing (silent)\n",
        "\n",
        "verbose=1 will show you an animated progress bar like this:\n",
        "\n",
        "progres_bar\n",
        "\n",
        "verbose=2 will just mention the number of epoch like this:\n",
        "\n",
        "enter image description here"
      ],
      "metadata": {
        "id": "VPA9mwtceZJG"
      }
    },
    {
      "cell_type": "code",
      "source": [
        "test_loss, test_acc = network.evaluate(test_images, test_labels)\n",
        "print('\\n test_acc:', test_acc)"
      ],
      "metadata": {
        "colab": {
          "base_uri": "https://localhost:8080/"
        },
        "id": "KqvdeSpFtnlB",
        "outputId": "25db26b0-88fa-48f8-c8ec-ba74e5a77b92"
      },
      "execution_count": null,
      "outputs": [
        {
          "output_type": "stream",
          "name": "stdout",
          "text": [
            "313/313 [==============================] - 1s 3ms/step - loss: 0.0637 - accuracy: 0.9808\n",
            "\n",
            " test_acc: 0.9807999730110168\n"
          ]
        }
      ]
    },
    {
      "cell_type": "code",
      "source": [
        "test_loss, test_acc = network.evaluate(test_images,  test_labels, verbose=2)#512\n",
        "print('\\nTest accuracy:', test_acc)"
      ],
      "metadata": {
        "colab": {
          "base_uri": "https://localhost:8080/"
        },
        "id": "1aFUkW9Zd6H4",
        "outputId": "8a5899f3-f27f-4548-c6a3-c07b4ffa17bb"
      },
      "execution_count": null,
      "outputs": [
        {
          "output_type": "stream",
          "name": "stdout",
          "text": [
            "313/313 - 1s - loss: 0.0637 - accuracy: 0.9808 - 636ms/epoch - 2ms/step\n",
            "\n",
            "Test accuracy: 0.9807999730110168\n"
          ]
        }
      ]
    },
    {
      "cell_type": "code",
      "source": [
        " import numpy as np\n",
        " x = np.array(12)\n",
        " x"
      ],
      "metadata": {
        "colab": {
          "base_uri": "https://localhost:8080/"
        },
        "id": "YaK260CQts3p",
        "outputId": "6b362a73-a782-4749-8e36-2405e15a214c"
      },
      "execution_count": null,
      "outputs": [
        {
          "output_type": "execute_result",
          "data": {
            "text/plain": [
              "array(12)"
            ]
          },
          "metadata": {},
          "execution_count": 22
        }
      ]
    },
    {
      "cell_type": "code",
      "source": [
        "x.ndim"
      ],
      "metadata": {
        "colab": {
          "base_uri": "https://localhost:8080/"
        },
        "id": "PjAKhu-0tzHR",
        "outputId": "4a7a2f5e-8c2d-401e-940d-5b9613b188a0"
      },
      "execution_count": null,
      "outputs": [
        {
          "output_type": "execute_result",
          "data": {
            "text/plain": [
              "0"
            ]
          },
          "metadata": {},
          "execution_count": 23
        }
      ]
    },
    {
      "cell_type": "code",
      "source": [
        " x = np.array([12,3,6,14,7])\n",
        " x.ndim"
      ],
      "metadata": {
        "colab": {
          "base_uri": "https://localhost:8080/"
        },
        "id": "_FJ4xeuxt1OZ",
        "outputId": "4ce9f7af-cc2d-4614-8cec-35d69ee5d7f9"
      },
      "execution_count": null,
      "outputs": [
        {
          "output_type": "execute_result",
          "data": {
            "text/plain": [
              "1"
            ]
          },
          "metadata": {},
          "execution_count": 24
        }
      ]
    },
    {
      "cell_type": "code",
      "source": [
        "x = np.array([[5, 78, 2, 34, 0],\n",
        "               [6, 79, 3, 35, 1],\n",
        "               [7, 80, 4, 36, 2]])\n",
        "x.ndim"
      ],
      "metadata": {
        "colab": {
          "base_uri": "https://localhost:8080/"
        },
        "id": "ySTa8P4Gt5ic",
        "outputId": "ec67958f-13b5-464e-d377-170be2fbf502"
      },
      "execution_count": null,
      "outputs": [
        {
          "output_type": "execute_result",
          "data": {
            "text/plain": [
              "2"
            ]
          },
          "metadata": {},
          "execution_count": 25
        }
      ]
    },
    {
      "cell_type": "code",
      "source": [
        "x = np.array([[[5, 78, 2, 34, 0],\n",
        "               [6, 79, 3, 35, 1],\n",
        "               [7, 80, 4, 36, 2]],\n",
        "              [[5, 78, 2, 34, 0],\n",
        "               [6, 79, 3, 35, 1],\n",
        "               [7, 80, 4, 36, 2]],\n",
        "              [[5, 78, 2, 34, 0],\n",
        "               [6, 79, 3, 35, 1],\n",
        "               [7, 80, 4, 36, 2]]])\n",
        "x.ndim"
      ],
      "metadata": {
        "colab": {
          "base_uri": "https://localhost:8080/"
        },
        "id": "6Ia-V4m0t6yg",
        "outputId": "8a45ffd7-8366-48f2-f7b0-0f1ff6a9e5a6"
      },
      "execution_count": null,
      "outputs": [
        {
          "output_type": "execute_result",
          "data": {
            "text/plain": [
              "3"
            ]
          },
          "metadata": {},
          "execution_count": 26
        }
      ]
    },
    {
      "cell_type": "markdown",
      "source": [
        "![image.png](data:image/png;base64,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)"
      ],
      "metadata": {
        "id": "bJn6E_vZxkf1"
      }
    }
  ]
}