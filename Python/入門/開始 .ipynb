{
  "nbformat": 4,
  "nbformat_minor": 0,
  "metadata": {
    "colab": {
      "provenance": [],
      "toc_visible": true
    },
    "kernelspec": {
      "name": "python3",
      "display_name": "Python 3"
    },
    "language_info": {
      "name": "python"
    }
  },
  "cells": [
    {
      "cell_type": "markdown",
      "source": [
        "# 前言 \n",
        "### SciPy 套件\n",
        "* Scipy.integrate `積分微分方程`\n",
        "* Scipy.linalg 線性代數 矩陣分解\n",
        "* Scipy.optimiz 函數優化器\n",
        "* Scipy.scignal 信號處理器\n",
        "* Scipy.sparse 稀疏矩陣\n",
        "* Scipy.special ex:數學函式如gamma\n",
        "* Scipy.stats 描述性統計 檢驗 分布pdf之類  \n",
        "\n",
        "### scikit-learn 套件\n",
        "* 分類: SVM randomforest knn 羅吉斯迴歸\n",
        "* 迴歸: Lasso ridge脊迴歸\n",
        "* 分群: k-means 空間分群\n",
        "* 降維: PCA 特徵工程 矩陣分解\n",
        "* 模型選擇: 網路搜索 交叉驗證 度量\n",
        "* 欲處理: 特徵提取 正規化  \n",
        "\n",
        "###statsmodels 套件\n",
        "* 迴歸模型:lm glm robust-lm 線性混和效果\n",
        "* anova\n",
        "* 時間序列: ar arma arima var ---\n",
        "* 非參數方法: kernal核估計 核心迴歸\n",
        "* 統計模型視覺化呈現  \n",
        "\n",
        "###安裝\n",
        "```python\n",
        "pip install (package)\n",
        "```"
      ],
      "metadata": {
        "id": "nGoz6mEmNxLI"
      }
    },
    {
      "cell_type": "markdown",
      "source": [
        "# import慣例\n",
        "### 社群常用的簡寫\n",
        "```python\n",
        "import numpy as np\n",
        "import matplotlib.pyplot as plt\n",
        "import pandas as pd\n",
        "import seaborn as sns\n",
        "import statsmodels as sm\n",
        "```\n",
        "`from numpy import不好表示不好書寫的不知道為甚麼(大型套件?)`\n",
        "### 術語 感覺是什麼術式(如蔓蔓樺)\n",
        "* 資料探勘 munge munging wrangling \n",
        "* 虛擬程式碼 Psedocode\n",
        "* 糖衣語法 sysntactic sugar(不會加入新功能的程式碼，意味更方便使用)"
      ],
      "metadata": {
        "id": "eJaLc-ZGQrcv"
      }
    },
    {
      "cell_type": "code",
      "source": [
        "import numpy as np\n",
        "import matplotlib.pyplot as plt\n",
        "import pandas as pd\n",
        "import seaborn as sns\n",
        "import statsmodels as sm"
      ],
      "metadata": {
        "id": "5mxLcI4kjhad"
      },
      "execution_count": 69,
      "outputs": []
    },
    {
      "cell_type": "code",
      "source": [
        "b = [1,2,3]\n",
        "#b.打點之後會出現一大堆可選用的選項就像是rstudio的感覺很適合我這個小廢人\n",
        "b.sort"
      ],
      "metadata": {
        "colab": {
          "base_uri": "https://localhost:8080/"
        },
        "id": "rBYx_ziySphh",
        "outputId": "59e5bccd-25f9-4267-ef72-0ab8cbd4f4c6"
      },
      "execution_count": null,
      "outputs": [
        {
          "output_type": "execute_result",
          "data": {
            "text/plain": [
              "<function list.sort(*, key=None, reverse=False)>"
            ]
          },
          "metadata": {},
          "execution_count": 14
        }
      ]
    },
    {
      "cell_type": "code",
      "source": [
        "import datetime\n",
        "#datetime.\n",
        "datetime.sys"
      ],
      "metadata": {
        "colab": {
          "base_uri": "https://localhost:8080/"
        },
        "id": "JnikIpF0TI25",
        "outputId": "2790a5ad-24d9-46ae-ab81-70a41e691f4c"
      },
      "execution_count": null,
      "outputs": [
        {
          "output_type": "execute_result",
          "data": {
            "text/plain": [
              "<module 'sys' (built-in)>"
            ]
          },
          "metadata": {},
          "execution_count": 15
        }
      ]
    },
    {
      "cell_type": "code",
      "source": [
        "#顯示一般物件資訊-物件內省\n",
        "b?"
      ],
      "metadata": {
        "id": "yyJtalPOUIT9"
      },
      "execution_count": null,
      "outputs": []
    },
    {
      "cell_type": "code",
      "source": [
        "def add_number(a,b):\n",
        "  \"\"\"\n",
        "  加在一起\n",
        "  就像你的學期成績=期中+期末=0分\n",
        "  -------\n",
        "  一樣意思，懂嗎?子傑 對不起開玩笑。品管至少有2分\n",
        "  \"\"\"\n",
        "  return a+b"
      ],
      "metadata": {
        "id": "aZUcBzUxUpqc"
      },
      "execution_count": null,
      "outputs": []
    },
    {
      "cell_type": "code",
      "source": [
        "?add_number"
      ],
      "metadata": {
        "id": "4oLr-AVGWchS"
      },
      "execution_count": null,
      "outputs": []
    },
    {
      "cell_type": "code",
      "source": [
        "add_number??"
      ],
      "metadata": {
        "id": "IrV8RyGXWfJR"
      },
      "execution_count": null,
      "outputs": []
    },
    {
      "cell_type": "code",
      "source": [
        "import numpy as np\n",
        "#終極用法\n",
        "np.*load*?"
      ],
      "metadata": {
        "id": "ZVui-RbaWkFo"
      },
      "execution_count": null,
      "outputs": []
    },
    {
      "cell_type": "markdown",
      "source": [
        "# 工作路徑getwd\n",
        "* 學習連結:附贈中文亂碼問題\n",
        "  * 1.https://ithelp.ithome.com.tw/articles/10234373\n",
        "  * 2.https://nbviewer.org/github/yenlung/Deep-Learning-Basics/blob/master/colab99_%E5%9C%A8_matplotlib_%E4%B8%AD%E4%BD%BF%E7%94%A8%E4%B8%AD%E6%96%87.ipynb?fbclid=IwAR0qEzwT_62unuwy2aAs5-E5HOVsFus8OZY_b4E0BIjDqPS4vcnEutEMpok\n"
      ],
      "metadata": {
        "id": "xo1tuo6JYmuy"
      }
    },
    {
      "cell_type": "code",
      "source": [
        "from google.colab import drive\n",
        "drive.mount('/content/drive')"
      ],
      "metadata": {
        "colab": {
          "base_uri": "https://localhost:8080/"
        },
        "id": "De5v9R4oW0Uy",
        "outputId": "234af988-0209-41ec-bbef-f83e71a6a328"
      },
      "execution_count": null,
      "outputs": [
        {
          "output_type": "stream",
          "name": "stdout",
          "text": [
            "Mounted at /content/drive\n"
          ]
        }
      ]
    },
    {
      "cell_type": "code",
      "source": [
        "#查看工作路徑\n",
        "import os\n",
        "print(os.getcwd())"
      ],
      "metadata": {
        "colab": {
          "base_uri": "https://localhost:8080/"
        },
        "id": "erEeEXD1Xfz5",
        "outputId": "41adb092-2440-4c24-d9c8-c39b59eb4c08"
      },
      "execution_count": null,
      "outputs": [
        {
          "output_type": "stream",
          "name": "stdout",
          "text": [
            "/content\n"
          ]
        }
      ]
    },
    {
      "cell_type": "code",
      "source": [
        "#修改工作路徑\n",
        "import os\n",
        "from google.colab import drive\n",
        "drive.mount('/content/drive')\n",
        "\n",
        "path=\"/content/drive/MyDrive/python\"\n",
        "os.chdir(path)\n",
        "os.listdir()#判斷裡面內容"
      ],
      "metadata": {
        "colab": {
          "base_uri": "https://localhost:8080/"
        },
        "id": "jIDxWZsJZGGj",
        "outputId": "f496131f-2b5f-4331-97a9-efd0d20f190d"
      },
      "execution_count": null,
      "outputs": [
        {
          "output_type": "stream",
          "name": "stdout",
          "text": [
            "Drive already mounted at /content/drive; to attempt to forcibly remount, call drive.mount(\"/content/drive\", force_remount=True).\n"
          ]
        },
        {
          "output_type": "execute_result",
          "data": {
            "text/plain": [
              "['Python course 02-常數與變數_exercise_answer.pptx',\n",
              " 'Python course 03-運算式_exercise.pptx',\n",
              " '無標題文件.gdoc',\n",
              " 'Python course 04-流程控制- 判斷_exercises.pptx',\n",
              " 'Python練習.zip',\n",
              " 'dataset',\n",
              " 'ipython_script_test.ipynb']"
            ]
          },
          "metadata": {},
          "execution_count": 31
        }
      ]
    },
    {
      "cell_type": "code",
      "source": [
        "%run ipython_script_test.ipynb\n",
        "print(result)\n",
        "#這超像r的source()功能省去好版面\n",
        "#途中按下crtl-c即中斷執行----keyboardInterrupt\n",
        "#請注意有時候可能程式可能會和柏聖一樣壞壞(特殊情況已編譯extension)連姿穎都沒辦法阻止，所以必須強制關閉Python"
      ],
      "metadata": {
        "colab": {
          "base_uri": "https://localhost:8080/"
        },
        "id": "EWLnWVXudfe5",
        "outputId": "3494a054-11ce-485c-f5ba-3df78e21d15c"
      },
      "execution_count": null,
      "outputs": [
        {
          "output_type": "stream",
          "name": "stdout",
          "text": [
            "1.4666666666666666\n"
          ]
        }
      ]
    },
    {
      "cell_type": "markdown",
      "source": [
        "# magic 命令\n",
        "* %quickref 顯示IPython 快速參考卡\n",
        "* %magic 顯示所有可用magic命令的詳細文件\n",
        "* %debug 在底部進進入互錯器,並顯示最後一個例外追蹤\n",
        "* %hist 印出輸入命令(或輸出命令)的記錄\n",
        "* %pdb 例外發生後自動進入除錯器\n",
        "* %paste 執行剪貼簿中的Python\n",
        "* %cpaste 開啟一個特殊的命令提示,用來手動贴上要執行的Python程式\n",
        "* %reset 刪除互動名稱空間中現有所有變數和名稱\n",
        "* %page OBJECT 透過pager 印出比較好看物件資訊\n",
        "* %run script.py 在IPython 中執行一個Python腳本\n",
        "* %prun statement 用cprofile執行statement並顯示profiler 產出\n",
        "* %time statement 回報單一述句的執行時間\n",
        "* %timeit statement 多次執行單一述句,計算平均計算時間,這個功能有助於測量執行時間極短的程式碼\n",
        "* %who, %who_ls, %whos 顯示在互動名稱空間中的變數,指定資訊層級或全部輸出\n",
        "* %xdel variable 刪除單一變數,並清除IPython內部指向該物件得參照\n",
        "\n",
        "\n",
        "\n"
      ],
      "metadata": {
        "id": "zVGW4ZUnfZlX"
      }
    },
    {
      "cell_type": "code",
      "source": [
        "%timeit\n",
        "#矩陣相乘超花時間所以可利用timeit省時間magic的一種\n",
        "np.random.seed(3)\n",
        "a=np.random.randn(100,100)\n",
        "%timeit np.dot(a,a)"
      ],
      "metadata": {
        "colab": {
          "base_uri": "https://localhost:8080/"
        },
        "id": "hgOXpAZlfG9k",
        "outputId": "51d17758-ebd9-4609-88e1-c86edf565ee0"
      },
      "execution_count": null,
      "outputs": [
        {
          "output_type": "stream",
          "name": "stdout",
          "text": [
            "121 µs ± 1.82 µs per loop (mean ± std. dev. of 7 runs, 10000 loops each)\n"
          ]
        }
      ]
    },
    {
      "cell_type": "code",
      "source": [
        "%pwd"
      ],
      "metadata": {
        "colab": {
          "base_uri": "https://localhost:8080/",
          "height": 35
        },
        "id": "i3jZr6rohA1q",
        "outputId": "466a0fcd-6d4f-47ba-b65a-b11039e393b0"
      },
      "execution_count": null,
      "outputs": [
        {
          "output_type": "execute_result",
          "data": {
            "text/plain": [
              "'/content/drive/MyDrive/python'"
            ],
            "application/vnd.google.colaboratory.intrinsic+json": {
              "type": "string"
            }
          },
          "metadata": {},
          "execution_count": 51
        }
      ]
    },
    {
      "cell_type": "code",
      "source": [
        "foo =%pwd\n",
        "foo"
      ],
      "metadata": {
        "colab": {
          "base_uri": "https://localhost:8080/",
          "height": 35
        },
        "id": "4RJ0zabchD5J",
        "outputId": "3041b455-195a-4d08-c528-37c21af16e92"
      },
      "execution_count": null,
      "outputs": [
        {
          "output_type": "execute_result",
          "data": {
            "text/plain": [
              "'/content/drive/MyDrive/python'"
            ],
            "application/vnd.google.colaboratory.intrinsic+json": {
              "type": "string"
            }
          },
          "metadata": {},
          "execution_count": 52
        }
      ]
    },
    {
      "cell_type": "markdown",
      "source": [
        "# Matplotlib 整合\n"
      ],
      "metadata": {
        "id": "mJrpiZ6B-7rC"
      }
    },
    {
      "cell_type": "code",
      "source": [
        "%matplotlib\n",
        "#設定好環境 你可以在不影響終端機的情況下，建立多個繪圖視窗"
      ],
      "metadata": {
        "colab": {
          "base_uri": "https://localhost:8080/"
        },
        "id": "u66oZNQ-_E7l",
        "outputId": "a6d6bd75-9f24-4ec5-ae84-1516541617ce"
      },
      "execution_count": null,
      "outputs": [
        {
          "output_type": "stream",
          "name": "stdout",
          "text": [
            "Using matplotlib backend: agg\n"
          ]
        }
      ]
    },
    {
      "cell_type": "code",
      "source": [
        "%matplotlib inline\n",
        "import matplotlib.pyplot as plt\n",
        "plt.plot(np.random.randn(50).cumsum())"
      ],
      "metadata": {
        "colab": {
          "base_uri": "https://localhost:8080/",
          "height": 285
        },
        "id": "dDmU34m3_Q_7",
        "outputId": "cf9580b6-dc2c-4f69-a88b-99add7fab2a0"
      },
      "execution_count": null,
      "outputs": [
        {
          "output_type": "execute_result",
          "data": {
            "text/plain": [
              "[<matplotlib.lines.Line2D at 0x7f93a41b29d0>]"
            ]
          },
          "metadata": {},
          "execution_count": 5
        },
        {
          "output_type": "display_data",
          "data": {
            "text/plain": [
              "<Figure size 432x288 with 1 Axes>"
            ],
            "image/png": "[encoded data removed]"
          },
          "metadata": {
            "needs_background": "light"
          }
        }
      ]
    },
    {
      "cell_type": "code",
      "source": [
        "a=[1,2,3]\n",
        "b=a#變數的傳遞\n",
        "a.append(4)\n",
        "b"
      ],
      "metadata": {
        "colab": {
          "base_uri": "https://localhost:8080/"
        },
        "id": "wF7ix3RLEJfM",
        "outputId": "28074758-b8cf-4106-e38a-1a6ebe500767"
      },
      "execution_count": null,
      "outputs": [
        {
          "output_type": "execute_result",
          "data": {
            "text/plain": [
              "[1, 2, 3, 4]"
            ]
          },
          "metadata": {},
          "execution_count": 11
        }
      ]
    },
    {
      "cell_type": "code",
      "source": [
        "def append_element(some_list,element):\n",
        "  some_list.append(element)\n",
        "#----------------------------------------\n",
        "data=[1,2,3]\n",
        "append_element(data,4)\n",
        "data"
      ],
      "metadata": {
        "colab": {
          "base_uri": "https://localhost:8080/"
        },
        "id": "2qJcIUQLICAN",
        "outputId": "1c1a6fb3-a210-47d6-de29-1ad0c755a711"
      },
      "execution_count": null,
      "outputs": [
        {
          "output_type": "execute_result",
          "data": {
            "text/plain": [
              "[1, 2, 3, 4]"
            ]
          },
          "metadata": {},
          "execution_count": 15
        }
      ]
    },
    {
      "cell_type": "markdown",
      "source": [
        "# 判斷字串種類或形態"
      ],
      "metadata": {
        "id": "T3UF2-CuJrLD"
      }
    },
    {
      "cell_type": "code",
      "source": [
        "a=5\n",
        "type(a)"
      ],
      "metadata": {
        "colab": {
          "base_uri": "https://localhost:8080/"
        },
        "id": "7jfeMSU6Itf6",
        "outputId": "287ed30b-1e56-49a7-f341-6f8c81ab1fd0"
      },
      "execution_count": null,
      "outputs": [
        {
          "output_type": "execute_result",
          "data": {
            "text/plain": [
              "int"
            ]
          },
          "metadata": {},
          "execution_count": 18
        }
      ]
    },
    {
      "cell_type": "markdown",
      "source": [],
      "metadata": {
        "id": "CPEErhtGJ1JB"
      }
    },
    {
      "cell_type": "code",
      "source": [
        "a=\"foo\"\n",
        "type(a)"
      ],
      "metadata": {
        "colab": {
          "base_uri": "https://localhost:8080/"
        },
        "id": "So3jraPcJA0a",
        "outputId": "7390788f-e620-46c3-c7de-6965c3cde8c8"
      },
      "execution_count": null,
      "outputs": [
        {
          "output_type": "execute_result",
          "data": {
            "text/plain": [
              "str"
            ]
          },
          "metadata": {},
          "execution_count": 19
        }
      ]
    },
    {
      "cell_type": "code",
      "source": [
        "a=4.5\n",
        "b=2\n",
        "a/b"
      ],
      "metadata": {
        "colab": {
          "base_uri": "https://localhost:8080/"
        },
        "id": "o-zYxkVZJCKL",
        "outputId": "62c6de9c-8a91-4aa2-b38d-e1c490c3bc91"
      },
      "execution_count": null,
      "outputs": [
        {
          "output_type": "execute_result",
          "data": {
            "text/plain": [
              "2.25"
            ]
          },
          "metadata": {},
          "execution_count": 20
        }
      ]
    },
    {
      "cell_type": "code",
      "source": [
        "a=5;b=4.5\n",
        "print(isinstance(a,int))\n",
        "print(isinstance(b,int))\n",
        "print(isinstance(b,(int,float)))"
      ],
      "metadata": {
        "colab": {
          "base_uri": "https://localhost:8080/"
        },
        "id": "PBhZF_EuJQrr",
        "outputId": "e358888b-06b6-48e8-b312-1a5943ca3a95"
      },
      "execution_count": null,
      "outputs": [
        {
          "output_type": "stream",
          "name": "stdout",
          "text": [
            "True\n",
            "False\n",
            "True\n"
          ]
        }
      ]
    },
    {
      "cell_type": "code",
      "source": [
        "a='foo'\n",
        "getattr(a,'split')"
      ],
      "metadata": {
        "colab": {
          "base_uri": "https://localhost:8080/"
        },
        "id": "fwr2pRP1Jnmr",
        "outputId": "1ee751b0-62f5-456c-e98b-693818ef17e7"
      },
      "execution_count": null,
      "outputs": [
        {
          "output_type": "execute_result",
          "data": {
            "text/plain": [
              "<function str.split(sep=None, maxsplit=-1)>"
            ]
          },
          "metadata": {},
          "execution_count": 27
        }
      ]
    },
    {
      "cell_type": "markdown",
      "source": [
        "# 引用\n",
        "```python\n",
        "#some_modele.py\n",
        "PI =3.14159\n",
        "\n",
        "def f(x):\n",
        "  return x+2\n",
        "def g(a,b):\n",
        "  return a+b\n",
        "```"
      ],
      "metadata": {
        "id": "b2_V4aJ-RSXC"
      }
    },
    {
      "cell_type": "code",
      "source": [
        "#查看工作路徑\n",
        "import os\n",
        "print(os.getcwd())"
      ],
      "metadata": {
        "colab": {
          "base_uri": "https://localhost:8080/"
        },
        "id": "BbFtpI4bK1Ob",
        "outputId": "e72ae15b-9302-4139-b8e5-c71b1d27a02a"
      },
      "execution_count": null,
      "outputs": [
        {
          "output_type": "stream",
          "name": "stdout",
          "text": [
            "/content/drive/MyDrive/python\n"
          ]
        }
      ]
    },
    {
      "cell_type": "code",
      "source": [
        "%run some_module.ipynb\n",
        "\n"
      ],
      "metadata": {
        "id": "nugePNdKScB7"
      },
      "execution_count": null,
      "outputs": []
    },
    {
      "cell_type": "code",
      "source": [
        "#import some_module.ipynb\n",
        "#result = some_module.f(5)\n",
        "#pi=some_module.PI\n",
        "result = f(5)\n",
        "pi=PI"
      ],
      "metadata": {
        "id": "vZgjwJX-T7rj"
      },
      "execution_count": null,
      "outputs": []
    },
    {
      "cell_type": "code",
      "source": [
        "result =g(5,PI)"
      ],
      "metadata": {
        "id": "EdjeTxUyUu0B"
      },
      "execution_count": null,
      "outputs": []
    },
    {
      "cell_type": "markdown",
      "source": [
        "# 高級計算機讚啦\n",
        "| 運算  | 敘述 |\n",
        "| ------------- |:-------------:|\n",
        "| a + b      | a加b     |\n",
        "| a - b      | a減b     |\n",
        "| a * b      | a乘以b     |\n",
        "| a / b      | a除以b     |\n",
        "| a // b      | a除以b取整數,丟棄剩餘部分     |\n",
        "| a ** b     | 將a作b次方    |\n",
        "| a & b      | 如果a和b都為True,結果為True;如果運算元是整數,會進行位元AND     |\n",
        "| a | b      | 如果a或b為True,結果為True;如果運算元整數,會進行位元OR    |\n",
        "| a ^ b      | 布林運算,當a或b其中一者為True,但不能同時為True結果為True;如果運算元為整數，會進行位元的EXCLUCIVE-OR    |\n",
        "| a == b      | 如果a和b相等,結果為True     |\n",
        "| a != b      | 如果a和b不相等,結果為True     |\n",
        "| a <= b,a < b      | 如果a小於(小於等於)b,結果為True     |\n",
        "| a > b,a >= b      | 如果a大於(大於等於)b,結果為True     |\n",
        "| a is b      | 如果a和b參照到同一個Python物件,結果為True     |\n",
        "| a is not b      | 如果a和b參照到不同一個Python物件,結果為True     |"
      ],
      "metadata": {
        "id": "a21iYHsoVCW5"
      }
    },
    {
      "cell_type": "code",
      "source": [
        "import math\n",
        "math.sqrt(49)\n",
        "\n",
        "pow(49, 0.5)\n",
        "pow(49,0.2)"
      ],
      "metadata": {
        "colab": {
          "base_uri": "https://localhost:8080/"
        },
        "id": "_bOQDb4lxKvh",
        "outputId": "896f88ab-1e53-4e4b-a89e-51cd74f3de70"
      },
      "execution_count": 109,
      "outputs": [
        {
          "output_type": "execute_result",
          "data": {
            "text/plain": [
              "2.17790642448278"
            ]
          },
          "metadata": {},
          "execution_count": 109
        }
      ]
    },
    {
      "cell_type": "code",
      "source": [
        "a=[1,2,3]\n",
        "b=a\n",
        "c=list(a)\n",
        "print(a is b)\n",
        "print(a is not b)\n",
        "print(a == c)\n",
        "a=None\n",
        "print(a is None)"
      ],
      "metadata": {
        "id": "sON2SfNkZLz7",
        "colab": {
          "base_uri": "https://localhost:8080/"
        },
        "outputId": "a0db9be6-cef3-42f3-d1c1-aea28582f155"
      },
      "execution_count": null,
      "outputs": [
        {
          "output_type": "stream",
          "name": "stdout",
          "text": [
            "True\n",
            "False\n",
            "True\n",
            "True\n"
          ]
        }
      ]
    },
    {
      "cell_type": "code",
      "source": [
        "#Mutable immutable\n",
        "a_list=['foo',2,[4,5]]\n",
        "a_list[2]=(3,4)\n",
        "a_list\n",
        "#可以被修改"
      ],
      "metadata": {
        "colab": {
          "base_uri": "https://localhost:8080/"
        },
        "id": "EJnpqzeL-C2e",
        "outputId": "93e6eb65-ca59-4aa8-cb66-063a65364b07"
      },
      "execution_count": null,
      "outputs": [
        {
          "output_type": "execute_result",
          "data": {
            "text/plain": [
              "['foo', 2, (3, 4)]"
            ]
          },
          "metadata": {},
          "execution_count": 3
        }
      ]
    },
    {
      "cell_type": "code",
      "source": [
        "a_tuple=(3,5,(4,5))\n",
        "#a_tuple[1]='four'\n",
        "#不可以被修改"
      ],
      "metadata": {
        "id": "qarGEEzA-iuV"
      },
      "execution_count": null,
      "outputs": []
    },
    {
      "cell_type": "markdown",
      "source": [
        "# Scalar 類型\n",
        "| 類型  | 敘述 |\n",
        "| ------------- |:-------------:|\n",
        "|None|Python中的“null\"值(None物件只有唯一一個實例)|\n",
        "|str|String型態,裝載，Unicode字串(UTF-8)|\n",
        "|bytes|純ASCll位元組(或把Unicode編成位元組)|\n",
        "|float|倍精度浮點數(64-bi)(注意沒有另外的double型態|\n",
        "|bool|True或False值|\n",
        "|int      | 任意精度帶號整數     |"
      ],
      "metadata": {
        "id": "nPg3bE0e_xXT"
      }
    },
    {
      "cell_type": "code",
      "source": [
        "#int 可以組成任意大小\n",
        "ival=17239871\n",
        "ival**6"
      ],
      "metadata": {
        "colab": {
          "base_uri": "https://localhost:8080/"
        },
        "id": "WN6UYRJ2-2ws",
        "outputId": "dbd65a11-ce8c-4aa6-cd85-6aca2317ba6d"
      },
      "execution_count": null,
      "outputs": [
        {
          "output_type": "execute_result",
          "data": {
            "text/plain": [
              "26254519291092456596965462913230729701102721"
            ]
          },
          "metadata": {},
          "execution_count": 6
        }
      ]
    },
    {
      "cell_type": "code",
      "source": [
        "fval=7.243\n",
        "fval2=6.78e-5\n",
        "fval2"
      ],
      "metadata": {
        "colab": {
          "base_uri": "https://localhost:8080/"
        },
        "id": "bBE6tE-rA4Fm",
        "outputId": "1c69b364-4b93-4df7-fbc6-3546f58b8995"
      },
      "execution_count": null,
      "outputs": [
        {
          "output_type": "execute_result",
          "data": {
            "text/plain": [
              "6.78e-05"
            ]
          },
          "metadata": {},
          "execution_count": 8
        }
      ]
    },
    {
      "cell_type": "code",
      "source": [
        "print(3/2)#除不盡就會轉float\n",
        "3//2"
      ],
      "metadata": {
        "colab": {
          "base_uri": "https://localhost:8080/"
        },
        "id": "gyXYYJboBEak",
        "outputId": "6a65d85b-df3e-4a22-b749-6d372d9ad567"
      },
      "execution_count": null,
      "outputs": [
        {
          "output_type": "stream",
          "name": "stdout",
          "text": [
            "1.5\n"
          ]
        },
        {
          "output_type": "execute_result",
          "data": {
            "text/plain": [
              "1"
            ]
          },
          "metadata": {},
          "execution_count": 10
        }
      ]
    },
    {
      "cell_type": "markdown",
      "source": [
        "# String"
      ],
      "metadata": {
        "id": "qKacAd9ZBdeo"
      }
    },
    {
      "cell_type": "code",
      "source": [
        "a='one way of writing a string'\n",
        "b='another way'\n",
        "#對於中間有換行可使用\"\"\"或是'''\n",
        "c=\"\"\"\n",
        "This is a longer string that\n",
        "spans multiple lines\n",
        "\"\"\"\n",
        "#也可以去算換行次數\n",
        "c.count('\\n')"
      ],
      "metadata": {
        "colab": {
          "base_uri": "https://localhost:8080/"
        },
        "id": "KMkmS1uWBW9h",
        "outputId": "6d9eef1d-e608-4306-c85a-a4ad77f391f6"
      },
      "execution_count": null,
      "outputs": [
        {
          "output_type": "execute_result",
          "data": {
            "text/plain": [
              "3"
            ]
          },
          "metadata": {},
          "execution_count": 11
        }
      ]
    },
    {
      "cell_type": "code",
      "source": [
        "#字串是immutable所以不可以修改\n",
        "a= 'This is a string'\n",
        "#a[10]='f'\n",
        "a"
      ],
      "metadata": {
        "colab": {
          "base_uri": "https://localhost:8080/",
          "height": 35
        },
        "id": "15goReKECYo_",
        "outputId": "7bbf606f-57d3-4ca0-e5b9-ba36ec8a0949"
      },
      "execution_count": null,
      "outputs": [
        {
          "output_type": "execute_result",
          "data": {
            "text/plain": [
              "'This is a string'"
            ],
            "application/vnd.google.colaboratory.intrinsic+json": {
              "type": "string"
            }
          },
          "metadata": {},
          "execution_count": 14
        }
      ]
    },
    {
      "cell_type": "code",
      "source": [
        "a=5.6\n",
        "s=str(a)\n",
        "print(s)\n",
        "print(str(a))#函式轉字串"
      ],
      "metadata": {
        "colab": {
          "base_uri": "https://localhost:8080/"
        },
        "id": "NRs6RTmtCpBx",
        "outputId": "439fead3-f47f-493d-fdc6-04e841c86df8"
      },
      "execution_count": null,
      "outputs": [
        {
          "output_type": "stream",
          "name": "stdout",
          "text": [
            "5.6\n",
            "5.6\n"
          ]
        }
      ]
    },
    {
      "cell_type": "code",
      "source": [
        "s='python'\n",
        "list(s)"
      ],
      "metadata": {
        "colab": {
          "base_uri": "https://localhost:8080/"
        },
        "id": "uUT9a64wEBFZ",
        "outputId": "bb599d13-6907-46c9-b141-dde31e18b529"
      },
      "execution_count": null,
      "outputs": [
        {
          "output_type": "execute_result",
          "data": {
            "text/plain": [
              "['p', 'y', 't', 'h', 'o', 'n']"
            ]
          },
          "metadata": {},
          "execution_count": 18
        }
      ]
    },
    {
      "cell_type": "code",
      "source": [
        "s[:3]#切片slicing"
      ],
      "metadata": {
        "colab": {
          "base_uri": "https://localhost:8080/",
          "height": 35
        },
        "id": "HrqRpbHlEHuZ",
        "outputId": "5791dee2-2a77-4cbe-c678-d4b00d8c3af3"
      },
      "execution_count": null,
      "outputs": [
        {
          "output_type": "execute_result",
          "data": {
            "text/plain": [
              "'pyt'"
            ],
            "application/vnd.google.colaboratory.intrinsic+json": {
              "type": "string"
            }
          },
          "metadata": {},
          "execution_count": 19
        }
      ]
    },
    {
      "cell_type": "code",
      "source": [
        "s='12\\\\34'#想寫真正的反斜線多加一個稱為脫逸\n",
        "print(s)\n",
        "ss='40865\\n1452'\n",
        "print(ss)\n",
        "sss='40865\\t1452'\n",
        "print(sss)"
      ],
      "metadata": {
        "colab": {
          "base_uri": "https://localhost:8080/"
        },
        "id": "mSEYjTsPEPz3",
        "outputId": "79d8c2c9-29ee-472b-86d3-9eece48503cc"
      },
      "execution_count": null,
      "outputs": [
        {
          "output_type": "stream",
          "name": "stdout",
          "text": [
            "12\\34\n",
            "40865\n",
            "1452\n",
            "40865\t1452\n"
          ]
        }
      ]
    },
    {
      "cell_type": "code",
      "source": [
        "#想家更多反斜線很擾人 要一直多打可以前面加r\n",
        "s=r'this\\has\\no\\special\\charaters'\n",
        "s"
      ],
      "metadata": {
        "colab": {
          "base_uri": "https://localhost:8080/",
          "height": 35
        },
        "id": "cwhnu6QjExq7",
        "outputId": "74aa1a04-4769-4c24-e3fb-cb4a71c3b0eb"
      },
      "execution_count": null,
      "outputs": [
        {
          "output_type": "execute_result",
          "data": {
            "text/plain": [
              "'this\\\\has\\\\no\\\\special\\\\charaters'"
            ],
            "application/vnd.google.colaboratory.intrinsic+json": {
              "type": "string"
            }
          },
          "metadata": {},
          "execution_count": 23
        }
      ]
    },
    {
      "cell_type": "code",
      "source": [
        "a=\"是誰在色色?\"\n",
        "b=\"是勃聖\"\n",
        "a+b"
      ],
      "metadata": {
        "colab": {
          "base_uri": "https://localhost:8080/",
          "height": 35
        },
        "id": "MieL9w5UFQMg",
        "outputId": "e2536a02-c530-472a-d090-1ba067bbb2a9"
      },
      "execution_count": null,
      "outputs": [
        {
          "output_type": "execute_result",
          "data": {
            "text/plain": [
              "'是誰在色色?是勃聖'"
            ],
            "application/vnd.google.colaboratory.intrinsic+json": {
              "type": "string"
            }
          },
          "metadata": {},
          "execution_count": 24
        }
      ]
    },
    {
      "cell_type": "code",
      "source": [
        "template='{0:.2f} {1:s} are worth US${2:d}'\n",
        "#{0:2f} 表示將第一個參數格式化2位小數的浮點数。\n",
        "#{1:s} 表示將第二個參數轉字串\n",
        "#{2:d} 表示將第三個參數轉整數\n",
        "template.format(4.5560, 'Argentine Pesos',1)"
      ],
      "metadata": {
        "colab": {
          "base_uri": "https://localhost:8080/",
          "height": 35
        },
        "id": "79XPA37VFpyP",
        "outputId": "cecae128-68b5-4a4f-bda4-395d79acc06f"
      },
      "execution_count": null,
      "outputs": [
        {
          "output_type": "execute_result",
          "data": {
            "text/plain": [
              "'4.56 Argentine Pesos are worth US$1'"
            ],
            "application/vnd.google.colaboratory.intrinsic+json": {
              "type": "string"
            }
          },
          "metadata": {},
          "execution_count": 30
        }
      ]
    },
    {
      "cell_type": "markdown",
      "source": [
        "# Byte Unicode"
      ],
      "metadata": {
        "id": "P3F39fkbHljO"
      }
    },
    {
      "cell_type": "code",
      "source": [
        "val='看傻了都w'\n",
        "val"
      ],
      "metadata": {
        "colab": {
          "base_uri": "https://localhost:8080/",
          "height": 35
        },
        "id": "twlyqeXJG4xW",
        "outputId": "7ad8f5b0-b81f-459a-ec33-6d798351e694"
      },
      "execution_count": null,
      "outputs": [
        {
          "output_type": "execute_result",
          "data": {
            "text/plain": [
              "'看傻了都w'"
            ],
            "application/vnd.google.colaboratory.intrinsic+json": {
              "type": "string"
            }
          },
          "metadata": {},
          "execution_count": 33
        }
      ]
    },
    {
      "cell_type": "code",
      "source": [
        "val_utf8=val.encode('utf-8')\n",
        "val_utf8"
      ],
      "metadata": {
        "colab": {
          "base_uri": "https://localhost:8080/"
        },
        "id": "RyhSvV7lIA4A",
        "outputId": "334ca3bb-8cad-45de-cae3-b904a4242333"
      },
      "execution_count": null,
      "outputs": [
        {
          "output_type": "execute_result",
          "data": {
            "text/plain": [
              "b'\\xe7\\x9c\\x8b\\xe5\\x82\\xbb\\xe4\\xba\\x86\\xe9\\x83\\xbdw'"
            ]
          },
          "metadata": {},
          "execution_count": 34
        }
      ]
    },
    {
      "cell_type": "code",
      "source": [
        "type(val_utf8)"
      ],
      "metadata": {
        "colab": {
          "base_uri": "https://localhost:8080/"
        },
        "id": "3ZyjQlgSIQdP",
        "outputId": "597480eb-b213-4018-8a9d-06193849dac7"
      },
      "execution_count": null,
      "outputs": [
        {
          "output_type": "execute_result",
          "data": {
            "text/plain": [
              "bytes"
            ]
          },
          "metadata": {},
          "execution_count": 35
        }
      ]
    },
    {
      "cell_type": "code",
      "source": [
        "val_utf8.decode('utf-8')#編碼首選utf-8"
      ],
      "metadata": {
        "colab": {
          "base_uri": "https://localhost:8080/",
          "height": 35
        },
        "id": "JS8yx5rJIf8n",
        "outputId": "731e38f9-7cad-4290-ea6b-4e91bf5fe526"
      },
      "execution_count": null,
      "outputs": [
        {
          "output_type": "execute_result",
          "data": {
            "text/plain": [
              "'看傻了都w'"
            ],
            "application/vnd.google.colaboratory.intrinsic+json": {
              "type": "string"
            }
          },
          "metadata": {},
          "execution_count": 36
        }
      ]
    },
    {
      "cell_type": "code",
      "source": [
        "bytes_val=b'this is bytes'\n",
        "bytes_val"
      ],
      "metadata": {
        "colab": {
          "base_uri": "https://localhost:8080/"
        },
        "id": "wj37Ur42IsGn",
        "outputId": "cba4c39c-7e00-4853-ef80-361c90abb7d0"
      },
      "execution_count": null,
      "outputs": [
        {
          "output_type": "execute_result",
          "data": {
            "text/plain": [
              "b'this is bytes'"
            ]
          },
          "metadata": {},
          "execution_count": 40
        }
      ]
    },
    {
      "cell_type": "code",
      "source": [
        "decoded =bytes_val.decode('utf-8')\n",
        "decoded#現在是字串(unicode)"
      ],
      "metadata": {
        "colab": {
          "base_uri": "https://localhost:8080/",
          "height": 35
        },
        "id": "Zm0cZhkaI1qy",
        "outputId": "13295df2-4235-4d70-ae9f-7bd3572c079f"
      },
      "execution_count": null,
      "outputs": [
        {
          "output_type": "execute_result",
          "data": {
            "text/plain": [
              "'this is bytes'"
            ],
            "application/vnd.google.colaboratory.intrinsic+json": {
              "type": "string"
            }
          },
          "metadata": {},
          "execution_count": 41
        }
      ]
    },
    {
      "cell_type": "code",
      "source": [
        "#布林值\n",
        "print(True and False)\n",
        "print(True or False)"
      ],
      "metadata": {
        "colab": {
          "base_uri": "https://localhost:8080/"
        },
        "id": "uz8RV4xNJhWP",
        "outputId": "22f33f5d-a1bb-454d-99b2-83c53cc434ce"
      },
      "execution_count": null,
      "outputs": [
        {
          "output_type": "stream",
          "name": "stdout",
          "text": [
            "False\n",
            "True\n"
          ]
        }
      ]
    },
    {
      "cell_type": "markdown",
      "source": [
        "# 轉型"
      ],
      "metadata": {
        "id": "koG5cXOIJ1Z9"
      }
    },
    {
      "cell_type": "code",
      "source": [
        "s='3.14159'\n",
        "fval=float(s)\n",
        "print(type(fval))\n",
        "print(int(fval))\n",
        "print(bool(fval))\n",
        "print(bool(0))"
      ],
      "metadata": {
        "colab": {
          "base_uri": "https://localhost:8080/"
        },
        "id": "GLBqTXsxJykW",
        "outputId": "b7fcb9d1-b10b-4610-c28e-b685815dd88d"
      },
      "execution_count": null,
      "outputs": [
        {
          "output_type": "stream",
          "name": "stdout",
          "text": [
            "<class 'float'>\n",
            "3\n",
            "True\n",
            "False\n"
          ]
        }
      ]
    },
    {
      "cell_type": "markdown",
      "source": [
        "# None"
      ],
      "metadata": {
        "id": "HuvQtuxOKf5W"
      }
    },
    {
      "cell_type": "code",
      "source": [
        "a= None\n",
        "a is None"
      ],
      "metadata": {
        "colab": {
          "base_uri": "https://localhost:8080/"
        },
        "id": "r9YPoR3gKiyX",
        "outputId": "9447003b-5a09-4c19-f3c3-034b03897f68"
      },
      "execution_count": null,
      "outputs": [
        {
          "output_type": "execute_result",
          "data": {
            "text/plain": [
              "True"
            ]
          },
          "metadata": {},
          "execution_count": 51
        }
      ]
    },
    {
      "cell_type": "code",
      "source": [
        "b=5\n",
        "b is not None"
      ],
      "metadata": {
        "colab": {
          "base_uri": "https://localhost:8080/"
        },
        "id": "MfPG1I8mKrYz",
        "outputId": "b5250723-d015-4791-d7d0-4227ef13e120"
      },
      "execution_count": null,
      "outputs": [
        {
          "output_type": "execute_result",
          "data": {
            "text/plain": [
              "True"
            ]
          },
          "metadata": {},
          "execution_count": 52
        }
      ]
    },
    {
      "cell_type": "code",
      "source": [
        "def add_and_maybe_multiply(a,b,c=None):\n",
        "  result = a+b\n",
        "  if c is not None:\n",
        "    result = result * c\n",
        "  return result\n",
        "#None不只是保留一個關鍵字，還是NoneType應用實例"
      ],
      "metadata": {
        "id": "WsUf2MjtKu8u"
      },
      "execution_count": null,
      "outputs": []
    },
    {
      "cell_type": "code",
      "source": [
        "type(None)"
      ],
      "metadata": {
        "colab": {
          "base_uri": "https://localhost:8080/"
        },
        "id": "IECsPA4nLOFX",
        "outputId": "63d90031-bce6-46f8-ce7a-7722796a4e67"
      },
      "execution_count": null,
      "outputs": [
        {
          "output_type": "execute_result",
          "data": {
            "text/plain": [
              "NoneType"
            ]
          },
          "metadata": {},
          "execution_count": 55
        }
      ]
    },
    {
      "cell_type": "markdown",
      "source": [
        "# 時間和日期 datetime\n",
        "| 類型  | 敘述 |\n",
        "| ------------- |:-------------:|\n",
        "|%Y|年份四位|\n",
        "|%y|年份兩位|\n",
        "|%m|月分兩位[01,12]|\n",
        "|%d|日期兩位[01,31]|\n",
        "|%H|小時(24時制)[00,23]|\n",
        "|%I|小時(12時制)[01,12]|\n",
        "|%M|分鐘兩位[00.59]|\n",
        "|%S|秒鐘 [00,61] (60,61來計算閨秒)|\n",
        "|%w|以整數表示星期幾[0(星期日),6]|\n",
        "|%U|整年的第幾星期[00,53] 星期天是星期的第一天·在第一個星期天前面的日子歸於\"星期0\"|\n",
        "|%W|整年的第幾星期[00,53] 星期一是星期的第一天·在第一個星期天前面的日子歸於\"星期0\"|\n",
        "|%z|UTC時區偏移值·形式+HHMM或HHMM:naive型態物件為空值|\n",
        "|%F|快捷格式%Y-%m-%d(例如:2020-4-18)|\n",
        "|%D|快捷格式%m-%d-%y(例如:4-18-20)|\n"
      ],
      "metadata": {
        "id": "BIBTUBG6LrX4"
      }
    },
    {
      "cell_type": "code",
      "source": [
        "from datetime import datetime,date,time\n",
        "\n",
        "dt = datetime(2010,10,29,20,30,21)\n",
        "print(dt.day)\n",
        "print(dt.minute)           "
      ],
      "metadata": {
        "colab": {
          "base_uri": "https://localhost:8080/"
        },
        "id": "5VxE8wf_LqAm",
        "outputId": "0b8accaa-3489-41d6-d3f3-294122e10be9"
      },
      "execution_count": null,
      "outputs": [
        {
          "output_type": "stream",
          "name": "stdout",
          "text": [
            "29\n",
            "30\n"
          ]
        }
      ]
    },
    {
      "cell_type": "code",
      "source": [
        "dt.date()"
      ],
      "metadata": {
        "colab": {
          "base_uri": "https://localhost:8080/"
        },
        "id": "vdoxa9FKMeEi",
        "outputId": "475a66a6-5688-459d-a1fd-3726bf41c2bb"
      },
      "execution_count": null,
      "outputs": [
        {
          "output_type": "execute_result",
          "data": {
            "text/plain": [
              "datetime.date(2010, 10, 29)"
            ]
          },
          "metadata": {},
          "execution_count": 57
        }
      ]
    },
    {
      "cell_type": "code",
      "source": [
        "dt.time()"
      ],
      "metadata": {
        "colab": {
          "base_uri": "https://localhost:8080/"
        },
        "id": "frMjJAmxMiQ_",
        "outputId": "606976cd-d673-4ff5-93fe-a5a068bf7fdb"
      },
      "execution_count": null,
      "outputs": [
        {
          "output_type": "execute_result",
          "data": {
            "text/plain": [
              "datetime.time(20, 30, 21)"
            ]
          },
          "metadata": {},
          "execution_count": 58
        }
      ]
    },
    {
      "cell_type": "code",
      "source": [
        "dt.strftime('%m/%d/%Y %H:%M')#將datetime格式化成為字串"
      ],
      "metadata": {
        "colab": {
          "base_uri": "https://localhost:8080/",
          "height": 35
        },
        "id": "2UMFyu_NMwZd",
        "outputId": "228b32c2-53ad-4163-babc-ba8f8744b298"
      },
      "execution_count": null,
      "outputs": [
        {
          "output_type": "execute_result",
          "data": {
            "text/plain": [
              "'10/29/2010 20:30'"
            ],
            "application/vnd.google.colaboratory.intrinsic+json": {
              "type": "string"
            }
          },
          "metadata": {},
          "execution_count": 59
        }
      ]
    },
    {
      "cell_type": "code",
      "source": [
        "datetime.strptime('20091031','%Y%m%d')#將字串格式化成為datetime"
      ],
      "metadata": {
        "colab": {
          "base_uri": "https://localhost:8080/"
        },
        "id": "AMx5WfVHNFIH",
        "outputId": "eb3fa88d-86a9-48d8-8994-82a6211386b7"
      },
      "execution_count": null,
      "outputs": [
        {
          "output_type": "execute_result",
          "data": {
            "text/plain": [
              "datetime.datetime(2009, 10, 31, 0, 0)"
            ]
          },
          "metadata": {},
          "execution_count": 60
        }
      ]
    },
    {
      "cell_type": "code",
      "source": [
        "dt.replace(minute=0,second=0)"
      ],
      "metadata": {
        "colab": {
          "base_uri": "https://localhost:8080/"
        },
        "id": "5EuIx4o5Nk5r",
        "outputId": "6715293e-9df2-42d6-cb25-f0da404e0770"
      },
      "execution_count": null,
      "outputs": [
        {
          "output_type": "execute_result",
          "data": {
            "text/plain": [
              "datetime.datetime(2010, 10, 29, 20, 0)"
            ]
          },
          "metadata": {},
          "execution_count": 61
        }
      ]
    },
    {
      "cell_type": "code",
      "source": [
        "#由於datetime是屬於immutable所以衍生出以下應用\n",
        "dt2=datetime(2011,11,15,22,30)\n",
        "\n",
        "delta =dt2- dt\n",
        "delta"
      ],
      "metadata": {
        "colab": {
          "base_uri": "https://localhost:8080/"
        },
        "id": "xpFDJTbyNehX",
        "outputId": "7499e22c-c033-496b-81b0-c6572d6cd3d9"
      },
      "execution_count": null,
      "outputs": [
        {
          "output_type": "execute_result",
          "data": {
            "text/plain": [
              "datetime.timedelta(days=382, seconds=7179)"
            ]
          },
          "metadata": {},
          "execution_count": 62
        }
      ]
    },
    {
      "cell_type": "code",
      "source": [
        "type(delta)\n",
        "#時間差17天又7179秒"
      ],
      "metadata": {
        "colab": {
          "base_uri": "https://localhost:8080/"
        },
        "id": "gg3VVfZ9ObXf",
        "outputId": "e008184d-43e8-43c0-9053-fbf3fe88dab5"
      },
      "execution_count": null,
      "outputs": [
        {
          "output_type": "execute_result",
          "data": {
            "text/plain": [
              "datetime.timedelta"
            ]
          },
          "metadata": {},
          "execution_count": 63
        }
      ]
    },
    {
      "cell_type": "code",
      "source": [
        "dt"
      ],
      "metadata": {
        "colab": {
          "base_uri": "https://localhost:8080/"
        },
        "id": "_-rso1MCOtCF",
        "outputId": "89d9f7b5-f922-473d-d20f-839db2703f95"
      },
      "execution_count": null,
      "outputs": [
        {
          "output_type": "execute_result",
          "data": {
            "text/plain": [
              "datetime.datetime(2010, 10, 29, 20, 30, 21)"
            ]
          },
          "metadata": {},
          "execution_count": 64
        }
      ]
    },
    {
      "cell_type": "code",
      "source": [
        "dt + delta#位移時間"
      ],
      "metadata": {
        "colab": {
          "base_uri": "https://localhost:8080/"
        },
        "id": "o4VS9bICOwQF",
        "outputId": "19c68d5d-eea1-48f0-ac80-469ad1ed6a4e"
      },
      "execution_count": null,
      "outputs": [
        {
          "output_type": "execute_result",
          "data": {
            "text/plain": [
              "datetime.datetime(2011, 11, 15, 22, 30)"
            ]
          },
          "metadata": {},
          "execution_count": 66
        }
      ]
    },
    {
      "cell_type": "markdown",
      "source": [
        "# 控制流程 \n",
        "* if、elif、else\n",
        "* for迴圈\n",
        "* 三元表達式"
      ],
      "metadata": {
        "id": "d26k_Pxwj_Aj"
      }
    },
    {
      "cell_type": "code",
      "source": [
        "x=-9"
      ],
      "metadata": {
        "id": "UdomV95dml8m"
      },
      "execution_count": 71,
      "outputs": []
    },
    {
      "cell_type": "code",
      "source": [
        "if x<0:\n",
        "  print(\"是負數\")"
      ],
      "metadata": {
        "colab": {
          "base_uri": "https://localhost:8080/"
        },
        "id": "MK5dsLAFjA8m",
        "outputId": "b3884409-1a91-40ef-aa43-5a9aba4c56cf"
      },
      "execution_count": 72,
      "outputs": [
        {
          "output_type": "stream",
          "name": "stdout",
          "text": [
            "是負數\n"
          ]
        }
      ]
    },
    {
      "cell_type": "code",
      "source": [
        "x=30\n",
        "if x<0:\n",
        "  print(\"負數\")\n",
        "elif x==0:\n",
        "  print(\"心術不正，也非負\")\n",
        "elif 0<x<30:\n",
        "  print(\"正常的長度\")\n",
        "else :\n",
        "  print(\"台灣鄉民長度\")"
      ],
      "metadata": {
        "colab": {
          "base_uri": "https://localhost:8080/"
        },
        "id": "A2iWVV_fmlFs",
        "outputId": "3f99bb2c-d459-447e-9844-e6757af0da31"
      },
      "execution_count": 76,
      "outputs": [
        {
          "output_type": "stream",
          "name": "stdout",
          "text": [
            "台灣鄉民長度\n"
          ]
        }
      ]
    },
    {
      "cell_type": "code",
      "source": [
        "a=5;b=7\n",
        "c=8;d=4\n",
        "if a<b or c>d:\n",
        "  print(\"made it\")"
      ],
      "metadata": {
        "colab": {
          "base_uri": "https://localhost:8080/"
        },
        "id": "KGksNwQxny6F",
        "outputId": "6d67d064-12ab-4e48-a1fa-a7d9b82c2e45"
      },
      "execution_count": 77,
      "outputs": [
        {
          "output_type": "stream",
          "name": "stdout",
          "text": [
            "made it\n"
          ]
        }
      ]
    },
    {
      "cell_type": "code",
      "source": [
        "4>3>2>1"
      ],
      "metadata": {
        "colab": {
          "base_uri": "https://localhost:8080/"
        },
        "id": "M34qUouLoEHD",
        "outputId": "de90f7e1-f187-4419-8820-4a1b9eeb9c70"
      },
      "execution_count": 78,
      "outputs": [
        {
          "output_type": "execute_result",
          "data": {
            "text/plain": [
              "True"
            ]
          },
          "metadata": {},
          "execution_count": 78
        }
      ]
    },
    {
      "cell_type": "code",
      "source": [
        "squence=[1,2,None,4,None,5]\n",
        "total=0\n",
        "for value in squence:\n",
        "  if value is None:\n",
        "    continue\n",
        "  total+=value\n",
        "  print(total)"
      ],
      "metadata": {
        "colab": {
          "base_uri": "https://localhost:8080/"
        },
        "id": "uh38O6R8oPgT",
        "outputId": "5449a754-3f64-4586-eba7-c867d9462fc8"
      },
      "execution_count": 81,
      "outputs": [
        {
          "output_type": "stream",
          "name": "stdout",
          "text": [
            "1\n",
            "3\n",
            "7\n",
            "12\n"
          ]
        }
      ]
    },
    {
      "cell_type": "code",
      "source": [
        "squence=[1,2,0,4,6,5,2,1]\n",
        "total_util_5=0\n",
        "for value in squence:\n",
        "  if value ==5:\n",
        "    break\n",
        "  total_util_5+=value\n",
        "  print(total_util_5)"
      ],
      "metadata": {
        "colab": {
          "base_uri": "https://localhost:8080/"
        },
        "id": "gu0llOOYo18M",
        "outputId": "570d57ac-5279-4f13-a41c-30153e2fd955"
      },
      "execution_count": 82,
      "outputs": [
        {
          "output_type": "stream",
          "name": "stdout",
          "text": [
            "1\n",
            "3\n",
            "3\n",
            "7\n",
            "13\n"
          ]
        }
      ]
    },
    {
      "cell_type": "code",
      "source": [
        "for i in range(4):\n",
        "  for j in range(4):\n",
        "    if j>i:\n",
        "      break\n",
        "    print((i,j))"
      ],
      "metadata": {
        "colab": {
          "base_uri": "https://localhost:8080/"
        },
        "id": "XUIQMvfgpMJj",
        "outputId": "a3cbeb1e-8caf-4275-a198-bea736d42b9c"
      },
      "execution_count": 83,
      "outputs": [
        {
          "output_type": "stream",
          "name": "stdout",
          "text": [
            "(0, 0)\n",
            "(1, 0)\n",
            "(1, 1)\n",
            "(2, 0)\n",
            "(2, 1)\n",
            "(2, 2)\n",
            "(3, 0)\n",
            "(3, 1)\n",
            "(3, 2)\n",
            "(3, 3)\n"
          ]
        }
      ]
    },
    {
      "cell_type": "code",
      "source": [
        "for number in range(1, 6):\n",
        "    print(number)"
      ],
      "metadata": {
        "colab": {
          "base_uri": "https://localhost:8080/"
        },
        "id": "Hw-2cWknpiHb",
        "outputId": "6409c040-13d1-4bbd-b0da-c6aacba63e2d"
      },
      "execution_count": 87,
      "outputs": [
        {
          "output_type": "stream",
          "name": "stdout",
          "text": [
            "1\n",
            "2\n",
            "3\n",
            "4\n",
            "5\n"
          ]
        }
      ]
    },
    {
      "cell_type": "code",
      "source": [
        "for number in range(1, 6,2):\n",
        "    print(number)"
      ],
      "metadata": {
        "colab": {
          "base_uri": "https://localhost:8080/"
        },
        "id": "xceK9JCop9ti",
        "outputId": "69921922-f0ca-448c-f328-fa7f47ed65bf"
      },
      "execution_count": 88,
      "outputs": [
        {
          "output_type": "stream",
          "name": "stdout",
          "text": [
            "1\n",
            "3\n",
            "5\n"
          ]
        }
      ]
    },
    {
      "cell_type": "code",
      "source": [
        "##迴圈while\n",
        "x=256\n",
        "total=0\n",
        "while x>0:\n",
        "  if total>500:\n",
        "    break\n",
        "  total+=x\n",
        "  x=x//2\n",
        "  print(x)\n",
        "print(\"---------------------------------------------我是分界線喔---------------------------------------------------------\")\n",
        "print(x)"
      ],
      "metadata": {
        "colab": {
          "base_uri": "https://localhost:8080/"
        },
        "id": "TwUEGXPxqAkK",
        "outputId": "2fb13350-1fa3-4ba8-c3a5-a681807839bd"
      },
      "execution_count": 94,
      "outputs": [
        {
          "output_type": "stream",
          "name": "stdout",
          "text": [
            "128\n",
            "64\n",
            "32\n",
            "16\n",
            "8\n",
            "4\n",
            "---------------------------------------------我是分界線喔---------------------------------------------------------\n",
            "4\n"
          ]
        }
      ]
    },
    {
      "cell_type": "code",
      "source": [
        "#pass\n",
        "if x<0:\n",
        "  print(\"負數\")\n",
        "elif x==0:\n",
        "  pass\n",
        "else:\n",
        "  print(\"正數\")"
      ],
      "metadata": {
        "colab": {
          "base_uri": "https://localhost:8080/"
        },
        "id": "eI85A0UTrC8b",
        "outputId": "ec0907fe-db8a-4297-94a9-1265eb3eccac"
      },
      "execution_count": 95,
      "outputs": [
        {
          "output_type": "stream",
          "name": "stdout",
          "text": [
            "正數\n"
          ]
        }
      ]
    },
    {
      "cell_type": "code",
      "source": [
        "range(10)"
      ],
      "metadata": {
        "colab": {
          "base_uri": "https://localhost:8080/"
        },
        "id": "s1AHPFDprhcX",
        "outputId": "dab5e35f-7e87-47f2-e30a-c1a0585ea1b6"
      },
      "execution_count": 96,
      "outputs": [
        {
          "output_type": "execute_result",
          "data": {
            "text/plain": [
              "range(0, 10)"
            ]
          },
          "metadata": {},
          "execution_count": 96
        }
      ]
    },
    {
      "cell_type": "code",
      "source": [
        "list(range(0,10))"
      ],
      "metadata": {
        "colab": {
          "base_uri": "https://localhost:8080/"
        },
        "id": "SqkEw2NyrmCS",
        "outputId": "d1c368db-f478-4e52-d507-d67ea1afefe8"
      },
      "execution_count": 97,
      "outputs": [
        {
          "output_type": "execute_result",
          "data": {
            "text/plain": [
              "[0, 1, 2, 3, 4, 5, 6, 7, 8, 9]"
            ]
          },
          "metadata": {},
          "execution_count": 97
        }
      ]
    },
    {
      "cell_type": "code",
      "source": [
        "list(range(0,20,2))"
      ],
      "metadata": {
        "colab": {
          "base_uri": "https://localhost:8080/"
        },
        "id": "fmIx6yNXrrGL",
        "outputId": "6714048c-a7f9-4bed-9e9f-68e3d5a92e8e"
      },
      "execution_count": 98,
      "outputs": [
        {
          "output_type": "execute_result",
          "data": {
            "text/plain": [
              "[0, 2, 4, 6, 8, 10, 12, 14, 16, 18]"
            ]
          },
          "metadata": {},
          "execution_count": 98
        }
      ]
    },
    {
      "cell_type": "code",
      "source": [
        "list(range(5,0,-1))"
      ],
      "metadata": {
        "colab": {
          "base_uri": "https://localhost:8080/"
        },
        "id": "ayVoCVy5rxJK",
        "outputId": "e2e2af09-deaa-45d7-c878-564216af0feb"
      },
      "execution_count": 99,
      "outputs": [
        {
          "output_type": "execute_result",
          "data": {
            "text/plain": [
              "[5, 4, 3, 2, 1]"
            ]
          },
          "metadata": {},
          "execution_count": 99
        }
      ]
    },
    {
      "cell_type": "code",
      "source": [
        "seq=list(range(1,5,1))\n",
        "for i in range(len(seq)):\n",
        "  val=seq[i]\n",
        "  print(val)"
      ],
      "metadata": {
        "colab": {
          "base_uri": "https://localhost:8080/"
        },
        "id": "aByJz63fr1Dy",
        "outputId": "1b79ad2a-3f75-49ba-e391-d3dc55748afa"
      },
      "execution_count": 101,
      "outputs": [
        {
          "output_type": "stream",
          "name": "stdout",
          "text": [
            "1\n",
            "2\n",
            "3\n",
            "4\n"
          ]
        }
      ]
    },
    {
      "cell_type": "code",
      "source": [
        "sum=0\n",
        "for i in range(10000):\n",
        "  if i%3 == 0 or i%5 == 0:\n",
        "    sum+=i\n",
        "print(sum)\n"
      ],
      "metadata": {
        "colab": {
          "base_uri": "https://localhost:8080/"
        },
        "id": "ENR0sDy6sKUJ",
        "outputId": "29fd99fc-f187-4492-85ed-a6b1f1d46728"
      },
      "execution_count": 102,
      "outputs": [
        {
          "output_type": "stream",
          "name": "stdout",
          "text": [
            "23331668\n"
          ]
        }
      ]
    },
    {
      "cell_type": "code",
      "source": [
        "#三元表達式 可以幫助壓縮程式碼\n",
        "#value = true-expr if condition esle false-expr\n",
        "x=5\n",
        "'Non-negative' if x >= 0 else 'Negative'"
      ],
      "metadata": {
        "colab": {
          "base_uri": "https://localhost:8080/",
          "height": 35
        },
        "id": "rKDtwIyIs1mi",
        "outputId": "5af8a576-9bd6-4bf3-e739-72340c52a55d"
      },
      "execution_count": 104,
      "outputs": [
        {
          "output_type": "execute_result",
          "data": {
            "text/plain": [
              "'Non-negative'"
            ],
            "application/vnd.google.colaboratory.intrinsic+json": {
              "type": "string"
            }
          },
          "metadata": {},
          "execution_count": 104
        }
      ]
    }
  ]
}