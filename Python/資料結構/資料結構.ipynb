{
  "nbformat": 4,
  "nbformat_minor": 0,
  "metadata": {
    "colab": {
      "provenance": [],
      "toc_visible": true
    },
    "kernelspec": {
      "name": "python3",
      "display_name": "Python 3"
    },
    "language_info": {
      "name": "python"
    }
  },
  "cells": [
    {
      "cell_type": "markdown",
      "source": [
        "# 資料結構和序列"
      ],
      "metadata": {
        "id": "JuubFSy80_Yy"
      }
    },
    {
      "cell_type": "code",
      "execution_count": null,
      "metadata": {
        "colab": {
          "base_uri": "https://localhost:8080/"
        },
        "id": "CFINyl4s0-Gs",
        "outputId": "e893c210-47d5-4d57-83aa-861d09fb4a23"
      },
      "outputs": [
        {
          "output_type": "execute_result",
          "data": {
            "text/plain": [
              "(4, 5, 6)"
            ]
          },
          "metadata": {},
          "execution_count": 1
        }
      ],
      "source": [
        "#Tuple\n",
        "tup=4,5,6\n",
        "tup"
      ]
    },
    {
      "cell_type": "code",
      "source": [
        "nested_tup=(4,5,6),(7,8)\n",
        "nested_tup"
      ],
      "metadata": {
        "colab": {
          "base_uri": "https://localhost:8080/"
        },
        "id": "Vqe_0Isp1T6T",
        "outputId": "a0ac4af9-92a1-41da-9963-129386275dfa"
      },
      "execution_count": null,
      "outputs": [
        {
          "output_type": "execute_result",
          "data": {
            "text/plain": [
              "((4, 5, 6), (7, 8))"
            ]
          },
          "metadata": {},
          "execution_count": 2
        }
      ]
    },
    {
      "cell_type": "code",
      "source": [
        "tuple([4,0,2])"
      ],
      "metadata": {
        "colab": {
          "base_uri": "https://localhost:8080/"
        },
        "id": "O7Kcyz4R1T_j",
        "outputId": "83d5bccc-381d-46c5-c9ad-d4b7d2867b79"
      },
      "execution_count": null,
      "outputs": [
        {
          "output_type": "execute_result",
          "data": {
            "text/plain": [
              "(4, 0, 2)"
            ]
          },
          "metadata": {},
          "execution_count": 3
        }
      ]
    },
    {
      "cell_type": "code",
      "source": [
        "tup=tuple('string')\n",
        "tup"
      ],
      "metadata": {
        "colab": {
          "base_uri": "https://localhost:8080/"
        },
        "id": "Ef_fgC5G1r5b",
        "outputId": "863105c3-2b76-49b9-c40c-888ef0b24cb5"
      },
      "execution_count": null,
      "outputs": [
        {
          "output_type": "execute_result",
          "data": {
            "text/plain": [
              "('s', 't', 'r', 'i', 'n', 'g')"
            ]
          },
          "metadata": {},
          "execution_count": 5
        }
      ]
    },
    {
      "cell_type": "code",
      "source": [
        "tup[0]"
      ],
      "metadata": {
        "colab": {
          "base_uri": "https://localhost:8080/",
          "height": 35
        },
        "id": "Dtw1qOET1wf6",
        "outputId": "be53bc89-6496-4881-9a60-0ca6efe9e591"
      },
      "execution_count": null,
      "outputs": [
        {
          "output_type": "execute_result",
          "data": {
            "text/plain": [
              "'s'"
            ],
            "application/vnd.google.colaboratory.intrinsic+json": {
              "type": "string"
            }
          },
          "metadata": {},
          "execution_count": 6
        }
      ]
    },
    {
      "cell_type": "code",
      "source": [
        "tup=tuple(['foo',[1,2],True])\n",
        "#tup[2]=False#無法修改"
      ],
      "metadata": {
        "id": "ml6ZWzbv13O6"
      },
      "execution_count": null,
      "outputs": []
    },
    {
      "cell_type": "code",
      "source": [
        "tup[1].append(3)\n",
        "tup"
      ],
      "metadata": {
        "colab": {
          "base_uri": "https://localhost:8080/"
        },
        "id": "ryhECCxO2QHU",
        "outputId": "e2f9093c-7fe8-49bd-a4d3-6397b8fdd57a"
      },
      "execution_count": null,
      "outputs": [
        {
          "output_type": "execute_result",
          "data": {
            "text/plain": [
              "('foo', [1, 2, 3], True)"
            ]
          },
          "metadata": {},
          "execution_count": 15
        }
      ]
    },
    {
      "cell_type": "code",
      "source": [
        "(4,None,'foo')+(6,0)+(\"bar\",)#結合成更長的tuple"
      ],
      "metadata": {
        "colab": {
          "base_uri": "https://localhost:8080/"
        },
        "id": "cqi_0I_A2e4q",
        "outputId": "cc6dcb16-58d2-44e7-bf35-ddf3a4a603d2"
      },
      "execution_count": null,
      "outputs": [
        {
          "output_type": "execute_result",
          "data": {
            "text/plain": [
              "(4, None, 'foo', 6, 0, 'bar')"
            ]
          },
          "metadata": {},
          "execution_count": 17
        }
      ]
    },
    {
      "cell_type": "code",
      "source": [
        "('foo','bar')*4"
      ],
      "metadata": {
        "colab": {
          "base_uri": "https://localhost:8080/"
        },
        "id": "ncpbpgx-2yYn",
        "outputId": "97ed83f7-02f2-4e97-80f8-b80ee2063dd5"
      },
      "execution_count": null,
      "outputs": [
        {
          "output_type": "execute_result",
          "data": {
            "text/plain": [
              "('foo', 'bar', 'foo', 'bar', 'foo', 'bar', 'foo', 'bar')"
            ]
          },
          "metadata": {},
          "execution_count": 18
        }
      ]
    },
    {
      "cell_type": "code",
      "source": [
        "#拆掉tuple\n",
        "tup=(4,5,6)\n",
        "a,b,c=tup\n",
        "b"
      ],
      "metadata": {
        "colab": {
          "base_uri": "https://localhost:8080/"
        },
        "id": "F3Y3DT_Q25hX",
        "outputId": "dd794607-2dd9-4fa4-ef1d-db290b14cd0e"
      },
      "execution_count": null,
      "outputs": [
        {
          "output_type": "execute_result",
          "data": {
            "text/plain": [
              "5"
            ]
          },
          "metadata": {},
          "execution_count": 19
        }
      ]
    },
    {
      "cell_type": "code",
      "source": [
        "tup=4,5,(6,7)\n",
        "a,b,(c,d)=tup#巢式tuple\n",
        "d"
      ],
      "metadata": {
        "colab": {
          "base_uri": "https://localhost:8080/"
        },
        "id": "F_sHIvib3Dvq",
        "outputId": "a42bfb5f-982d-46bb-fa8c-cc0d2c274f2d"
      },
      "execution_count": null,
      "outputs": [
        {
          "output_type": "execute_result",
          "data": {
            "text/plain": [
              "7"
            ]
          },
          "metadata": {},
          "execution_count": 20
        }
      ]
    },
    {
      "cell_type": "code",
      "source": [
        "tmp=a#變數功能互換\n",
        "a=b\n",
        "b=tmp"
      ],
      "metadata": {
        "id": "0LAdT13x3VMq"
      },
      "execution_count": null,
      "outputs": []
    },
    {
      "cell_type": "code",
      "source": [
        "a,b=1,2\n",
        "print(a)\n",
        "print(b)"
      ],
      "metadata": {
        "colab": {
          "base_uri": "https://localhost:8080/"
        },
        "id": "8RXUygbI3Zc6",
        "outputId": "bbf39ca1-384a-420b-ea55-fec7b90f5735"
      },
      "execution_count": null,
      "outputs": [
        {
          "output_type": "stream",
          "name": "stdout",
          "text": [
            "1\n",
            "2\n"
          ]
        }
      ]
    },
    {
      "cell_type": "code",
      "source": [
        "a,b=b,a\n",
        "print(a)\n",
        "print(b)"
      ],
      "metadata": {
        "colab": {
          "base_uri": "https://localhost:8080/"
        },
        "id": "3-ppV9Ek3lKi",
        "outputId": "44f0a35f-07c3-4971-ccf9-5bcc4a28335d"
      },
      "execution_count": null,
      "outputs": [
        {
          "output_type": "stream",
          "name": "stdout",
          "text": [
            "1\n",
            "2\n"
          ]
        }
      ]
    },
    {
      "cell_type": "code",
      "source": [
        "#常會用到拆tuple的問題是由list組成的tuple\n",
        "seq=[(1,2,3),(4,5,6),(7,8,9)]\n",
        "for a,b,c in seq:\n",
        "  print('a={0},b={1},c={2}'.format(a,b,c))"
      ],
      "metadata": {
        "colab": {
          "base_uri": "https://localhost:8080/"
        },
        "id": "OF8TkG-L34Gc",
        "outputId": "58336317-b04f-4d5f-fc99-94a30213abe2"
      },
      "execution_count": null,
      "outputs": [
        {
          "output_type": "stream",
          "name": "stdout",
          "text": [
            "a=1,b=2,c=3\n",
            "a=4,b=5,c=6\n",
            "a=7,b=8,c=9\n"
          ]
        }
      ]
    },
    {
      "cell_type": "code",
      "source": [
        "#拆tupe的新功能利用*rest的語法\n",
        "values=1,2,3,4,5\n",
        "a,b,*rest=values\n",
        "print(a,b)\n",
        "print(rest)"
      ],
      "metadata": {
        "colab": {
          "base_uri": "https://localhost:8080/"
        },
        "id": "SSivL6oX4hfy",
        "outputId": "dfc249d4-83cc-4f5b-a298-2f022940483c"
      },
      "execution_count": null,
      "outputs": [
        {
          "output_type": "stream",
          "name": "stdout",
          "text": [
            "1 2\n",
            "[3, 4, 5]\n"
          ]
        }
      ]
    },
    {
      "cell_type": "code",
      "source": [
        "a,b,*_=values"
      ],
      "metadata": {
        "id": "4CdNn_ML47Vx"
      },
      "execution_count": null,
      "outputs": []
    },
    {
      "cell_type": "code",
      "source": [
        "#Tuple方法\n",
        "a=(1,2,2,2,3,4,2)\n",
        "print(a.count(2))\n",
        "import numpy as np\n",
        "a=(1,np.repeat(2,3),3,4,2)\n",
        "print(a)#.count(2)\n",
        "a=(1,[2]*3,3,4,2)\n",
        "print(a.count(2))"
      ],
      "metadata": {
        "colab": {
          "base_uri": "https://localhost:8080/"
        },
        "id": "GZKbsmq55B1r",
        "outputId": "bb09f755-4cd3-4546-a4f1-02d66fee9a28"
      },
      "execution_count": null,
      "outputs": [
        {
          "output_type": "stream",
          "name": "stdout",
          "text": [
            "4\n",
            "(1, array([2, 2, 2]), 3, 4, 2)\n",
            "1\n"
          ]
        }
      ]
    },
    {
      "cell_type": "markdown",
      "source": [
        "# List\n",
        "* 對於元組list長度可變內容可變也可以使用中刮號或是list的型態"
      ],
      "metadata": {
        "id": "cfEqDvQL7OwP"
      }
    },
    {
      "cell_type": "code",
      "source": [
        "a_list=[2,3,7,None]\n",
        "tup=('foo','bar','baz')\n",
        "b_list=list(tup)\n",
        "print(b_list)\n",
        "b_list[1]='peekaboo'\n",
        "print(b_list)"
      ],
      "metadata": {
        "colab": {
          "base_uri": "https://localhost:8080/"
        },
        "id": "ge6fF2k17GBx",
        "outputId": "271ac843-acae-4454-c2e5-36b22503d3f8"
      },
      "execution_count": null,
      "outputs": [
        {
          "output_type": "stream",
          "name": "stdout",
          "text": [
            "['foo', 'bar', 'baz']\n",
            "['foo', 'peekaboo', 'baz']\n"
          ]
        }
      ]
    },
    {
      "cell_type": "code",
      "source": [
        "gen=range(10)\n",
        "print(gen)\n",
        "print(list(gen))"
      ],
      "metadata": {
        "colab": {
          "base_uri": "https://localhost:8080/"
        },
        "id": "xe0bp5kJ8NLZ",
        "outputId": "5174ad35-4670-474e-a49a-d12d14d2fdab"
      },
      "execution_count": null,
      "outputs": [
        {
          "output_type": "stream",
          "name": "stdout",
          "text": [
            "range(0, 10)\n",
            "[0, 1, 2, 3, 4, 5, 6, 7, 8, 9]\n"
          ]
        }
      ]
    },
    {
      "cell_type": "code",
      "source": [
        "#加入和移除元素\n",
        "#加入\n",
        "b_list.append('dwarf')\n",
        "b_list"
      ],
      "metadata": {
        "colab": {
          "base_uri": "https://localhost:8080/"
        },
        "id": "pUUfGq4P8feZ",
        "outputId": "12a9751f-cbc3-4685-a2a5-d464c07555a5"
      },
      "execution_count": null,
      "outputs": [
        {
          "output_type": "execute_result",
          "data": {
            "text/plain": [
              "['foo', 'peekaboo', 'baz', 'dwarf']"
            ]
          },
          "metadata": {},
          "execution_count": 57
        }
      ]
    },
    {
      "cell_type": "code",
      "source": [
        "#加入\n",
        "b_list.insert(1,'red')\n",
        "b_list"
      ],
      "metadata": {
        "colab": {
          "base_uri": "https://localhost:8080/"
        },
        "id": "W-CxYf_o8t8z",
        "outputId": "ad238b9d-e803-492d-d4c6-5721ff41778d"
      },
      "execution_count": null,
      "outputs": [
        {
          "output_type": "execute_result",
          "data": {
            "text/plain": [
              "['foo', 'red', 'peekaboo', 'baz', 'dwarf']"
            ]
          },
          "metadata": {},
          "execution_count": 58
        }
      ]
    },
    {
      "cell_type": "code",
      "source": [
        "#pop移除\n",
        "b_list.pop(2)"
      ],
      "metadata": {
        "colab": {
          "base_uri": "https://localhost:8080/",
          "height": 35
        },
        "id": "-_JZaWHp-NCR",
        "outputId": "e6e965d1-4723-4b55-842a-251c10187f22"
      },
      "execution_count": null,
      "outputs": [
        {
          "output_type": "execute_result",
          "data": {
            "text/plain": [
              "'peekaboo'"
            ],
            "application/vnd.google.colaboratory.intrinsic+json": {
              "type": "string"
            }
          },
          "metadata": {},
          "execution_count": 59
        }
      ]
    },
    {
      "cell_type": "code",
      "source": [
        "b_list"
      ],
      "metadata": {
        "colab": {
          "base_uri": "https://localhost:8080/"
        },
        "id": "CjB7r2oo-SJ1",
        "outputId": "bc254091-b58c-490a-db00-ce982e814abe"
      },
      "execution_count": null,
      "outputs": [
        {
          "output_type": "execute_result",
          "data": {
            "text/plain": [
              "['foo', 'red', 'baz', 'dwarf']"
            ]
          },
          "metadata": {},
          "execution_count": 60
        }
      ]
    },
    {
      "cell_type": "code",
      "source": [
        "b_list.append('foo')\n",
        "b_list"
      ],
      "metadata": {
        "colab": {
          "base_uri": "https://localhost:8080/"
        },
        "id": "4Oll1Rfw-dJ3",
        "outputId": "4da1add0-5ef9-4805-e74b-451d80f14efa"
      },
      "execution_count": null,
      "outputs": [
        {
          "output_type": "execute_result",
          "data": {
            "text/plain": [
              "['foo', 'red', 'baz', 'dwarf', 'foo']"
            ]
          },
          "metadata": {},
          "execution_count": 61
        }
      ]
    },
    {
      "cell_type": "code",
      "source": [
        "b_list.remove('foo')\n",
        "b_list#只丟第一個"
      ],
      "metadata": {
        "colab": {
          "base_uri": "https://localhost:8080/"
        },
        "id": "IhixIHpi-tuJ",
        "outputId": "949981fa-201f-4158-9fb4-39866c6dbd67"
      },
      "execution_count": null,
      "outputs": [
        {
          "output_type": "execute_result",
          "data": {
            "text/plain": [
              "['red', 'baz', 'dwarf', 'foo']"
            ]
          },
          "metadata": {},
          "execution_count": 62
        }
      ]
    },
    {
      "cell_type": "code",
      "source": [
        "'dwarf' in b_list"
      ],
      "metadata": {
        "colab": {
          "base_uri": "https://localhost:8080/"
        },
        "id": "l1hLYdL4-3R-",
        "outputId": "4fe9b293-6d67-4847-ea4c-9f7e45522923"
      },
      "execution_count": null,
      "outputs": [
        {
          "output_type": "execute_result",
          "data": {
            "text/plain": [
              "True"
            ]
          },
          "metadata": {},
          "execution_count": 63
        }
      ]
    },
    {
      "cell_type": "code",
      "source": [
        "'dwarf' not in b_list"
      ],
      "metadata": {
        "colab": {
          "base_uri": "https://localhost:8080/"
        },
        "id": "caxK2YIl-9eL",
        "outputId": "557a5dc1-1032-4acb-9d22-6ccbd0e2d22e"
      },
      "execution_count": null,
      "outputs": [
        {
          "output_type": "execute_result",
          "data": {
            "text/plain": [
              "False"
            ]
          },
          "metadata": {},
          "execution_count": 64
        }
      ]
    },
    {
      "cell_type": "code",
      "source": [
        "#相接合併list\n",
        "[4,None,'foo']+[7,8,(2,3)]"
      ],
      "metadata": {
        "colab": {
          "base_uri": "https://localhost:8080/"
        },
        "id": "1SXqSW53_LtV",
        "outputId": "3e82ed92-96d5-400d-f7aa-de91b2552b00"
      },
      "execution_count": null,
      "outputs": [
        {
          "output_type": "execute_result",
          "data": {
            "text/plain": [
              "[4, None, 'foo', 7, 8, (2, 3)]"
            ]
          },
          "metadata": {},
          "execution_count": 65
        }
      ]
    },
    {
      "cell_type": "code",
      "source": [
        "x=[4,None,'foo']\n",
        "x.extend([7,8,(2,3)])\n",
        "x"
      ],
      "metadata": {
        "colab": {
          "base_uri": "https://localhost:8080/"
        },
        "id": "B8YIpXtQ_byP",
        "outputId": "a1ebb77a-70a4-4f9d-f034-29daf2923230"
      },
      "execution_count": null,
      "outputs": [
        {
          "output_type": "execute_result",
          "data": {
            "text/plain": [
              "[4, None, 'foo', 7, 8, (2, 3)]"
            ]
          },
          "metadata": {},
          "execution_count": 66
        }
      ]
    },
    {
      "cell_type": "code",
      "source": [
        "list_of_lists=[\"app\"]\n",
        "everything=[]\n",
        "for chunk in list_of_lists:\n",
        "  everything.extend(chunk)\n",
        "  #extend比everything=list_of_lists +chunk"
      ],
      "metadata": {
        "id": "sQ7oal7M_ntJ"
      },
      "execution_count": null,
      "outputs": []
    },
    {
      "cell_type": "code",
      "source": [
        "#排序\n",
        "a=[7,2,5,1,3]\n",
        "a.sort()\n",
        "a"
      ],
      "metadata": {
        "colab": {
          "base_uri": "https://localhost:8080/"
        },
        "id": "6XwLJGK5ArUg",
        "outputId": "d51eb378-8502-46b5-86b9-9c97fa9015bc"
      },
      "execution_count": null,
      "outputs": [
        {
          "output_type": "execute_result",
          "data": {
            "text/plain": [
              "[1, 2, 3, 5, 7]"
            ]
          },
          "metadata": {},
          "execution_count": 73
        }
      ]
    },
    {
      "cell_type": "code",
      "source": [
        "b=['saw','small','He','foxes','six']\n",
        "b.sort(key=len)\n",
        "b"
      ],
      "metadata": {
        "colab": {
          "base_uri": "https://localhost:8080/"
        },
        "id": "mX9AkZGPA6u9",
        "outputId": "856b70a1-5fcb-4f17-c569-2811978a9aff"
      },
      "execution_count": null,
      "outputs": [
        {
          "output_type": "execute_result",
          "data": {
            "text/plain": [
              "['He', 'saw', 'six', 'small', 'foxes']"
            ]
          },
          "metadata": {},
          "execution_count": 74
        }
      ]
    },
    {
      "cell_type": "code",
      "source": [
        "import bisect\n",
        "c = [1,2,2,2,3,4,7]\n",
        "bisect.bisect(c,2)"
      ],
      "metadata": {
        "colab": {
          "base_uri": "https://localhost:8080/"
        },
        "id": "YmTBLmy9BNGR",
        "outputId": "c75146b0-5e43-41e8-8af6-197fb829f2fa"
      },
      "execution_count": null,
      "outputs": [
        {
          "output_type": "execute_result",
          "data": {
            "text/plain": [
              "4"
            ]
          },
          "metadata": {},
          "execution_count": 75
        }
      ]
    },
    {
      "cell_type": "code",
      "source": [
        "#bisect插入部又不影響排序\n",
        "bisect.bisect(c,5)"
      ],
      "metadata": {
        "colab": {
          "base_uri": "https://localhost:8080/"
        },
        "id": "EeSGbTzqBbXA",
        "outputId": "60f4fea5-d90c-465b-8972-cda7f18c2b62"
      },
      "execution_count": null,
      "outputs": [
        {
          "output_type": "execute_result",
          "data": {
            "text/plain": [
              "6"
            ]
          },
          "metadata": {},
          "execution_count": 76
        }
      ]
    },
    {
      "cell_type": "code",
      "source": [
        "bisect.bisect(c,6)"
      ],
      "metadata": {
        "colab": {
          "base_uri": "https://localhost:8080/"
        },
        "id": "PuAtbeUkBgBj",
        "outputId": "15c6d085-ae3f-448b-f8cb-de8e0e9e6ecf"
      },
      "execution_count": null,
      "outputs": [
        {
          "output_type": "execute_result",
          "data": {
            "text/plain": [
              "6"
            ]
          },
          "metadata": {},
          "execution_count": 77
        }
      ]
    },
    {
      "cell_type": "code",
      "source": [
        "c"
      ],
      "metadata": {
        "colab": {
          "base_uri": "https://localhost:8080/"
        },
        "id": "Mcw_y1gEBhnK",
        "outputId": "be14fab3-2ddc-4b81-9089-0919d3a5973d"
      },
      "execution_count": null,
      "outputs": [
        {
          "output_type": "execute_result",
          "data": {
            "text/plain": [
              "[1, 2, 2, 2, 3, 4, 7]"
            ]
          },
          "metadata": {},
          "execution_count": 78
        }
      ]
    },
    {
      "cell_type": "markdown",
      "source": [
        "# 切片"
      ],
      "metadata": {
        "id": "CUN6plEvB4-E"
      }
    },
    {
      "cell_type": "code",
      "source": [
        "seq=[7,2,3,7,5,6,0,1]\n",
        "seq[1:5]"
      ],
      "metadata": {
        "colab": {
          "base_uri": "https://localhost:8080/"
        },
        "id": "SBZBzkLCB7mr",
        "outputId": "449cb986-75d8-4ad7-9f70-6086b57df50e"
      },
      "execution_count": null,
      "outputs": [
        {
          "output_type": "execute_result",
          "data": {
            "text/plain": [
              "[2, 3, 7, 5]"
            ]
          },
          "metadata": {},
          "execution_count": 79
        }
      ]
    },
    {
      "cell_type": "code",
      "source": [
        "seq[3:4]=[6,3]\n",
        "seq"
      ],
      "metadata": {
        "colab": {
          "base_uri": "https://localhost:8080/"
        },
        "id": "JRFR3uJECHs7",
        "outputId": "f457af2b-b007-42e6-f983-1fc1633f6829"
      },
      "execution_count": null,
      "outputs": [
        {
          "output_type": "execute_result",
          "data": {
            "text/plain": [
              "[7, 2, 3, 6, 3, 5, 6, 0, 1]"
            ]
          },
          "metadata": {},
          "execution_count": 81
        }
      ]
    },
    {
      "cell_type": "code",
      "source": [
        "seq[:5]"
      ],
      "metadata": {
        "colab": {
          "base_uri": "https://localhost:8080/"
        },
        "id": "M2co3miGCROR",
        "outputId": "47042b8b-ab15-4065-da36-6dfedaad4021"
      },
      "execution_count": null,
      "outputs": [
        {
          "output_type": "execute_result",
          "data": {
            "text/plain": [
              "[7, 2, 3, 6, 3]"
            ]
          },
          "metadata": {},
          "execution_count": 82
        }
      ]
    },
    {
      "cell_type": "code",
      "source": [
        "seq[3:]"
      ],
      "metadata": {
        "colab": {
          "base_uri": "https://localhost:8080/"
        },
        "id": "jBKy1ndYCVKi",
        "outputId": "91eff1e4-ce88-4c9c-e933-c9da40ce5c90"
      },
      "execution_count": null,
      "outputs": [
        {
          "output_type": "execute_result",
          "data": {
            "text/plain": [
              "[6, 3, 5, 6, 0, 1]"
            ]
          },
          "metadata": {},
          "execution_count": 83
        }
      ]
    },
    {
      "cell_type": "code",
      "source": [
        "seq[-4:]"
      ],
      "metadata": {
        "colab": {
          "base_uri": "https://localhost:8080/"
        },
        "id": "2LAWLME4CX6b",
        "outputId": "7ab3adf3-1aaa-4bcd-f360-75cf93d36cd5"
      },
      "execution_count": null,
      "outputs": [
        {
          "output_type": "execute_result",
          "data": {
            "text/plain": [
              "[5, 6, 0, 1]"
            ]
          },
          "metadata": {},
          "execution_count": 84
        }
      ]
    },
    {
      "cell_type": "code",
      "source": [
        "seq[-6:-2]"
      ],
      "metadata": {
        "colab": {
          "base_uri": "https://localhost:8080/"
        },
        "id": "0O4fCPZSCajV",
        "outputId": "feca7a82-da57-46ce-8d54-17f84c8d532c"
      },
      "execution_count": null,
      "outputs": [
        {
          "output_type": "execute_result",
          "data": {
            "text/plain": [
              "[6, 3, 5, 6]"
            ]
          },
          "metadata": {},
          "execution_count": 85
        }
      ]
    },
    {
      "cell_type": "code",
      "source": [
        "seq[::2]#每隔多少元素"
      ],
      "metadata": {
        "colab": {
          "base_uri": "https://localhost:8080/"
        },
        "id": "obNlq29GCfRi",
        "outputId": "0bd2dbf5-8d72-465c-9242-d9434ed6e292"
      },
      "execution_count": null,
      "outputs": [
        {
          "output_type": "execute_result",
          "data": {
            "text/plain": [
              "[7, 3, 3, 6, 1]"
            ]
          },
          "metadata": {},
          "execution_count": 86
        }
      ]
    },
    {
      "cell_type": "code",
      "source": [
        "seq[::-1]#顛倒"
      ],
      "metadata": {
        "colab": {
          "base_uri": "https://localhost:8080/"
        },
        "id": "_3LF883BCo70",
        "outputId": "ec8932d5-2f52-4c82-bb88-c6baa39b794e"
      },
      "execution_count": null,
      "outputs": [
        {
          "output_type": "execute_result",
          "data": {
            "text/plain": [
              "[1, 0, 6, 5, 3, 6, 3, 2, 7]"
            ]
          },
          "metadata": {},
          "execution_count": 87
        }
      ]
    },
    {
      "cell_type": "markdown",
      "source": [
        "# 內建序列函式"
      ],
      "metadata": {
        "id": "BybanQ0ACwkb"
      }
    },
    {
      "cell_type": "code",
      "source": [
        "#enumerat做成dic為了提升效率\n",
        "some_list=['foo','bar','baz']\n",
        "mapping={}\n",
        "for i,v in enumerate(some_list):\n",
        "  mapping[v]=i\n",
        "mapping"
      ],
      "metadata": {
        "colab": {
          "base_uri": "https://localhost:8080/"
        },
        "id": "cME_M6mYCtLJ",
        "outputId": "07028a05-e10c-4b21-a24a-41a78b9a25bc"
      },
      "execution_count": null,
      "outputs": [
        {
          "output_type": "execute_result",
          "data": {
            "text/plain": [
              "{'foo': 0, 'bar': 1, 'baz': 2}"
            ]
          },
          "metadata": {},
          "execution_count": 89
        }
      ]
    },
    {
      "cell_type": "code",
      "source": [
        "#sort\n",
        "sorted([7,1,2,6,0,3,2])"
      ],
      "metadata": {
        "colab": {
          "base_uri": "https://localhost:8080/"
        },
        "id": "XQX-aPxnDYZH",
        "outputId": "46c24fa6-6831-46e5-9b8c-43253f7865d5"
      },
      "execution_count": null,
      "outputs": [
        {
          "output_type": "execute_result",
          "data": {
            "text/plain": [
              "[0, 1, 2, 2, 3, 6, 7]"
            ]
          },
          "metadata": {},
          "execution_count": 92
        }
      ]
    },
    {
      "cell_type": "code",
      "source": [
        "sorted('horse race')"
      ],
      "metadata": {
        "colab": {
          "base_uri": "https://localhost:8080/"
        },
        "id": "7hqX6XdYDze9",
        "outputId": "d22233cc-ab5e-4999-ce8c-de46ea037f9a"
      },
      "execution_count": null,
      "outputs": [
        {
          "output_type": "execute_result",
          "data": {
            "text/plain": [
              "[' ', 'a', 'c', 'e', 'e', 'h', 'o', 'r', 'r', 's']"
            ]
          },
          "metadata": {},
          "execution_count": 93
        }
      ]
    },
    {
      "cell_type": "markdown",
      "source": [
        "# zip\n",
        "⚡元素配對"
      ],
      "metadata": {
        "id": "H_QWH822ftaq"
      }
    },
    {
      "cell_type": "code",
      "source": [
        "seq1=['foo','bar','baz']\n",
        "seq2=['one','two','three']\n",
        "zipped=zip(seq1,seq2)\n",
        "list(zipped)"
      ],
      "metadata": {
        "colab": {
          "base_uri": "https://localhost:8080/"
        },
        "id": "PSZXOjtefqWU",
        "outputId": "d774cd6c-e18c-433e-f947-41a355d761d9"
      },
      "execution_count": null,
      "outputs": [
        {
          "output_type": "execute_result",
          "data": {
            "text/plain": [
              "[('foo', 'one'), ('bar', 'two'), ('baz', 'three')]"
            ]
          },
          "metadata": {},
          "execution_count": 1
        }
      ]
    },
    {
      "cell_type": "code",
      "source": [
        "seq3=[False,True]\n",
        "list(zip(seq1,seq2,seq3))"
      ],
      "metadata": {
        "colab": {
          "base_uri": "https://localhost:8080/"
        },
        "id": "5qW_mEpwgSBH",
        "outputId": "598ae059-a441-4afc-faa9-7ec92f23abcc"
      },
      "execution_count": null,
      "outputs": [
        {
          "output_type": "execute_result",
          "data": {
            "text/plain": [
              "[('foo', 'one', False), ('bar', 'two', True)]"
            ]
          },
          "metadata": {},
          "execution_count": 2
        }
      ]
    },
    {
      "cell_type": "code",
      "source": [
        "from traitlets.traitlets import Enum\n",
        "#enumerate合併使用\n",
        "for i,(a,b) in enumerate(zip(seq1,seq2)):\n",
        "  print('{0}:{1},{2}'.format(i,a,b))\n"
      ],
      "metadata": {
        "colab": {
          "base_uri": "https://localhost:8080/"
        },
        "id": "JlMr6MdFg15l",
        "outputId": "e202351f-fa13-40fc-af00-7b4dfc9793a8"
      },
      "execution_count": null,
      "outputs": [
        {
          "output_type": "stream",
          "name": "stdout",
          "text": [
            "0:foo,one\n",
            "1:bar,two\n",
            "2:baz,three\n"
          ]
        }
      ]
    },
    {
      "cell_type": "code",
      "source": [
        "pitchers=[('峻翊','學姊嗆'),('子傑','子雲是'),('柏聖','狗')]\n",
        "first_names,last_names=zip(*pitchers)\n",
        "first_names"
      ],
      "metadata": {
        "colab": {
          "base_uri": "https://localhost:8080/"
        },
        "id": "IN8-03XyhTTG",
        "outputId": "a0b042ef-10aa-46ec-e4a1-9161826ee892"
      },
      "execution_count": null,
      "outputs": [
        {
          "output_type": "execute_result",
          "data": {
            "text/plain": [
              "('峻翊', '子傑', '柏聖')"
            ]
          },
          "metadata": {},
          "execution_count": 7
        }
      ]
    },
    {
      "cell_type": "code",
      "source": [
        "last_names"
      ],
      "metadata": {
        "colab": {
          "base_uri": "https://localhost:8080/"
        },
        "id": "kns6C5LiiQvu",
        "outputId": "9e0edd36-03d6-4f6a-b5c9-f9a336532117"
      },
      "execution_count": null,
      "outputs": [
        {
          "output_type": "execute_result",
          "data": {
            "text/plain": [
              "('學姊嗆', '子雲是', '狗')"
            ]
          },
          "metadata": {},
          "execution_count": 8
        }
      ]
    },
    {
      "cell_type": "code",
      "source": [
        "#reversed\n",
        "list(reversed(range(10)))"
      ],
      "metadata": {
        "colab": {
          "base_uri": "https://localhost:8080/"
        },
        "id": "Ou7MkMl8iayX",
        "outputId": "3c9cbfc5-0317-4166-82ec-cee0bebd9eaf"
      },
      "execution_count": null,
      "outputs": [
        {
          "output_type": "execute_result",
          "data": {
            "text/plain": [
              "[9, 8, 7, 6, 5, 4, 3, 2, 1, 0]"
            ]
          },
          "metadata": {},
          "execution_count": 10
        }
      ]
    },
    {
      "cell_type": "code",
      "source": [
        "#dict\n",
        "empty_dict={}\n",
        "d1={'a' :'some value','b' : [1,2,3,4]}\n",
        "d1"
      ],
      "metadata": {
        "colab": {
          "base_uri": "https://localhost:8080/"
        },
        "id": "yUSfGBmMioW1",
        "outputId": "ecb5f600-e2bc-4cc9-ad2a-ccad3257aa95"
      },
      "execution_count": null,
      "outputs": [
        {
          "output_type": "execute_result",
          "data": {
            "text/plain": [
              "{'a': 'some value', 'b': [1, 2, 3, 4]}"
            ]
          },
          "metadata": {},
          "execution_count": 2
        }
      ]
    },
    {
      "cell_type": "code",
      "source": [
        "d1[7]='an integer'\n",
        "d1"
      ],
      "metadata": {
        "colab": {
          "base_uri": "https://localhost:8080/"
        },
        "id": "M20ub7bYsgCX",
        "outputId": "6fbe61ad-2008-4734-cbae-01afa1d2d6de"
      },
      "execution_count": null,
      "outputs": [
        {
          "output_type": "execute_result",
          "data": {
            "text/plain": [
              "{'a': 'some value', 'b': [1, 2, 3, 4], 7: 'an integer'}"
            ]
          },
          "metadata": {},
          "execution_count": 3
        }
      ]
    },
    {
      "cell_type": "code",
      "source": [
        "d1['b']"
      ],
      "metadata": {
        "id": "zqW7MCDQszfD",
        "outputId": "f63f68f4-a01d-4cd9-da8d-8e85f2ed8e75",
        "colab": {
          "base_uri": "https://localhost:8080/"
        }
      },
      "execution_count": null,
      "outputs": [
        {
          "output_type": "execute_result",
          "data": {
            "text/plain": [
              "[1, 2, 3, 4]"
            ]
          },
          "metadata": {},
          "execution_count": 4
        }
      ]
    },
    {
      "cell_type": "code",
      "source": [
        "'b' in d1"
      ],
      "metadata": {
        "id": "kOotr-eEs4u4",
        "colab": {
          "base_uri": "https://localhost:8080/"
        },
        "outputId": "e95d40a2-78cb-4e53-b755-68085cc4f026"
      },
      "execution_count": null,
      "outputs": [
        {
          "output_type": "execute_result",
          "data": {
            "text/plain": [
              "True"
            ]
          },
          "metadata": {},
          "execution_count": 5
        }
      ]
    },
    {
      "cell_type": "code",
      "source": [
        "d1[5]='some value'\n",
        "d1"
      ],
      "metadata": {
        "colab": {
          "base_uri": "https://localhost:8080/"
        },
        "id": "Zc0O3n0RJ7Hc",
        "outputId": "0e856cb2-f7bc-4f89-bf95-0ae92e3ee7b9"
      },
      "execution_count": null,
      "outputs": [
        {
          "output_type": "execute_result",
          "data": {
            "text/plain": [
              "{'a': 'some value', 'b': [1, 2, 3, 4], 7: 'an integer', 5: 'some value'}"
            ]
          },
          "metadata": {},
          "execution_count": 15
        }
      ]
    },
    {
      "cell_type": "code",
      "source": [
        "d1['dummy']='another value'\n",
        "d1"
      ],
      "metadata": {
        "colab": {
          "base_uri": "https://localhost:8080/"
        },
        "id": "yTV4lCyIKB3t",
        "outputId": "4ade531e-29f5-4a00-878d-c0c76478637e"
      },
      "execution_count": null,
      "outputs": [
        {
          "output_type": "execute_result",
          "data": {
            "text/plain": [
              "{'a': 'some value',\n",
              " 'b': [1, 2, 3, 4],\n",
              " 7: 'an integer',\n",
              " 5: 'some value',\n",
              " 'dummy': 'another value'}"
            ]
          },
          "metadata": {},
          "execution_count": 17
        }
      ]
    },
    {
      "cell_type": "code",
      "source": [
        "del d1[5]#del似pop回傳值刪除\n",
        "d1"
      ],
      "metadata": {
        "colab": {
          "base_uri": "https://localhost:8080/"
        },
        "id": "MwUysNIXKIRV",
        "outputId": "07ef7700-fbc4-4c13-c397-3df697c7e489"
      },
      "execution_count": null,
      "outputs": [
        {
          "output_type": "execute_result",
          "data": {
            "text/plain": [
              "{'a': 'some value',\n",
              " 'b': [1, 2, 3, 4],\n",
              " 7: 'an integer',\n",
              " 'dummy': 'another value'}"
            ]
          },
          "metadata": {},
          "execution_count": 12
        }
      ]
    },
    {
      "cell_type": "code",
      "source": [
        "ret=d1.pop('dummy')\n",
        "ret"
      ],
      "metadata": {
        "colab": {
          "base_uri": "https://localhost:8080/",
          "height": 36
        },
        "id": "i8A2raSBKdUN",
        "outputId": "6424b47c-3154-4e72-f42e-9509e8099476"
      },
      "execution_count": null,
      "outputs": [
        {
          "output_type": "execute_result",
          "data": {
            "text/plain": [
              "'another value'"
            ],
            "application/vnd.google.colaboratory.intrinsic+json": {
              "type": "string"
            }
          },
          "metadata": {},
          "execution_count": 18
        }
      ]
    },
    {
      "cell_type": "code",
      "source": [
        "d1"
      ],
      "metadata": {
        "colab": {
          "base_uri": "https://localhost:8080/"
        },
        "id": "uFy0tHIDKuXs",
        "outputId": "a47ad8ad-0d13-43f4-a9c7-b5472eaa94b5"
      },
      "execution_count": null,
      "outputs": [
        {
          "output_type": "execute_result",
          "data": {
            "text/plain": [
              "{'a': 'some value', 'b': [1, 2, 3, 4], 7: 'an integer', 5: 'some value'}"
            ]
          },
          "metadata": {},
          "execution_count": 19
        }
      ]
    },
    {
      "cell_type": "code",
      "source": [
        "list(d1.keys())"
      ],
      "metadata": {
        "colab": {
          "base_uri": "https://localhost:8080/"
        },
        "id": "0z5np-3tK2fL",
        "outputId": "efa6ea05-6573-4b29-bdcc-12efda5dbd95"
      },
      "execution_count": null,
      "outputs": [
        {
          "output_type": "execute_result",
          "data": {
            "text/plain": [
              "['a', 'b', 7, 5]"
            ]
          },
          "metadata": {},
          "execution_count": 21
        }
      ]
    },
    {
      "cell_type": "code",
      "source": [
        "list(d1.values())"
      ],
      "metadata": {
        "colab": {
          "base_uri": "https://localhost:8080/"
        },
        "id": "yYioxPZKK87V",
        "outputId": "86a3372e-5e66-4520-a688-b4444ef61bc7"
      },
      "execution_count": null,
      "outputs": [
        {
          "output_type": "execute_result",
          "data": {
            "text/plain": [
              "['some value', [1, 2, 3, 4], 'an integer', 'some value']"
            ]
          },
          "metadata": {},
          "execution_count": 22
        }
      ]
    },
    {
      "cell_type": "code",
      "source": [
        "d1.update({'b':'foo','c':12})\n",
        "d1"
      ],
      "metadata": {
        "colab": {
          "base_uri": "https://localhost:8080/"
        },
        "id": "UVOxRyFhLFH8",
        "outputId": "165663c0-2f7e-470d-ae12-3929813e6ef3"
      },
      "execution_count": null,
      "outputs": [
        {
          "output_type": "execute_result",
          "data": {
            "text/plain": [
              "{'a': 'some value', 'b': 'foo', 7: 'an integer', 5: 'some value', 'c': 12}"
            ]
          },
          "metadata": {},
          "execution_count": 24
        }
      ]
    },
    {
      "cell_type": "markdown",
      "source": [
        "# 從序列建立dict\n",
        "```python\n",
        "mapping={}\n",
        "for key,value in zip(key_list,value_list):\n",
        "  mapping[key] =value\n",
        "```"
      ],
      "metadata": {
        "id": "3S0aL9FaLcoy"
      }
    },
    {
      "cell_type": "code",
      "source": [
        "mapping = dict(zip(range(5),reversed(range(5))))\n",
        "mapping"
      ],
      "metadata": {
        "colab": {
          "base_uri": "https://localhost:8080/"
        },
        "id": "1_PXn6sFLWys",
        "outputId": "b5483f4d-f9ae-4adf-9ccd-2afd3ba8de32"
      },
      "execution_count": null,
      "outputs": [
        {
          "output_type": "execute_result",
          "data": {
            "text/plain": [
              "{0: 4, 1: 3, 2: 2, 3: 1, 4: 0}"
            ]
          },
          "metadata": {},
          "execution_count": 27
        }
      ]
    },
    {
      "cell_type": "markdown",
      "source": [
        "#預設值\n",
        "```python\n",
        "if key in some_dict:\n",
        "  value = some_dict[key]\n",
        "else:\n",
        "  value=default_value\n",
        "```"
      ],
      "metadata": {
        "id": "U3H56DpRMhpd"
      }
    },
    {
      "cell_type": "code",
      "source": [
        "words = ['apple','bat','bar','atom','book']\n",
        "by_letter={}\n",
        "for word in words:\n",
        "  letter = word[0]\n",
        "  if letter not in by_letter:\n",
        "    by_letter[letter]=[word]\n",
        "  else:\n",
        "    by_letter[letter].append(word)\n",
        "by_letter"
      ],
      "metadata": {
        "colab": {
          "base_uri": "https://localhost:8080/"
        },
        "id": "g1IxhacmMKzu",
        "outputId": "a806eb20-648b-4001-fdaa-b974c963cc8f"
      },
      "execution_count": null,
      "outputs": [
        {
          "output_type": "execute_result",
          "data": {
            "text/plain": [
              "{'a': ['apple', 'atom'], 'b': ['bat', 'bar', 'book']}"
            ]
          },
          "metadata": {},
          "execution_count": 30
        }
      ]
    },
    {
      "cell_type": "code",
      "source": [
        "for word in words:\n",
        "  letter = word[0]\n",
        "  by_letter.setdefault(letter,[]).append(word)"
      ],
      "metadata": {
        "id": "6kwug0_RNfjv"
      },
      "execution_count": null,
      "outputs": []
    },
    {
      "cell_type": "code",
      "source": [
        "from collections import defaultdict\n",
        "by_letter = defaultdict(list)\n",
        "for word in words:\n",
        "  by_letter[word[0]].append(word)"
      ],
      "metadata": {
        "id": "2lYWhZ7iN4Q6"
      },
      "execution_count": null,
      "outputs": []
    },
    {
      "cell_type": "markdown",
      "source": [
        "# dict 合法的key型態\n"
      ],
      "metadata": {
        "id": "sGQWpPHXOauF"
      }
    },
    {
      "cell_type": "code",
      "source": [
        "hash('string')"
      ],
      "metadata": {
        "colab": {
          "base_uri": "https://localhost:8080/"
        },
        "id": "FQbpCBhxOo3b",
        "outputId": "9e9a67c4-a3c9-42a8-bc87-6ad64661f428"
      },
      "execution_count": null,
      "outputs": [
        {
          "output_type": "execute_result",
          "data": {
            "text/plain": [
              "8155066956623389449"
            ]
          },
          "metadata": {},
          "execution_count": 35
        }
      ]
    },
    {
      "cell_type": "code",
      "source": [
        "hash((1,2,(2,3)))"
      ],
      "metadata": {
        "colab": {
          "base_uri": "https://localhost:8080/"
        },
        "id": "ryFUYKFCO2C0",
        "outputId": "0919a4a9-af7d-469c-d354-48df6ab72487"
      },
      "execution_count": null,
      "outputs": [
        {
          "output_type": "execute_result",
          "data": {
            "text/plain": [
              "-9209053662355515447"
            ]
          },
          "metadata": {},
          "execution_count": 36
        }
      ]
    },
    {
      "cell_type": "code",
      "source": [
        "#hash((1,2,[2,3]))#會失敗 因為list\n",
        "#用其他方法\n",
        "d={}\n",
        "d[tuple([1,2,3])]=5\n",
        "d"
      ],
      "metadata": {
        "colab": {
          "base_uri": "https://localhost:8080/"
        },
        "id": "cZ_EBvNmO7Ki",
        "outputId": "de3a0735-e00a-4adb-fb09-cf2b2e41e604"
      },
      "execution_count": null,
      "outputs": [
        {
          "output_type": "execute_result",
          "data": {
            "text/plain": [
              "{(1, 2, 3): 5}"
            ]
          },
          "metadata": {},
          "execution_count": 38
        }
      ]
    },
    {
      "cell_type": "markdown",
      "source": [
        "#set\n",
        "| 🐤函式  | 🐤等同語法 |🍊描述|\n",
        "| ------------- |:-------------:|:-------------:|\n",
        "|a.add(x)|N/A|將元素×加入集合a|\n",
        "|a.clear()|N/A|將集合a清空,丟棄所有現有元素|\n",
        "|a.remove(x)|N/A|把元素x從集合a移除|\n",
        "|a.pop(b)|N/A|從集合a中移除任意元素,如果集合為空,會丟出KeyError例外|\n",
        "|a.union(b)| a ㅣ b |所有集合a與b中不重複的元素 |\n",
        "|a.update(b)|a ㅣ= b|指定集合a的內容為a和b的聯集|\n",
        "|a.intersection(b)|a & b|集合a與b中所有*同時*存在的元素|\n",
        "|a.intersection_update(b)|a &= b|指定集合a的內容為a和b的交集|\n",
        "|a.difference(b)|a-b|在集合a但不在集合b的元素|\n",
        "|a.difference_update(b)|a -= b|將集合a的內容指定為在集合a但在集合的元素|\n",
        "|a.symmetric_difference(b)|a ^b|在集合a和集合b中所有元素,而且不能同時存在|\n",
        "|a.symmetric_difference_update(b)|a ^=b|將集合a指定為集合a和集合b中所有元素,而且不能*同時*存在|\n",
        "|a.issubset(b)|N/A|如果集合a的所有元素,都包含在b中,回傳True|\n",
        "|a.issuperset(b)|N/A|如果集合b的所有元素,都包含在a中,回傳True|\n",
        "|a.isdisjoint(b)|N/A|如果集合a和集合b沒有重複元素,回傳True|\n"
      ],
      "metadata": {
        "id": "ljJfwXLwPQfz"
      }
    },
    {
      "cell_type": "code",
      "source": [
        "set([2,2,2,1,3,2])#可以去重複"
      ],
      "metadata": {
        "colab": {
          "base_uri": "https://localhost:8080/"
        },
        "id": "wYrccrSHPPQT",
        "outputId": "6988483a-9ac7-4e16-c4fc-bf33e9507acb"
      },
      "execution_count": null,
      "outputs": [
        {
          "output_type": "execute_result",
          "data": {
            "text/plain": [
              "{1, 2, 3}"
            ]
          },
          "metadata": {},
          "execution_count": 39
        }
      ]
    },
    {
      "cell_type": "code",
      "source": [
        "{2,2,2,1,3,3}"
      ],
      "metadata": {
        "colab": {
          "base_uri": "https://localhost:8080/"
        },
        "id": "VbSuavZ3PeTy",
        "outputId": "e3ef48b3-e4ca-44f6-d299-621fdbbb8006"
      },
      "execution_count": null,
      "outputs": [
        {
          "output_type": "execute_result",
          "data": {
            "text/plain": [
              "{1, 2, 3}"
            ]
          },
          "metadata": {},
          "execution_count": 40
        }
      ]
    },
    {
      "cell_type": "code",
      "source": [
        "a={1,2,2,4,5}\n",
        "b={3,4,5,6,7,8}"
      ],
      "metadata": {
        "id": "EJP0HWhRPjtS"
      },
      "execution_count": null,
      "outputs": []
    },
    {
      "cell_type": "code",
      "source": [
        "a.union(b)"
      ],
      "metadata": {
        "colab": {
          "base_uri": "https://localhost:8080/"
        },
        "id": "7hGc2LCkPtEx",
        "outputId": "2532998a-f243-42a6-a59b-18dcff1f5650"
      },
      "execution_count": null,
      "outputs": [
        {
          "output_type": "execute_result",
          "data": {
            "text/plain": [
              "{1, 2, 3, 4, 5, 6, 7, 8}"
            ]
          },
          "metadata": {},
          "execution_count": 42
        }
      ]
    },
    {
      "cell_type": "code",
      "source": [
        "a|b"
      ],
      "metadata": {
        "colab": {
          "base_uri": "https://localhost:8080/"
        },
        "id": "TYTHYbgwPwVU",
        "outputId": "5da7f9c0-e2f9-4d7e-8012-ba5c68dbbe96"
      },
      "execution_count": null,
      "outputs": [
        {
          "output_type": "execute_result",
          "data": {
            "text/plain": [
              "{1, 2, 3, 4, 5, 6, 7, 8}"
            ]
          },
          "metadata": {},
          "execution_count": 43
        }
      ]
    },
    {
      "cell_type": "code",
      "source": [
        "a.intersection(b)"
      ],
      "metadata": {
        "colab": {
          "base_uri": "https://localhost:8080/"
        },
        "id": "YSopq_L3PyYp",
        "outputId": "1bc0f398-b1c5-44e8-c325-29bfb2b2bd58"
      },
      "execution_count": null,
      "outputs": [
        {
          "output_type": "execute_result",
          "data": {
            "text/plain": [
              "{4, 5}"
            ]
          },
          "metadata": {},
          "execution_count": 44
        }
      ]
    },
    {
      "cell_type": "code",
      "source": [
        "a&b"
      ],
      "metadata": {
        "colab": {
          "base_uri": "https://localhost:8080/"
        },
        "id": "X89d95LlP2ee",
        "outputId": "9815dd36-8a48-4919-eca6-a784bec507f7"
      },
      "execution_count": null,
      "outputs": [
        {
          "output_type": "execute_result",
          "data": {
            "text/plain": [
              "{4, 5}"
            ]
          },
          "metadata": {},
          "execution_count": 46
        }
      ]
    },
    {
      "cell_type": "code",
      "source": [
        "c=a.copy()\n",
        "c|=b\n",
        "c"
      ],
      "metadata": {
        "colab": {
          "base_uri": "https://localhost:8080/"
        },
        "id": "z8Yk3jMbVb8X",
        "outputId": "3544e3b3-b4e5-44f2-b577-9583d748255c"
      },
      "execution_count": null,
      "outputs": [
        {
          "output_type": "execute_result",
          "data": {
            "text/plain": [
              "{1, 2, 3, 4, 5, 6, 7, 8}"
            ]
          },
          "metadata": {},
          "execution_count": 48
        }
      ]
    },
    {
      "cell_type": "code",
      "source": [
        "d=a.copy()\n",
        "d&=b\n",
        "d"
      ],
      "metadata": {
        "colab": {
          "base_uri": "https://localhost:8080/"
        },
        "id": "o1XVy92QVkxX",
        "outputId": "55c745a2-823e-4938-fd84-64d978530a6f"
      },
      "execution_count": null,
      "outputs": [
        {
          "output_type": "execute_result",
          "data": {
            "text/plain": [
              "{4, 5}"
            ]
          },
          "metadata": {},
          "execution_count": 49
        }
      ]
    },
    {
      "cell_type": "code",
      "source": [
        "my_data=[1,2,3,4]\n",
        "my_set={tuple(my_data)}\n",
        "my_set"
      ],
      "metadata": {
        "colab": {
          "base_uri": "https://localhost:8080/"
        },
        "id": "_LOkwE9-Vr5W",
        "outputId": "47a05922-fe2e-484f-99d8-318ba158e8dd"
      },
      "execution_count": null,
      "outputs": [
        {
          "output_type": "execute_result",
          "data": {
            "text/plain": [
              "{(1, 2, 3, 4)}"
            ]
          },
          "metadata": {},
          "execution_count": 50
        }
      ]
    },
    {
      "cell_type": "code",
      "source": [
        "a_set={1,2,3,4,5}\n",
        "{1,2,3}.issubset(a_set)        "
      ],
      "metadata": {
        "colab": {
          "base_uri": "https://localhost:8080/"
        },
        "id": "nNvP30jTV-lH",
        "outputId": "3813e5b3-833c-4c81-a3e9-f083989e1f7b"
      },
      "execution_count": null,
      "outputs": [
        {
          "output_type": "execute_result",
          "data": {
            "text/plain": [
              "True"
            ]
          },
          "metadata": {},
          "execution_count": 51
        }
      ]
    },
    {
      "cell_type": "code",
      "source": [
        "a_set.issuperset({1,2,3})"
      ],
      "metadata": {
        "colab": {
          "base_uri": "https://localhost:8080/"
        },
        "id": "wWVUhDBxWQ-w",
        "outputId": "736b8777-1f45-47ab-ec53-6e33456bf8a2"
      },
      "execution_count": null,
      "outputs": [
        {
          "output_type": "execute_result",
          "data": {
            "text/plain": [
              "True"
            ]
          },
          "metadata": {},
          "execution_count": 52
        }
      ]
    },
    {
      "cell_type": "code",
      "source": [
        "{1,2,3}=={3,2,1}"
      ],
      "metadata": {
        "colab": {
          "base_uri": "https://localhost:8080/"
        },
        "id": "QZuqKmDAWZBg",
        "outputId": "2f8c95d9-c5c2-4548-9315-5585e6ec24e0"
      },
      "execution_count": null,
      "outputs": [
        {
          "output_type": "execute_result",
          "data": {
            "text/plain": [
              "True"
            ]
          },
          "metadata": {},
          "execution_count": 53
        }
      ]
    },
    {
      "cell_type": "code",
      "source": [],
      "metadata": {
        "id": "rI__Pl55Wfkn"
      },
      "execution_count": null,
      "outputs": []
    },
    {
      "cell_type": "markdown",
      "source": [
        "#List Set 和Disct的包含式\n",
        "```python\n",
        "result=[]\n",
        "for valin collection:\n",
        "  if condition:\n",
        "    result.append(expr)\n",
        "```"
      ],
      "metadata": {
        "id": "i7VJYuOaWgRv"
      }
    },
    {
      "cell_type": "code",
      "source": [
        "strings = ['a','as','bat','dove','python']\n",
        "[x.upper() for x in strings if len(x)>2]"
      ],
      "metadata": {
        "colab": {
          "base_uri": "https://localhost:8080/"
        },
        "id": "XwozwqHbW1nw",
        "outputId": "b3f98b7b-2b26-4ce8-a800-e06defd609c3"
      },
      "execution_count": null,
      "outputs": [
        {
          "output_type": "execute_result",
          "data": {
            "text/plain": [
              "['BAT', 'DOVE', 'PYTHON']"
            ]
          },
          "metadata": {},
          "execution_count": 54
        }
      ]
    },
    {
      "cell_type": "code",
      "source": [
        "unique_lengths={len(x) for x in strings}\n",
        "unique_lengths"
      ],
      "metadata": {
        "colab": {
          "base_uri": "https://localhost:8080/"
        },
        "id": "EI1_t1aAYJNR",
        "outputId": "e88d6dea-62fb-4205-8ebc-aeea9b098bd3"
      },
      "execution_count": null,
      "outputs": [
        {
          "output_type": "execute_result",
          "data": {
            "text/plain": [
              "{1, 2, 3, 4, 6}"
            ]
          },
          "metadata": {},
          "execution_count": 55
        }
      ]
    },
    {
      "cell_type": "code",
      "source": [
        "set(map(len,strings))"
      ],
      "metadata": {
        "colab": {
          "base_uri": "https://localhost:8080/"
        },
        "id": "FldAwHDhZ--U",
        "outputId": "a3d4485c-fc83-4424-c292-4f2bc8216cb2"
      },
      "execution_count": null,
      "outputs": [
        {
          "output_type": "execute_result",
          "data": {
            "text/plain": [
              "{1, 2, 3, 4, 6}"
            ]
          },
          "metadata": {},
          "execution_count": 56
        }
      ]
    },
    {
      "cell_type": "code",
      "source": [
        "loc_mapping={val : index for index , val in enumerate(strings)}\n",
        "loc_mapping"
      ],
      "metadata": {
        "colab": {
          "base_uri": "https://localhost:8080/"
        },
        "id": "8sRFW7vuaKJv",
        "outputId": "01f7aa19-e825-4bc6-ccf7-ca7b0172e16b"
      },
      "execution_count": null,
      "outputs": [
        {
          "output_type": "execute_result",
          "data": {
            "text/plain": [
              "{'a': 0, 'as': 1, 'bat': 2, 'dove': 3, 'python': 4}"
            ]
          },
          "metadata": {},
          "execution_count": 58
        }
      ]
    },
    {
      "cell_type": "markdown",
      "source": [
        "# 巢式list 包含式\n"
      ],
      "metadata": {
        "id": "0PiLVciPaejO"
      }
    },
    {
      "cell_type": "code",
      "source": [
        "all_data=[['John','Emily','Michael','Mary','Steven'],['Maria','Juan','Javier','Natalia','Pilar']]"
      ],
      "metadata": {
        "id": "4GN1wuhHbII-"
      },
      "execution_count": null,
      "outputs": []
    },
    {
      "cell_type": "code",
      "source": [
        "name_of_interest=[]\n",
        "for names in all_data:\n",
        "  enough_es=[name for name in names if name.count('e')>=2]\n",
        "  name_of_interest.extend(enough_es)"
      ],
      "metadata": {
        "id": "O_35wY72bW47"
      },
      "execution_count": null,
      "outputs": []
    },
    {
      "cell_type": "code",
      "source": [
        "result=[name for names in all_data for name in names if name.count('e')>=2]\n",
        "result"
      ],
      "metadata": {
        "colab": {
          "base_uri": "https://localhost:8080/"
        },
        "id": "2aPn7WUSmTUC",
        "outputId": "fee1fd3e-61b0-4268-bc67-64ae7fa9e113"
      },
      "execution_count": null,
      "outputs": [
        {
          "output_type": "execute_result",
          "data": {
            "text/plain": [
              "['Steven']"
            ]
          },
          "metadata": {},
          "execution_count": 63
        }
      ]
    },
    {
      "cell_type": "code",
      "source": [
        "some_tuples={(1,2,3),(4,5,6),(7,8,9)}\n",
        "flattened = [x for tup in some_tuples for x in tup]\n",
        "flattened"
      ],
      "metadata": {
        "colab": {
          "base_uri": "https://localhost:8080/"
        },
        "id": "0SaMtA0FmowA",
        "outputId": "f9c7ba70-9ecd-41b0-ce0d-542f594569b5"
      },
      "execution_count": null,
      "outputs": [
        {
          "output_type": "execute_result",
          "data": {
            "text/plain": [
              "[7, 8, 9, 1, 2, 3, 4, 5, 6]"
            ]
          },
          "metadata": {},
          "execution_count": 67
        }
      ]
    },
    {
      "cell_type": "code",
      "source": [
        "flattened = []\n",
        "for tup in some_tuples:\n",
        "  for x in tup:\n",
        "    flattened.append(x)"
      ],
      "metadata": {
        "id": "Vu1yQquwnMjk"
      },
      "execution_count": null,
      "outputs": []
    },
    {
      "cell_type": "code",
      "source": [
        "[[x for x in tup] for tup in some_tuples]"
      ],
      "metadata": {
        "colab": {
          "base_uri": "https://localhost:8080/"
        },
        "id": "pGarFbAhnfBv",
        "outputId": "bb2b864d-97e4-4391-bcd6-5b91131cd8f4"
      },
      "execution_count": null,
      "outputs": [
        {
          "output_type": "execute_result",
          "data": {
            "text/plain": [
              "[[7, 8, 9], [1, 2, 3], [4, 5, 6]]"
            ]
          },
          "metadata": {},
          "execution_count": 70
        }
      ]
    },
    {
      "cell_type": "markdown",
      "source": [
        "# 函式"
      ],
      "metadata": {
        "id": "kjakN-Sjn1qF"
      }
    },
    {
      "cell_type": "code",
      "source": [
        "def my_function(x,y,z=1.5):\n",
        "  if z>1:\n",
        "    return z*(x+y)\n",
        "  else:\n",
        "    return z/(x+y)"
      ],
      "metadata": {
        "id": "pEtaLUR6nw0P"
      },
      "execution_count": null,
      "outputs": []
    },
    {
      "cell_type": "code",
      "source": [
        "my_function(5,6,z=0.7)"
      ],
      "metadata": {
        "colab": {
          "base_uri": "https://localhost:8080/"
        },
        "id": "iHO0o4mdoNEr",
        "outputId": "e3d654d5-2390-4ae5-be52-f38d918d0278"
      },
      "execution_count": null,
      "outputs": [
        {
          "output_type": "execute_result",
          "data": {
            "text/plain": [
              "0.06363636363636363"
            ]
          },
          "metadata": {},
          "execution_count": 73
        }
      ]
    },
    {
      "cell_type": "code",
      "source": [
        "my_function(3.14,7,3.5)"
      ],
      "metadata": {
        "colab": {
          "base_uri": "https://localhost:8080/"
        },
        "id": "sEw_6qVfoSr1",
        "outputId": "2a22d656-f589-46ea-9bd1-9a930fb1eaa7"
      },
      "execution_count": null,
      "outputs": [
        {
          "output_type": "execute_result",
          "data": {
            "text/plain": [
              "35.49"
            ]
          },
          "metadata": {},
          "execution_count": 74
        }
      ]
    },
    {
      "cell_type": "code",
      "source": [
        "print(my_function(10,20))\n",
        "print(my_function(10,20,1.5))"
      ],
      "metadata": {
        "colab": {
          "base_uri": "https://localhost:8080/"
        },
        "id": "IFiqI_LNoZSV",
        "outputId": "920c598b-c779-4826-b8dd-f2beedecc7d1"
      },
      "execution_count": null,
      "outputs": [
        {
          "output_type": "stream",
          "name": "stdout",
          "text": [
            "45.0\n",
            "45.0\n"
          ]
        }
      ]
    },
    {
      "cell_type": "markdown",
      "source": [
        "# 名稱空間可視範圍和本地函式\n",
        "\n"
      ],
      "metadata": {
        "id": "U0Eq4ChtolQ2"
      }
    },
    {
      "cell_type": "code",
      "source": [
        "def func():\n",
        "  a=[]\n",
        "  for i in range(5):\n",
        "    a.append(i)\n"
      ],
      "metadata": {
        "id": "R2O59wUsojbe"
      },
      "execution_count": null,
      "outputs": []
    },
    {
      "cell_type": "code",
      "source": [
        "a=[]\n",
        "def func():\n",
        "  for i in range(5):\n",
        "    a.append(i)"
      ],
      "metadata": {
        "id": "UZ7vI5RCpOaz"
      },
      "execution_count": null,
      "outputs": []
    },
    {
      "cell_type": "code",
      "source": [
        "#a=None\n",
        "a='I am an idol'\n",
        "def bind_a_variable():\n",
        "  global a#但不建議一直使用全域變數\n",
        "  a=['想太多']\n",
        "bind_a_variable()\n",
        "print(a)"
      ],
      "metadata": {
        "colab": {
          "base_uri": "https://localhost:8080/"
        },
        "id": "y6CcmfClpVeW",
        "outputId": "d502af1b-0af2-4b19-bad7-cda5c84c793a"
      },
      "execution_count": null,
      "outputs": [
        {
          "output_type": "stream",
          "name": "stdout",
          "text": [
            "['想太多']\n"
          ]
        }
      ]
    },
    {
      "cell_type": "markdown",
      "source": [
        "# 多值回傳值"
      ],
      "metadata": {
        "id": "Xa_0mvJCqfAs"
      }
    },
    {
      "cell_type": "code",
      "source": [
        "def f():\n",
        "  a=5\n",
        "  b=6\n",
        "  c=7\n",
        "  return a,b,c\n",
        "a,b,c =f()\n",
        "\n",
        "reurn_value=f()\n",
        "reurn_value"
      ],
      "metadata": {
        "colab": {
          "base_uri": "https://localhost:8080/"
        },
        "id": "tun36RcaqRcO",
        "outputId": "a9c1d399-9387-494d-aab5-bcf5121f45b1"
      },
      "execution_count": null,
      "outputs": [
        {
          "output_type": "execute_result",
          "data": {
            "text/plain": [
              "(5, 6, 7)"
            ]
          },
          "metadata": {},
          "execution_count": 89
        }
      ]
    },
    {
      "cell_type": "code",
      "source": [
        "reurn_value=f()\n",
        "def f():\n",
        "  a=5\n",
        "  b=6\n",
        "  c=7\n",
        "  return {'a':a,'b':b,'c':c}\n",
        "\n",
        "f()"
      ],
      "metadata": {
        "colab": {
          "base_uri": "https://localhost:8080/"
        },
        "id": "or5F_Oakp9fB",
        "outputId": "babd0b8b-3faa-416e-b079-3e5cbeaa7642"
      },
      "execution_count": null,
      "outputs": [
        {
          "output_type": "execute_result",
          "data": {
            "text/plain": [
              "{'a': 5, 'b': 6, 'c': 7}"
            ]
          },
          "metadata": {},
          "execution_count": 90
        }
      ]
    },
    {
      "cell_type": "markdown",
      "source": [
        "#函式即物件"
      ],
      "metadata": {
        "id": "rFfjRzDoNxSX"
      }
    },
    {
      "cell_type": "code",
      "source": [
        "state=['Alanama','Georgia!','Georgia','geoegia','FlOrIda','south carolina##','West virginia?']"
      ],
      "metadata": {
        "id": "XXdCNkqJN60k"
      },
      "execution_count": 1,
      "outputs": []
    },
    {
      "cell_type": "code",
      "source": [
        "import re\n",
        "def clean_strings(strings):\n",
        "  result = []\n",
        "  for value in strings:\n",
        "    value = value.strip()\n",
        "    value = re.sub('[!#?]','',value)\n",
        "    value = value.title()\n",
        "    result.append(value)\n",
        "  return result"
      ],
      "metadata": {
        "id": "tro3sfCwOjep"
      },
      "execution_count": 7,
      "outputs": []
    },
    {
      "cell_type": "code",
      "source": [
        "clean_strings(state)"
      ],
      "metadata": {
        "colab": {
          "base_uri": "https://localhost:8080/"
        },
        "id": "l8t0b_XRPMbP",
        "outputId": "5a107d11-2b60-49f7-bbb2-d09ff1a4f740"
      },
      "execution_count": 8,
      "outputs": [
        {
          "output_type": "execute_result",
          "data": {
            "text/plain": [
              "['Alanama',\n",
              " 'Georgia',\n",
              " 'Georgia',\n",
              " 'Geoegia',\n",
              " 'Florida',\n",
              " 'South Carolina',\n",
              " 'West Virginia']"
            ]
          },
          "metadata": {},
          "execution_count": 8
        }
      ]
    },
    {
      "cell_type": "code",
      "source": [
        "#另外一種方法\n",
        "def remove_punctuation(value):\n",
        "  return re.sub('[!#?]','',value)\n",
        "clean_ops = [str.strip,remove_punctuation,str.title]\n",
        "\n",
        "def clean_strings(strings,ops):\n",
        "  result=[]\n",
        "  for value in strings:\n",
        "    for function in ops:\n",
        "      value = function(value)\n",
        "    result.append(value)\n",
        "  return result\n",
        "clean_strings(state,clean_ops)\n"
      ],
      "metadata": {
        "colab": {
          "base_uri": "https://localhost:8080/"
        },
        "id": "73BfhtQNPhz9",
        "outputId": "0f17f521-a129-40cf-cc4e-923ddc35b770"
      },
      "execution_count": 11,
      "outputs": [
        {
          "output_type": "execute_result",
          "data": {
            "text/plain": [
              "['Alanama',\n",
              " 'Georgia',\n",
              " 'Georgia',\n",
              " 'Geoegia',\n",
              " 'Florida',\n",
              " 'South Carolina',\n",
              " 'West Virginia']"
            ]
          },
          "metadata": {},
          "execution_count": 11
        }
      ]
    },
    {
      "cell_type": "code",
      "source": [
        "#另一種方法 map可以直接套用到序列上\n",
        "for x in map(remove_punctuation,state):\n",
        "  print(x)"
      ],
      "metadata": {
        "colab": {
          "base_uri": "https://localhost:8080/"
        },
        "id": "SCpRDpoJRXsT",
        "outputId": "3a694e9b-f150-4587-b7f2-1d04fb34345e"
      },
      "execution_count": 13,
      "outputs": [
        {
          "output_type": "stream",
          "name": "stdout",
          "text": [
            "Alanama\n",
            "Georgia\n",
            "Georgia\n",
            "geoegia\n",
            "FlOrIda\n",
            "south carolina\n",
            "West virginia\n"
          ]
        }
      ]
    },
    {
      "cell_type": "markdown",
      "source": [
        "#匿名lambda函式\n",
        "* 以lambda來宣告"
      ],
      "metadata": {
        "id": "ktKRVXNySBlk"
      }
    },
    {
      "cell_type": "code",
      "source": [
        "def short_function(x):\n",
        "  return x * 2\n",
        "equiv_anon = lambda x : x * 2"
      ],
      "metadata": {
        "id": "FDoADwNTSBBA"
      },
      "execution_count": 14,
      "outputs": []
    },
    {
      "cell_type": "code",
      "source": [
        "def  apply_to_list(some_list,f):\n",
        "  return [f(x) for x in some_list]\n",
        "\n",
        "ints=[4,0,1,5,3]\n",
        "apply_to_list(ints,lambda x: x * 2)"
      ],
      "metadata": {
        "colab": {
          "base_uri": "https://localhost:8080/"
        },
        "id": "eiWt77iNR3e8",
        "outputId": "600249c8-f11f-4771-e17e-13f29af7d347"
      },
      "execution_count": 16,
      "outputs": [
        {
          "output_type": "execute_result",
          "data": {
            "text/plain": [
              "[8, 0, 2, 10, 6]"
            ]
          },
          "metadata": {},
          "execution_count": 16
        }
      ]
    },
    {
      "cell_type": "code",
      "source": [
        "strings = ['foo','card','bar','aaaa','abab']\n",
        "strings.sort(key=lambda x:len(set(list(x))))\n",
        "strings"
      ],
      "metadata": {
        "colab": {
          "base_uri": "https://localhost:8080/"
        },
        "id": "nyK79pAKTVfQ",
        "outputId": "de244fdb-6bbe-45ef-f050-c28fcf2345b4"
      },
      "execution_count": 17,
      "outputs": [
        {
          "output_type": "execute_result",
          "data": {
            "text/plain": [
              "['aaaa', 'foo', 'abab', 'bar', 'card']"
            ]
          },
          "metadata": {},
          "execution_count": 17
        }
      ]
    },
    {
      "cell_type": "markdown",
      "source": [
        "# 柯里化:只給部分參數"
      ],
      "metadata": {
        "id": "q3_SAzGVTzrI"
      }
    },
    {
      "cell_type": "code",
      "source": [
        "def add_numbers(x,y):\n",
        "  return x+y\n",
        "add_five =lambda y: add_numbers(5,y)"
      ],
      "metadata": {
        "id": "gpg3UReATyKJ"
      },
      "execution_count": 20,
      "outputs": []
    },
    {
      "cell_type": "code",
      "source": [
        "#利用partial 簡化流程，因為只有一個參數要給定(類似 維機分的邊際xy求單一的感覺)\n",
        "from functools import partial\n",
        "add_five = partial(add_numbers,5)\n",
        "add_five(8)"
      ],
      "metadata": {
        "colab": {
          "base_uri": "https://localhost:8080/"
        },
        "id": "gR83B_S2UNHg",
        "outputId": "f402fe19-9195-4074-e63e-b2e3f8e1ff57"
      },
      "execution_count": 22,
      "outputs": [
        {
          "output_type": "execute_result",
          "data": {
            "text/plain": [
              "13"
            ]
          },
          "metadata": {},
          "execution_count": 22
        }
      ]
    },
    {
      "cell_type": "markdown",
      "source": [
        "# 產生器"
      ],
      "metadata": {
        "id": "aZv3P6FfUsvW"
      }
    },
    {
      "cell_type": "code",
      "source": [
        "some_dict = {'a':1,'b':2,'c':3}\n",
        "for key in some_dict:\n",
        "  print(key)"
      ],
      "metadata": {
        "colab": {
          "base_uri": "https://localhost:8080/"
        },
        "id": "pdKbJZTMUr4l",
        "outputId": "b3b7ea11-884d-438d-f5a6-4e7b55a43f20"
      },
      "execution_count": 25,
      "outputs": [
        {
          "output_type": "stream",
          "name": "stdout",
          "text": [
            "a\n",
            "b\n",
            "c\n"
          ]
        }
      ]
    },
    {
      "cell_type": "code",
      "source": [
        "dict_iterator = iter(some_dict)\n",
        "#寫出for key in some_dict:\n",
        "#  print(key) #Python#直譯器會是圖臥some_dict 建立一個疊代器\n",
        "dict_iterator"
      ],
      "metadata": {
        "colab": {
          "base_uri": "https://localhost:8080/"
        },
        "id": "4Tu5PvPSVkXb",
        "outputId": "4df687ec-e7af-486d-a44d-9041a6f6f3a4"
      },
      "execution_count": 26,
      "outputs": [
        {
          "output_type": "execute_result",
          "data": {
            "text/plain": [
              "<dict_keyiterator at 0x7ff70b2926d0>"
            ]
          },
          "metadata": {},
          "execution_count": 26
        }
      ]
    },
    {
      "cell_type": "code",
      "source": [
        "list(dict_iterator)"
      ],
      "metadata": {
        "colab": {
          "base_uri": "https://localhost:8080/"
        },
        "id": "KkDpqtJSV1sf",
        "outputId": "4b1ba427-166e-43a0-a3fe-4e4ec02a0cda"
      },
      "execution_count": 27,
      "outputs": [
        {
          "output_type": "execute_result",
          "data": {
            "text/plain": [
              "['a', 'b', 'c']"
            ]
          },
          "metadata": {},
          "execution_count": 27
        }
      ]
    },
    {
      "cell_type": "code",
      "source": [
        "def squares(n=10):\n",
        "  print('Generating squares from 1 to {0}'.format(n**2))\n",
        "  for i in range(1,n+1):\n",
        "    yield i**2"
      ],
      "metadata": {
        "id": "iH8luYDDWYz5"
      },
      "execution_count": 28,
      "outputs": []
    },
    {
      "cell_type": "code",
      "source": [
        "gen=squares()\n",
        "gen\n",
        "#直接叫產生器是沒有反應"
      ],
      "metadata": {
        "colab": {
          "base_uri": "https://localhost:8080/"
        },
        "id": "lQzYkDhDW_EE",
        "outputId": "8457e383-a9a8-46e0-ec51-5f6f086ae82f"
      },
      "execution_count": 29,
      "outputs": [
        {
          "output_type": "execute_result",
          "data": {
            "text/plain": [
              "<generator object squares at 0x7ff70b29ef20>"
            ]
          },
          "metadata": {},
          "execution_count": 29
        }
      ]
    },
    {
      "cell_type": "code",
      "source": [
        "#直到你向產生器要求元素，他才會開始執行程式\n",
        "for x in gen:\n",
        "  print(x,end=' ')"
      ],
      "metadata": {
        "colab": {
          "base_uri": "https://localhost:8080/"
        },
        "id": "6iHjxkU3W_Jk",
        "outputId": "1b1c72a8-6c5f-4b3c-de75-f2cdd8f4684e"
      },
      "execution_count": 30,
      "outputs": [
        {
          "output_type": "stream",
          "name": "stdout",
          "text": [
            "Generating squares from 1 to 100\n",
            "1 4 9 16 25 36 49 64 81 100 "
          ]
        }
      ]
    },
    {
      "cell_type": "markdown",
      "source": [
        "# 產生器造句"
      ],
      "metadata": {
        "id": "-spc0ldWXiro"
      }
    },
    {
      "cell_type": "code",
      "source": [
        "gen=(x**2 for x in range(100))\n",
        "gen"
      ],
      "metadata": {
        "colab": {
          "base_uri": "https://localhost:8080/"
        },
        "id": "lMixoFndXgTU",
        "outputId": "ef97ad34-23ac-4d5b-92af-125ae1613ac7"
      },
      "execution_count": 35,
      "outputs": [
        {
          "output_type": "execute_result",
          "data": {
            "text/plain": [
              "<generator object <genexpr> at 0x7ff70b2a1200>"
            ]
          },
          "metadata": {},
          "execution_count": 35
        }
      ]
    },
    {
      "cell_type": "code",
      "source": [
        "def _make_gen():\n",
        "  for x in range(100):\n",
        "    yield x**2\n",
        "gen=_make_gen()"
      ],
      "metadata": {
        "id": "iDodhUTgXwgi"
      },
      "execution_count": 38,
      "outputs": []
    },
    {
      "cell_type": "code",
      "source": [
        "sum(x**2 for x in range(100))"
      ],
      "metadata": {
        "colab": {
          "base_uri": "https://localhost:8080/"
        },
        "id": "jdRbW5hiYK-R",
        "outputId": "48d9cfe3-8f09-4104-ee8a-a1aff7dd3207"
      },
      "execution_count": 40,
      "outputs": [
        {
          "output_type": "execute_result",
          "data": {
            "text/plain": [
              "328350"
            ]
          },
          "metadata": {},
          "execution_count": 40
        }
      ]
    },
    {
      "cell_type": "code",
      "source": [
        "dict((i,i**2) for i in range(5))"
      ],
      "metadata": {
        "colab": {
          "base_uri": "https://localhost:8080/"
        },
        "id": "xQEpYEjHYR2I",
        "outputId": "51d17626-db7e-4000-e4ca-fb00522e74a3"
      },
      "execution_count": 41,
      "outputs": [
        {
          "output_type": "execute_result",
          "data": {
            "text/plain": [
              "{0: 0, 1: 1, 2: 4, 3: 9, 4: 16}"
            ]
          },
          "metadata": {},
          "execution_count": 41
        }
      ]
    },
    {
      "cell_type": "markdown",
      "source": [
        "# itertools 模組\n",
        "\n",
        "| ✨函式  | 🐤描述 |\n",
        "| ------------- |:-------------:|\n",
        "|combinations(iterable, k)|產生所有元素可能的k-tuple到疊代變數中,忽略次序也不進行置換(也看看同類的函式combinations_with_repacement)|\n",
        "|permutations(iterable, k)|產生所有元素可能的k-tuple到疊代變數中,依原次序|\n",
        "|groupby(iterable[, keyfunc])|為每個唯一鍵生成(key,sub-iterator)|\n",
        "|product(*iterables, repeat=1)|為輸入的疊代變數生成笛卡兒積tuple,類似巢式for迴圈|"
      ],
      "metadata": {
        "id": "O9dneeAkYirR"
      }
    },
    {
      "cell_type": "code",
      "source": [],
      "metadata": {
        "id": "SspBblfAd1Hf"
      },
      "execution_count": null,
      "outputs": []
    },
    {
      "cell_type": "code",
      "source": [
        "import itertools\n",
        "first_letter =lambda x: x[0]\n",
        "names = ['Alan','Adam','Wes','Will','Albert','Steven']\n",
        "for letter,names in itertools.groupby(names,first_letter):\n",
        "  print(letter,list(names))#names是一個產生器"
      ],
      "metadata": {
        "colab": {
          "base_uri": "https://localhost:8080/"
        },
        "id": "MLmdYcfNYhFW",
        "outputId": "c40cffd3-3cce-48de-b247-7f7ae451d97c"
      },
      "execution_count": 43,
      "outputs": [
        {
          "output_type": "stream",
          "name": "stdout",
          "text": [
            "A ['Alan', 'Adam']\n",
            "W ['Wes', 'Will']\n",
            "A ['Albert']\n",
            "S ['Steven']\n"
          ]
        }
      ]
    },
    {
      "cell_type": "markdown",
      "source": [
        "# 錯誤及例外處理"
      ],
      "metadata": {
        "id": "AJm-_ZLhgi8q"
      }
    },
    {
      "cell_type": "markdown",
      "source": [
        " float('1.2345')"
      ],
      "metadata": {
        "id": "7UVKOyrwZjO5"
      }
    },
    {
      "cell_type": "code",
      "source": [
        "#float('something')不希望程式當他是error"
      ],
      "metadata": {
        "id": "hYIFeQjOg4Ln"
      },
      "execution_count": null,
      "outputs": []
    },
    {
      "cell_type": "code",
      "source": [
        "def attempt_float(x):\n",
        "  try:\n",
        "    return float(x)\n",
        "  except:\n",
        "    return x\n",
        "\n",
        "attempt_float('1.2345')"
      ],
      "metadata": {
        "colab": {
          "base_uri": "https://localhost:8080/"
        },
        "id": "QdKnP51MhPE1",
        "outputId": "eec48e4d-53df-4212-8f1f-64af1ad6838e"
      },
      "execution_count": 46,
      "outputs": [
        {
          "output_type": "execute_result",
          "data": {
            "text/plain": [
              "1.2345"
            ]
          },
          "metadata": {},
          "execution_count": 46
        }
      ]
    },
    {
      "cell_type": "code",
      "source": [
        "attempt_float('something')"
      ],
      "metadata": {
        "colab": {
          "base_uri": "https://localhost:8080/",
          "height": 36
        },
        "id": "oXQdkKkRhk3Z",
        "outputId": "568a996d-3ebb-4b68-e34c-084889903c7f"
      },
      "execution_count": 47,
      "outputs": [
        {
          "output_type": "execute_result",
          "data": {
            "text/plain": [
              "'something'"
            ],
            "application/vnd.google.colaboratory.intrinsic+json": {
              "type": "string"
            }
          },
          "metadata": {},
          "execution_count": 47
        }
      ]
    },
    {
      "cell_type": "code",
      "source": [
        "#可是這樣你消除了error但不知道為什麼\n",
        "#調整 類似r trycatch\n",
        "def attempt_float(x):\n",
        "  try:\n",
        "    return float(x)\n",
        "  except ValueError:\n",
        "    return x\n",
        "#attempt_float((1,2))"
      ],
      "metadata": {
        "id": "meQ5rVeYhylM"
      },
      "execution_count": 50,
      "outputs": []
    },
    {
      "cell_type": "code",
      "source": [
        "def attempt_float(x):\n",
        "  try:\n",
        "    return float(x)\n",
        "  except (TypeError,ValueError):\n",
        "    return x"
      ],
      "metadata": {
        "id": "ZyIvlFCjiklG"
      },
      "execution_count": 51,
      "outputs": []
    },
    {
      "cell_type": "markdown",
      "source": [
        "* 其他如匯入檔案時\n",
        "```python\n",
        "f=open(path,'w')\n",
        "try:\n",
        "  write_to_file\n",
        "finally:\n",
        "  f.close()\n",
        "```\n",
        "```python\n",
        "f=open(path,'w')\n",
        "try:\n",
        "  write_to_file\n",
        "except:  \n",
        "  print('failed')  \n",
        "else:\n",
        "  print('Succeeded')\n",
        "finally:\n",
        "  f.close()\n",
        "```"
      ],
      "metadata": {
        "id": "QIL7WfZDizGY"
      }
    },
    {
      "cell_type": "code",
      "source": [
        "path='/content/drive/MyDrive/統計理論/統計理論111-hw assignment.txt'\n",
        "f=open(path)"
      ],
      "metadata": {
        "id": "8GWu4zvyjtbJ"
      },
      "execution_count": 52,
      "outputs": []
    },
    {
      "cell_type": "code",
      "source": [
        "for line in f:\n",
        "  pass"
      ],
      "metadata": {
        "id": "WW7KpGWVkL_7"
      },
      "execution_count": 53,
      "outputs": []
    },
    {
      "cell_type": "code",
      "source": [
        "lines=[x.rstrip() for x in open(path)]\n",
        "lines"
      ],
      "metadata": {
        "colab": {
          "base_uri": "https://localhost:8080/"
        },
        "id": "gVTuw-aHkV5Y",
        "outputId": "e97f9ba5-b88b-4d3d-a557-40d34ba093cb"
      },
      "execution_count": 54,
      "outputs": [
        {
          "output_type": "execute_result",
          "data": {
            "text/plain": [
              "['Chapter 1',\n",
              " '7, 10, 27, 34, 43, 47, 52, 53, 55',\n",
              " '',\n",
              " 'Chapter 2',\n",
              " '(1)1, 3,  8,  (2)11, 17, 18, 22, 28, (3)33,  36',\n",
              " '',\n",
              " 'Chapter 3',\n",
              " '(4)3, 15, 19**** 23, 26, 28, 31, 33, 37, 46',\n",
              " '',\n",
              " 'Chapter 4',\n",
              " '1, 5, 16, 18, 20, 27, 32',\n",
              " '',\n",
              " '',\n",
              " 'Chapter 5',\n",
              " '(1)1,5, 7, (2)15, 17, (3)23, 27 (4)29,35',\n",
              " '',\n",
              " 'Chapter 6',\n",
              " '2, 3, 4, 9, 10, 11, 20, 23',\n",
              " '',\n",
              " 'Chapter 7',\n",
              " '9, 11, 13, 15(a), 19, 24, 27, 47']"
            ]
          },
          "metadata": {},
          "execution_count": 54
        }
      ]
    },
    {
      "cell_type": "code",
      "source": [
        "#open後 當你用完一定要關掉很重要 不然他會占用資源這跟sas一樣討厭\n",
        "f.close()"
      ],
      "metadata": {
        "id": "g0QNZwo5kkIq"
      },
      "execution_count": 56,
      "outputs": []
    },
    {
      "cell_type": "code",
      "source": [
        "#另外解決方案\n",
        "with open(path) as f:\n",
        "  lines=[x.rstrip() for x in f]\n",
        "\n",
        "f"
      ],
      "metadata": {
        "colab": {
          "base_uri": "https://localhost:8080/"
        },
        "id": "8rKlv_rwk8DI",
        "outputId": "5103a133-8636-4086-b273-b2255b5e1ff9"
      },
      "execution_count": 60,
      "outputs": [
        {
          "output_type": "execute_result",
          "data": {
            "text/plain": [
              "<_io.TextIOWrapper name='/content/drive/MyDrive/統計理論/統計理論111-hw assignment.txt' mode='r' encoding='UTF-8'>"
            ]
          },
          "metadata": {},
          "execution_count": 60
        }
      ]
    },
    {
      "cell_type": "code",
      "source": [
        "f=open(path)\n",
        "f.read(10)"
      ],
      "metadata": {
        "colab": {
          "base_uri": "https://localhost:8080/",
          "height": 36
        },
        "id": "AohU-AMAli8p",
        "outputId": "dda6a76e-365a-4bf0-a3fb-2d444f967ac4"
      },
      "execution_count": 61,
      "outputs": [
        {
          "output_type": "execute_result",
          "data": {
            "text/plain": [
              "'Chapter 1\\n'"
            ],
            "application/vnd.google.colaboratory.intrinsic+json": {
              "type": "string"
            }
          },
          "metadata": {},
          "execution_count": 61
        }
      ]
    },
    {
      "cell_type": "code",
      "source": [
        "f2=open(path,'rb')#二進位\n",
        "f2.read(10)"
      ],
      "metadata": {
        "colab": {
          "base_uri": "https://localhost:8080/"
        },
        "id": "Z9lpgcXultgw",
        "outputId": "28c40814-79e3-4840-8e5e-fe03a7156821"
      },
      "execution_count": 63,
      "outputs": [
        {
          "output_type": "execute_result",
          "data": {
            "text/plain": [
              "b'Chapter 1\\r'"
            ]
          },
          "metadata": {},
          "execution_count": 63
        }
      ]
    },
    {
      "cell_type": "code",
      "source": [
        "f.tell()"
      ],
      "metadata": {
        "colab": {
          "base_uri": "https://localhost:8080/"
        },
        "id": "4TDsFh37l_yX",
        "outputId": "872c6894-5479-47e9-da64-67f3ceda6a39"
      },
      "execution_count": 64,
      "outputs": [
        {
          "output_type": "execute_result",
          "data": {
            "text/plain": [
              "11"
            ]
          },
          "metadata": {},
          "execution_count": 64
        }
      ]
    },
    {
      "cell_type": "code",
      "source": [
        "f2.tell()"
      ],
      "metadata": {
        "colab": {
          "base_uri": "https://localhost:8080/"
        },
        "id": "7MgCtlxmmcme",
        "outputId": "217fdb21-3b6b-4392-9854-ddf1d7e3c27c"
      },
      "execution_count": 65,
      "outputs": [
        {
          "output_type": "execute_result",
          "data": {
            "text/plain": [
              "10"
            ]
          },
          "metadata": {},
          "execution_count": 65
        }
      ]
    },
    {
      "cell_type": "code",
      "source": [
        "import sys\n",
        "sys.getdefaultencoding()"
      ],
      "metadata": {
        "colab": {
          "base_uri": "https://localhost:8080/",
          "height": 36
        },
        "id": "WMtd3333mfiU",
        "outputId": "fec0bfb2-bb6d-4464-b358-c5ff9556ff97"
      },
      "execution_count": 67,
      "outputs": [
        {
          "output_type": "execute_result",
          "data": {
            "text/plain": [
              "'utf-8'"
            ],
            "application/vnd.google.colaboratory.intrinsic+json": {
              "type": "string"
            }
          },
          "metadata": {},
          "execution_count": 67
        }
      ]
    },
    {
      "cell_type": "code",
      "source": [
        "f.seek(3)#seek可以改變檔案以位元為單位的檔案位置"
      ],
      "metadata": {
        "colab": {
          "base_uri": "https://localhost:8080/"
        },
        "id": "6wX0NIUQmvOB",
        "outputId": "e71a45aa-7eea-4389-c905-5833bf393ce6"
      },
      "execution_count": 68,
      "outputs": [
        {
          "output_type": "execute_result",
          "data": {
            "text/plain": [
              "3"
            ]
          },
          "metadata": {},
          "execution_count": 68
        }
      ]
    },
    {
      "cell_type": "code",
      "source": [
        "f.read(1)"
      ],
      "metadata": {
        "colab": {
          "base_uri": "https://localhost:8080/",
          "height": 36
        },
        "id": "aoe69VLCmypR",
        "outputId": "b2a4cf00-9e03-4ae8-fad0-90ea9f74e38b"
      },
      "execution_count": 69,
      "outputs": [
        {
          "output_type": "execute_result",
          "data": {
            "text/plain": [
              "'p'"
            ],
            "application/vnd.google.colaboratory.intrinsic+json": {
              "type": "string"
            }
          },
          "metadata": {},
          "execution_count": 69
        }
      ]
    },
    {
      "cell_type": "code",
      "source": [
        "f.close()"
      ],
      "metadata": {
        "id": "ZRptNnynnM2R"
      },
      "execution_count": 71,
      "outputs": []
    },
    {
      "cell_type": "code",
      "source": [
        "f2.close()#end"
      ],
      "metadata": {
        "id": "pkEzNr22nO36"
      },
      "execution_count": 73,
      "outputs": []
    },
    {
      "cell_type": "markdown",
      "source": [
        "# Python檔案模式 \n",
        "\n",
        "| ✨函式  | 🐤描述 |\n",
        "| ------------- |:-------------:|\n",
        "|r|唯讀模式|\n",
        "|w|只能寫模式;建立新檔(消除同名檔案的任何資料)|\n",
        "|x|只能寫模式;建立新檔,如果檔案已存在則失敗|\n",
        "|a|既存檔案後面增加新資料(檔案不存在則建立新檔)|\n",
        "|r+|讀和寫|\n",
        "|b|二進位檔案標示,加在其他模式後面(如'rb或'wb')|\n",
        "|t|文字模式(自動地解碼為Unicode)如果沒有指定的話,此項為預設模式。可將t加到其他的模式使用(例如:'rt'或'xt')|\n",
        "\n",
        "# Python檔案方法屬性\n",
        "| ✨方法  | 🐤屬性 |\n",
        "| ------------- |:-------------:|\n",
        "|read([size])|檔案中資料字串回傳，可選擇輸入size參數，指定要讀多少位元組|\n",
        "|readlines([size])|回傳檔案中多行，可選擇輸入size參數|\n",
        "|write(str)|將傳入的字串寫到檔案|\n",
        "|writelines(strings)|將傳入的字串序列寫到檔案|\n",
        "|close()|關閉handle|\n",
        "|flush()|沖出(flush)內不I/O緩衝資料到磁碟|\n",
        "|tell()|回傳目前的檔案位置(整數)|\n",
        "|seek(pos)|移動檔案位置(整數)|\n",
        "|closed|如果檔案已關，回傳True|"
      ],
      "metadata": {
        "id": "Zm3sgczEnYEB"
      }
    },
    {
      "cell_type": "code",
      "source": [
        "path='/content/drive/MyDrive/python/tmp.txt'\n",
        "with open('tmp.txt','w') as handle:\n",
        "  handle.writelines(x for x in open(path) if len(x)>1)"
      ],
      "metadata": {
        "id": "f1WUjizcnWbd"
      },
      "execution_count": 76,
      "outputs": []
    },
    {
      "cell_type": "code",
      "source": [
        "with open('tmp.txt') as f:\n",
        "  lines=f.readlines()\n",
        "lines"
      ],
      "metadata": {
        "colab": {
          "base_uri": "https://localhost:8080/"
        },
        "id": "tvo160e0qOkC",
        "outputId": "43fd860a-fdbd-4ce7-8b6b-b661a7e089db"
      },
      "execution_count": 78,
      "outputs": [
        {
          "output_type": "execute_result",
          "data": {
            "text/plain": [
              "['x=rep(1:20,20) \\n',\n",
              " 'y=rep(1:20,each=20) \\n',\n",
              " 'i=1\\n',\n",
              " 'set.seed(i) \\n',\n",
              " 'ind1=sample(1:400,40) \\n',\n",
              " 'ind2=sample(1:400,40) \\n',\n",
              " 'j1xy=cbind(x[ind1],y[ind1]) \\n',\n",
              " 'j2xy=cbind(x[ind2],y[ind2]) \\n',\n",
              " \"a = rep('species1', length(ind1)) \\n\",\n",
              " \"b = rep('species2', length(ind2)) \\n\",\n",
              " 'X <- ppp(x[ind1],y[ind1], window=owin(c(0,20),c(0,20)))\\n',\n",
              " 'density(x,sigma=0.05,eps=1)\\n',\n",
              " 'f=KK$v\\n',\n",
              " 'pp=f/sum(f)']"
            ]
          },
          "metadata": {},
          "execution_count": 78
        }
      ]
    },
    {
      "cell_type": "markdown",
      "source": [
        "# 檔案中的位元組與Unicode"
      ],
      "metadata": {
        "id": "mmI1jD6JtNG0"
      }
    },
    {
      "cell_type": "code",
      "source": [
        "path='/content/drive/MyDrive/python/tmp1.txt'\n",
        "#with open(path) as f:\n",
        "#  chars = f.read(10)\n",
        "#chars\n",
        "#編碼中文問題"
      ],
      "metadata": {
        "id": "ooxf6_retVfw"
      },
      "execution_count": null,
      "outputs": []
    },
    {
      "cell_type": "code",
      "source": [
        "with open(path,'rb') as f:\n",
        "  data=f.read(10)\n",
        "data"
      ],
      "metadata": {
        "colab": {
          "base_uri": "https://localhost:8080/"
        },
        "id": "2F45nkK7thWF",
        "outputId": "73402697-2789-454b-f867-4f7e04eb590e"
      },
      "execution_count": 96,
      "outputs": [
        {
          "output_type": "execute_result",
          "data": {
            "text/plain": [
              "b'Happy new '"
            ]
          },
          "metadata": {},
          "execution_count": 96
        }
      ]
    },
    {
      "cell_type": "code",
      "source": [
        "data.decode('utf-8')"
      ],
      "metadata": {
        "colab": {
          "base_uri": "https://localhost:8080/",
          "height": 36
        },
        "id": "V5UCyoCxtsCN",
        "outputId": "9888d907-3269-4c54-c060-75ccec3f2f65"
      },
      "execution_count": 97,
      "outputs": [
        {
          "output_type": "execute_result",
          "data": {
            "text/plain": [
              "'Happy new '"
            ],
            "application/vnd.google.colaboratory.intrinsic+json": {
              "type": "string"
            }
          },
          "metadata": {},
          "execution_count": 97
        }
      ]
    },
    {
      "cell_type": "code",
      "source": [
        "#path='/content/drive/MyDrive/python'\n",
        "#sink_path='tmp2.txt'\n",
        "#with open(path) as source:\n",
        "#  with open(sink_path,'xt',encoding='iso-8859-1') as sink:\n",
        "#    sink.write(source.read())"
      ],
      "metadata": {
        "id": "G5cluHQywKxy"
      },
      "execution_count": 120,
      "outputs": []
    },
    {
      "cell_type": "code",
      "source": [
        "#sink_path='/content/drive/MyDrive/python/tmp.txt'\n",
        "#with open(sink_path,'xt',encoding='iso-8859-1') as f:\n",
        "#  print(f.read(10))"
      ],
      "metadata": {
        "id": "z4eFwZ4BzIp5"
      },
      "execution_count": 119,
      "outputs": []
    }
  ]
}